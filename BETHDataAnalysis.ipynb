{
 "cells": [
  {
   "cell_type": "code",
   "execution_count": 102,
   "id": "be1f5b16",
   "metadata": {},
   "outputs": [],
   "source": [
    "import numpy as np\n",
    "import pandas as pd\n",
    "import category_encoders as ce\n",
    "from sklearn.metrics import ConfusionMatrixDisplay, confusion_matrix\n",
    "import matplotlib.pyplot as plt"
   ]
  },
  {
   "cell_type": "markdown",
   "id": "6d45c975",
   "metadata": {},
   "source": [
    "# BETH Cybersecurity Dataset"
   ]
  },
  {
   "cell_type": "markdown",
   "id": "7494c1e9",
   "metadata": {},
   "source": [
    "The BETH cybersecurity dataset contains pre-split data of 60% training, 20% validation, and 20% testing data. The researchers performed the pre-split to ensure only the testing dataset contained ‘evil’ (malicious) events. The pre-split dataset configuration is designed to evaluate the anomaly detection algorithm's ability to identify never-before-seen (out-of-distribution) abnormal behavior."
   ]
  },
  {
   "cell_type": "code",
   "execution_count": 103,
   "id": "9379691b",
   "metadata": {},
   "outputs": [],
   "source": [
    "#Load the BETH training dataset to Pandas dataframe\n",
    "df_train = pd.read_csv(\"C:\\\\Users\\\\harri\\\\Desktop\\\\Data Science\\\\BETH\\\\labelled_training_data.csv\")"
   ]
  },
  {
   "cell_type": "code",
   "execution_count": 105,
   "id": "b2a85caf",
   "metadata": {},
   "outputs": [],
   "source": [
    "##Load the BETH validation dataset to Pandas dataframe\n",
    "df_validate = pd.read_csv(\"C:\\\\Users\\\\harri\\\\Desktop\\\\Data Science\\\\BETH\\\\labelled_validation_data.csv\")"
   ]
  },
  {
   "cell_type": "code",
   "execution_count": 104,
   "id": "22c77800",
   "metadata": {},
   "outputs": [],
   "source": [
    "##Load the BETH testing dataset to Pandas dataframe\n",
    "df_test = pd.read_csv(\"C:\\\\Users\\\\harri\\\\Desktop\\\\Data Science\\\\BETH\\\\labelled_testing_data.csv\")"
   ]
  },
  {
   "cell_type": "code",
   "execution_count": 106,
   "id": "cd9b66e4",
   "metadata": {},
   "outputs": [],
   "source": [
    "#Drop nonessential or redundant features from the training dataset\n",
    "df_train = df_train.drop(['timestamp', 'eventName', 'stackAddresses', 'args'], axis=1)"
   ]
  },
  {
   "cell_type": "code",
   "execution_count": 108,
   "id": "4e3b585f",
   "metadata": {},
   "outputs": [],
   "source": [
    "#Drop nonessential or redundant features from the validate dataset\n",
    "df_validate = df_validate.drop(['timestamp', 'eventName', 'stackAddresses', 'args'], axis=1)"
   ]
  },
  {
   "cell_type": "code",
   "execution_count": 107,
   "id": "8cda5a14",
   "metadata": {},
   "outputs": [],
   "source": [
    "#Drop nonessential or redundant features from the testing dataset\n",
    "df_test = df_test.drop(['timestamp', 'eventName', 'stackAddresses', 'args'], axis=1)"
   ]
  },
  {
   "cell_type": "code",
   "execution_count": 109,
   "id": "8731dbd1",
   "metadata": {},
   "outputs": [
    {
     "name": "stdout",
     "output_type": "stream",
     "text": [
      "<class 'pandas.core.frame.DataFrame'>\n",
      "RangeIndex: 188967 entries, 0 to 188966\n",
      "Data columns (total 12 columns):\n",
      " #   Column           Non-Null Count   Dtype \n",
      "---  ------           --------------   ----- \n",
      " 0   processId        188967 non-null  int64 \n",
      " 1   threadId         188967 non-null  int64 \n",
      " 2   parentProcessId  188967 non-null  int64 \n",
      " 3   userId           188967 non-null  int64 \n",
      " 4   mountNamespace   188967 non-null  int64 \n",
      " 5   processName      188967 non-null  object\n",
      " 6   hostName         188967 non-null  object\n",
      " 7   eventId          188967 non-null  int64 \n",
      " 8   argsNum          188967 non-null  int64 \n",
      " 9   returnValue      188967 non-null  int64 \n",
      " 10  sus              188967 non-null  int64 \n",
      " 11  evil             188967 non-null  int64 \n",
      "dtypes: int64(10), object(2)\n",
      "memory usage: 17.3+ MB\n"
     ]
    }
   ],
   "source": [
    "df_validate.info()"
   ]
  },
  {
   "cell_type": "code",
   "execution_count": 110,
   "id": "24d180f6",
   "metadata": {},
   "outputs": [
    {
     "data": {
      "text/html": [
       "<div>\n",
       "<style scoped>\n",
       "    .dataframe tbody tr th:only-of-type {\n",
       "        vertical-align: middle;\n",
       "    }\n",
       "\n",
       "    .dataframe tbody tr th {\n",
       "        vertical-align: top;\n",
       "    }\n",
       "\n",
       "    .dataframe thead th {\n",
       "        text-align: right;\n",
       "    }\n",
       "</style>\n",
       "<table border=\"1\" class=\"dataframe\">\n",
       "  <thead>\n",
       "    <tr style=\"text-align: right;\">\n",
       "      <th></th>\n",
       "      <th>processId</th>\n",
       "      <th>threadId</th>\n",
       "      <th>parentProcessId</th>\n",
       "      <th>userId</th>\n",
       "      <th>mountNamespace</th>\n",
       "      <th>processName</th>\n",
       "      <th>hostName</th>\n",
       "      <th>eventId</th>\n",
       "      <th>argsNum</th>\n",
       "      <th>returnValue</th>\n",
       "      <th>sus</th>\n",
       "      <th>evil</th>\n",
       "    </tr>\n",
       "  </thead>\n",
       "  <tbody>\n",
       "    <tr>\n",
       "      <th>0</th>\n",
       "      <td>382</td>\n",
       "      <td>382</td>\n",
       "      <td>1</td>\n",
       "      <td>101</td>\n",
       "      <td>4026532232</td>\n",
       "      <td>systemd-resolve</td>\n",
       "      <td>ip-10-100-1-217</td>\n",
       "      <td>41</td>\n",
       "      <td>3</td>\n",
       "      <td>15</td>\n",
       "      <td>0</td>\n",
       "      <td>0</td>\n",
       "    </tr>\n",
       "    <tr>\n",
       "      <th>1</th>\n",
       "      <td>379</td>\n",
       "      <td>379</td>\n",
       "      <td>1</td>\n",
       "      <td>100</td>\n",
       "      <td>4026532231</td>\n",
       "      <td>systemd-network</td>\n",
       "      <td>ip-10-100-1-217</td>\n",
       "      <td>41</td>\n",
       "      <td>3</td>\n",
       "      <td>15</td>\n",
       "      <td>0</td>\n",
       "      <td>0</td>\n",
       "    </tr>\n",
       "    <tr>\n",
       "      <th>2</th>\n",
       "      <td>1</td>\n",
       "      <td>1</td>\n",
       "      <td>0</td>\n",
       "      <td>0</td>\n",
       "      <td>4026531840</td>\n",
       "      <td>systemd</td>\n",
       "      <td>ip-10-100-1-217</td>\n",
       "      <td>1005</td>\n",
       "      <td>4</td>\n",
       "      <td>0</td>\n",
       "      <td>0</td>\n",
       "      <td>0</td>\n",
       "    </tr>\n",
       "    <tr>\n",
       "      <th>3</th>\n",
       "      <td>1</td>\n",
       "      <td>1</td>\n",
       "      <td>0</td>\n",
       "      <td>0</td>\n",
       "      <td>4026531840</td>\n",
       "      <td>systemd</td>\n",
       "      <td>ip-10-100-1-217</td>\n",
       "      <td>257</td>\n",
       "      <td>4</td>\n",
       "      <td>17</td>\n",
       "      <td>0</td>\n",
       "      <td>0</td>\n",
       "    </tr>\n",
       "    <tr>\n",
       "      <th>4</th>\n",
       "      <td>1</td>\n",
       "      <td>1</td>\n",
       "      <td>0</td>\n",
       "      <td>0</td>\n",
       "      <td>4026531840</td>\n",
       "      <td>systemd</td>\n",
       "      <td>ip-10-100-1-217</td>\n",
       "      <td>5</td>\n",
       "      <td>2</td>\n",
       "      <td>0</td>\n",
       "      <td>0</td>\n",
       "      <td>0</td>\n",
       "    </tr>\n",
       "    <tr>\n",
       "      <th>5</th>\n",
       "      <td>1</td>\n",
       "      <td>1</td>\n",
       "      <td>0</td>\n",
       "      <td>0</td>\n",
       "      <td>4026531840</td>\n",
       "      <td>systemd</td>\n",
       "      <td>ip-10-100-1-217</td>\n",
       "      <td>3</td>\n",
       "      <td>1</td>\n",
       "      <td>0</td>\n",
       "      <td>0</td>\n",
       "      <td>0</td>\n",
       "    </tr>\n",
       "    <tr>\n",
       "      <th>6</th>\n",
       "      <td>1</td>\n",
       "      <td>1</td>\n",
       "      <td>0</td>\n",
       "      <td>0</td>\n",
       "      <td>4026531840</td>\n",
       "      <td>systemd</td>\n",
       "      <td>ip-10-100-1-217</td>\n",
       "      <td>1005</td>\n",
       "      <td>4</td>\n",
       "      <td>0</td>\n",
       "      <td>0</td>\n",
       "      <td>0</td>\n",
       "    </tr>\n",
       "    <tr>\n",
       "      <th>7</th>\n",
       "      <td>1</td>\n",
       "      <td>1</td>\n",
       "      <td>0</td>\n",
       "      <td>0</td>\n",
       "      <td>4026531840</td>\n",
       "      <td>systemd</td>\n",
       "      <td>ip-10-100-1-217</td>\n",
       "      <td>257</td>\n",
       "      <td>4</td>\n",
       "      <td>17</td>\n",
       "      <td>0</td>\n",
       "      <td>0</td>\n",
       "    </tr>\n",
       "    <tr>\n",
       "      <th>8</th>\n",
       "      <td>1</td>\n",
       "      <td>1</td>\n",
       "      <td>0</td>\n",
       "      <td>0</td>\n",
       "      <td>4026531840</td>\n",
       "      <td>systemd</td>\n",
       "      <td>ip-10-100-1-217</td>\n",
       "      <td>5</td>\n",
       "      <td>2</td>\n",
       "      <td>0</td>\n",
       "      <td>0</td>\n",
       "      <td>0</td>\n",
       "    </tr>\n",
       "    <tr>\n",
       "      <th>9</th>\n",
       "      <td>1</td>\n",
       "      <td>1</td>\n",
       "      <td>0</td>\n",
       "      <td>0</td>\n",
       "      <td>4026531840</td>\n",
       "      <td>systemd</td>\n",
       "      <td>ip-10-100-1-217</td>\n",
       "      <td>3</td>\n",
       "      <td>1</td>\n",
       "      <td>0</td>\n",
       "      <td>0</td>\n",
       "      <td>0</td>\n",
       "    </tr>\n",
       "  </tbody>\n",
       "</table>\n",
       "</div>"
      ],
      "text/plain": [
       "   processId  threadId  parentProcessId  userId  mountNamespace  \\\n",
       "0        382       382                1     101      4026532232   \n",
       "1        379       379                1     100      4026532231   \n",
       "2          1         1                0       0      4026531840   \n",
       "3          1         1                0       0      4026531840   \n",
       "4          1         1                0       0      4026531840   \n",
       "5          1         1                0       0      4026531840   \n",
       "6          1         1                0       0      4026531840   \n",
       "7          1         1                0       0      4026531840   \n",
       "8          1         1                0       0      4026531840   \n",
       "9          1         1                0       0      4026531840   \n",
       "\n",
       "       processName         hostName  eventId  argsNum  returnValue  sus  evil  \n",
       "0  systemd-resolve  ip-10-100-1-217       41        3           15    0     0  \n",
       "1  systemd-network  ip-10-100-1-217       41        3           15    0     0  \n",
       "2          systemd  ip-10-100-1-217     1005        4            0    0     0  \n",
       "3          systemd  ip-10-100-1-217      257        4           17    0     0  \n",
       "4          systemd  ip-10-100-1-217        5        2            0    0     0  \n",
       "5          systemd  ip-10-100-1-217        3        1            0    0     0  \n",
       "6          systemd  ip-10-100-1-217     1005        4            0    0     0  \n",
       "7          systemd  ip-10-100-1-217      257        4           17    0     0  \n",
       "8          systemd  ip-10-100-1-217        5        2            0    0     0  \n",
       "9          systemd  ip-10-100-1-217        3        1            0    0     0  "
      ]
     },
     "execution_count": 110,
     "metadata": {},
     "output_type": "execute_result"
    }
   ],
   "source": [
    "df_test.head(10)"
   ]
  },
  {
   "cell_type": "markdown",
   "id": "0e178ba0",
   "metadata": {},
   "source": [
    "## Variable Encoding"
   ]
  },
  {
   "cell_type": "markdown",
   "id": "e26c4af8",
   "metadata": {},
   "source": [
    "Many of the BETH datset features have many levels (high cardinality). For example, the training dataset 'processName' variable has 36 levels. Interestingly, the testing dataset 'processName' variable has 244 levels. Both are shown on the next lines."
   ]
  },
  {
   "cell_type": "markdown",
   "id": "e494f7e8",
   "metadata": {},
   "source": [
    "### High cardinality variables"
   ]
  },
  {
   "cell_type": "code",
   "execution_count": 111,
   "id": "e6fa5a98",
   "metadata": {},
   "outputs": [
    {
     "data": {
      "text/plain": [
       "36"
      ]
     },
     "execution_count": 111,
     "metadata": {},
     "output_type": "execute_result"
    }
   ],
   "source": [
    "df_train.value_counts('processName').size"
   ]
  },
  {
   "cell_type": "code",
   "execution_count": 112,
   "id": "1cbef5ad",
   "metadata": {},
   "outputs": [
    {
     "data": {
      "text/plain": [
       "244"
      ]
     },
     "execution_count": 112,
     "metadata": {},
     "output_type": "execute_result"
    }
   ],
   "source": [
    "df_test.value_counts('processName').size"
   ]
  },
  {
   "cell_type": "markdown",
   "id": "7aff9499",
   "metadata": {},
   "source": [
    "### Hash Encoding"
   ]
  },
  {
   "cell_type": "markdown",
   "id": "fb5430db",
   "metadata": {},
   "source": [
    "Hash encode non-numeric variables: high cardinality 'processName' with 'hostName' categorical variable"
   ]
  },
  {
   "cell_type": "code",
   "execution_count": 113,
   "id": "fddfff58",
   "metadata": {},
   "outputs": [],
   "source": [
    "enc = ce.HashingEncoder(n_components=8, cols=['processName', 'hostName'])"
   ]
  },
  {
   "cell_type": "code",
   "execution_count": 114,
   "id": "dcf74922",
   "metadata": {},
   "outputs": [],
   "source": [
    "df_train_enc = enc.fit_transform(df_train)"
   ]
  },
  {
   "cell_type": "code",
   "execution_count": 116,
   "id": "8b71d1ee",
   "metadata": {},
   "outputs": [],
   "source": [
    "df_validate_enc = enc.fit_transform(df_validate)"
   ]
  },
  {
   "cell_type": "code",
   "execution_count": 115,
   "id": "90bd4447",
   "metadata": {},
   "outputs": [],
   "source": [
    "df_test_enc = enc.fit_transform(df_test)"
   ]
  },
  {
   "cell_type": "code",
   "execution_count": 117,
   "id": "fe2f07d3",
   "metadata": {},
   "outputs": [
    {
     "data": {
      "text/html": [
       "<div>\n",
       "<style scoped>\n",
       "    .dataframe tbody tr th:only-of-type {\n",
       "        vertical-align: middle;\n",
       "    }\n",
       "\n",
       "    .dataframe tbody tr th {\n",
       "        vertical-align: top;\n",
       "    }\n",
       "\n",
       "    .dataframe thead th {\n",
       "        text-align: right;\n",
       "    }\n",
       "</style>\n",
       "<table border=\"1\" class=\"dataframe\">\n",
       "  <thead>\n",
       "    <tr style=\"text-align: right;\">\n",
       "      <th></th>\n",
       "      <th>col_0</th>\n",
       "      <th>col_1</th>\n",
       "      <th>col_2</th>\n",
       "      <th>col_3</th>\n",
       "      <th>col_4</th>\n",
       "      <th>col_5</th>\n",
       "      <th>col_6</th>\n",
       "      <th>col_7</th>\n",
       "      <th>processId</th>\n",
       "      <th>threadId</th>\n",
       "      <th>parentProcessId</th>\n",
       "      <th>userId</th>\n",
       "      <th>mountNamespace</th>\n",
       "      <th>eventId</th>\n",
       "      <th>argsNum</th>\n",
       "      <th>returnValue</th>\n",
       "      <th>sus</th>\n",
       "      <th>evil</th>\n",
       "    </tr>\n",
       "  </thead>\n",
       "  <tbody>\n",
       "    <tr>\n",
       "      <th>0</th>\n",
       "      <td>0</td>\n",
       "      <td>1</td>\n",
       "      <td>0</td>\n",
       "      <td>0</td>\n",
       "      <td>0</td>\n",
       "      <td>0</td>\n",
       "      <td>0</td>\n",
       "      <td>1</td>\n",
       "      <td>381</td>\n",
       "      <td>7337</td>\n",
       "      <td>1</td>\n",
       "      <td>100</td>\n",
       "      <td>4026532231</td>\n",
       "      <td>157</td>\n",
       "      <td>5</td>\n",
       "      <td>0</td>\n",
       "      <td>1</td>\n",
       "      <td>0</td>\n",
       "    </tr>\n",
       "    <tr>\n",
       "      <th>1</th>\n",
       "      <td>0</td>\n",
       "      <td>1</td>\n",
       "      <td>0</td>\n",
       "      <td>0</td>\n",
       "      <td>0</td>\n",
       "      <td>0</td>\n",
       "      <td>0</td>\n",
       "      <td>1</td>\n",
       "      <td>381</td>\n",
       "      <td>7337</td>\n",
       "      <td>1</td>\n",
       "      <td>100</td>\n",
       "      <td>4026532231</td>\n",
       "      <td>3</td>\n",
       "      <td>1</td>\n",
       "      <td>0</td>\n",
       "      <td>1</td>\n",
       "      <td>0</td>\n",
       "    </tr>\n",
       "    <tr>\n",
       "      <th>2</th>\n",
       "      <td>0</td>\n",
       "      <td>1</td>\n",
       "      <td>0</td>\n",
       "      <td>0</td>\n",
       "      <td>0</td>\n",
       "      <td>0</td>\n",
       "      <td>0</td>\n",
       "      <td>1</td>\n",
       "      <td>381</td>\n",
       "      <td>7337</td>\n",
       "      <td>1</td>\n",
       "      <td>100</td>\n",
       "      <td>4026532231</td>\n",
       "      <td>1010</td>\n",
       "      <td>0</td>\n",
       "      <td>0</td>\n",
       "      <td>1</td>\n",
       "      <td>0</td>\n",
       "    </tr>\n",
       "    <tr>\n",
       "      <th>3</th>\n",
       "      <td>0</td>\n",
       "      <td>1</td>\n",
       "      <td>0</td>\n",
       "      <td>1</td>\n",
       "      <td>0</td>\n",
       "      <td>0</td>\n",
       "      <td>0</td>\n",
       "      <td>0</td>\n",
       "      <td>7347</td>\n",
       "      <td>7347</td>\n",
       "      <td>7341</td>\n",
       "      <td>0</td>\n",
       "      <td>4026531840</td>\n",
       "      <td>21</td>\n",
       "      <td>2</td>\n",
       "      <td>-2</td>\n",
       "      <td>1</td>\n",
       "      <td>0</td>\n",
       "    </tr>\n",
       "    <tr>\n",
       "      <th>4</th>\n",
       "      <td>0</td>\n",
       "      <td>1</td>\n",
       "      <td>0</td>\n",
       "      <td>1</td>\n",
       "      <td>0</td>\n",
       "      <td>0</td>\n",
       "      <td>0</td>\n",
       "      <td>0</td>\n",
       "      <td>7347</td>\n",
       "      <td>7347</td>\n",
       "      <td>7341</td>\n",
       "      <td>0</td>\n",
       "      <td>4026531840</td>\n",
       "      <td>1005</td>\n",
       "      <td>4</td>\n",
       "      <td>0</td>\n",
       "      <td>1</td>\n",
       "      <td>0</td>\n",
       "    </tr>\n",
       "    <tr>\n",
       "      <th>...</th>\n",
       "      <td>...</td>\n",
       "      <td>...</td>\n",
       "      <td>...</td>\n",
       "      <td>...</td>\n",
       "      <td>...</td>\n",
       "      <td>...</td>\n",
       "      <td>...</td>\n",
       "      <td>...</td>\n",
       "      <td>...</td>\n",
       "      <td>...</td>\n",
       "      <td>...</td>\n",
       "      <td>...</td>\n",
       "      <td>...</td>\n",
       "      <td>...</td>\n",
       "      <td>...</td>\n",
       "      <td>...</td>\n",
       "      <td>...</td>\n",
       "      <td>...</td>\n",
       "    </tr>\n",
       "    <tr>\n",
       "      <th>763139</th>\n",
       "      <td>0</td>\n",
       "      <td>1</td>\n",
       "      <td>0</td>\n",
       "      <td>0</td>\n",
       "      <td>1</td>\n",
       "      <td>0</td>\n",
       "      <td>0</td>\n",
       "      <td>0</td>\n",
       "      <td>7274</td>\n",
       "      <td>7274</td>\n",
       "      <td>7108</td>\n",
       "      <td>0</td>\n",
       "      <td>4026531840</td>\n",
       "      <td>1003</td>\n",
       "      <td>1</td>\n",
       "      <td>0</td>\n",
       "      <td>0</td>\n",
       "      <td>0</td>\n",
       "    </tr>\n",
       "    <tr>\n",
       "      <th>763140</th>\n",
       "      <td>0</td>\n",
       "      <td>1</td>\n",
       "      <td>0</td>\n",
       "      <td>0</td>\n",
       "      <td>1</td>\n",
       "      <td>0</td>\n",
       "      <td>0</td>\n",
       "      <td>0</td>\n",
       "      <td>7274</td>\n",
       "      <td>7274</td>\n",
       "      <td>7108</td>\n",
       "      <td>0</td>\n",
       "      <td>4026531840</td>\n",
       "      <td>62</td>\n",
       "      <td>2</td>\n",
       "      <td>0</td>\n",
       "      <td>0</td>\n",
       "      <td>0</td>\n",
       "    </tr>\n",
       "    <tr>\n",
       "      <th>763141</th>\n",
       "      <td>0</td>\n",
       "      <td>1</td>\n",
       "      <td>0</td>\n",
       "      <td>0</td>\n",
       "      <td>1</td>\n",
       "      <td>0</td>\n",
       "      <td>0</td>\n",
       "      <td>0</td>\n",
       "      <td>7274</td>\n",
       "      <td>7274</td>\n",
       "      <td>7108</td>\n",
       "      <td>0</td>\n",
       "      <td>4026531840</td>\n",
       "      <td>1010</td>\n",
       "      <td>0</td>\n",
       "      <td>0</td>\n",
       "      <td>0</td>\n",
       "      <td>0</td>\n",
       "    </tr>\n",
       "    <tr>\n",
       "      <th>763142</th>\n",
       "      <td>0</td>\n",
       "      <td>1</td>\n",
       "      <td>0</td>\n",
       "      <td>0</td>\n",
       "      <td>1</td>\n",
       "      <td>0</td>\n",
       "      <td>0</td>\n",
       "      <td>0</td>\n",
       "      <td>7275</td>\n",
       "      <td>7275</td>\n",
       "      <td>1</td>\n",
       "      <td>109</td>\n",
       "      <td>4026531840</td>\n",
       "      <td>1010</td>\n",
       "      <td>0</td>\n",
       "      <td>0</td>\n",
       "      <td>0</td>\n",
       "      <td>0</td>\n",
       "    </tr>\n",
       "    <tr>\n",
       "      <th>763143</th>\n",
       "      <td>0</td>\n",
       "      <td>1</td>\n",
       "      <td>0</td>\n",
       "      <td>0</td>\n",
       "      <td>1</td>\n",
       "      <td>0</td>\n",
       "      <td>0</td>\n",
       "      <td>0</td>\n",
       "      <td>7108</td>\n",
       "      <td>7108</td>\n",
       "      <td>1</td>\n",
       "      <td>0</td>\n",
       "      <td>4026531840</td>\n",
       "      <td>3</td>\n",
       "      <td>1</td>\n",
       "      <td>0</td>\n",
       "      <td>0</td>\n",
       "      <td>0</td>\n",
       "    </tr>\n",
       "  </tbody>\n",
       "</table>\n",
       "<p>763144 rows × 18 columns</p>\n",
       "</div>"
      ],
      "text/plain": [
       "        col_0  col_1  col_2  col_3  col_4  col_5  col_6  col_7  processId  \\\n",
       "0           0      1      0      0      0      0      0      1        381   \n",
       "1           0      1      0      0      0      0      0      1        381   \n",
       "2           0      1      0      0      0      0      0      1        381   \n",
       "3           0      1      0      1      0      0      0      0       7347   \n",
       "4           0      1      0      1      0      0      0      0       7347   \n",
       "...       ...    ...    ...    ...    ...    ...    ...    ...        ...   \n",
       "763139      0      1      0      0      1      0      0      0       7274   \n",
       "763140      0      1      0      0      1      0      0      0       7274   \n",
       "763141      0      1      0      0      1      0      0      0       7274   \n",
       "763142      0      1      0      0      1      0      0      0       7275   \n",
       "763143      0      1      0      0      1      0      0      0       7108   \n",
       "\n",
       "        threadId  parentProcessId  userId  mountNamespace  eventId  argsNum  \\\n",
       "0           7337                1     100      4026532231      157        5   \n",
       "1           7337                1     100      4026532231        3        1   \n",
       "2           7337                1     100      4026532231     1010        0   \n",
       "3           7347             7341       0      4026531840       21        2   \n",
       "4           7347             7341       0      4026531840     1005        4   \n",
       "...          ...              ...     ...             ...      ...      ...   \n",
       "763139      7274             7108       0      4026531840     1003        1   \n",
       "763140      7274             7108       0      4026531840       62        2   \n",
       "763141      7274             7108       0      4026531840     1010        0   \n",
       "763142      7275                1     109      4026531840     1010        0   \n",
       "763143      7108                1       0      4026531840        3        1   \n",
       "\n",
       "        returnValue  sus  evil  \n",
       "0                 0    1     0  \n",
       "1                 0    1     0  \n",
       "2                 0    1     0  \n",
       "3                -2    1     0  \n",
       "4                 0    1     0  \n",
       "...             ...  ...   ...  \n",
       "763139            0    0     0  \n",
       "763140            0    0     0  \n",
       "763141            0    0     0  \n",
       "763142            0    0     0  \n",
       "763143            0    0     0  \n",
       "\n",
       "[763144 rows x 18 columns]"
      ]
     },
     "execution_count": 117,
     "metadata": {},
     "output_type": "execute_result"
    }
   ],
   "source": [
    "df_train_enc"
   ]
  },
  {
   "cell_type": "markdown",
   "id": "f7aa944c",
   "metadata": {},
   "source": [
    "#### Now, all variables are numeric"
   ]
  },
  {
   "cell_type": "code",
   "execution_count": 118,
   "id": "aa03ed83",
   "metadata": {},
   "outputs": [
    {
     "name": "stdout",
     "output_type": "stream",
     "text": [
      "<class 'pandas.core.frame.DataFrame'>\n",
      "RangeIndex: 763144 entries, 0 to 763143\n",
      "Data columns (total 18 columns):\n",
      " #   Column           Non-Null Count   Dtype\n",
      "---  ------           --------------   -----\n",
      " 0   col_0            763144 non-null  int64\n",
      " 1   col_1            763144 non-null  int64\n",
      " 2   col_2            763144 non-null  int64\n",
      " 3   col_3            763144 non-null  int64\n",
      " 4   col_4            763144 non-null  int64\n",
      " 5   col_5            763144 non-null  int64\n",
      " 6   col_6            763144 non-null  int64\n",
      " 7   col_7            763144 non-null  int64\n",
      " 8   processId        763144 non-null  int64\n",
      " 9   threadId         763144 non-null  int64\n",
      " 10  parentProcessId  763144 non-null  int64\n",
      " 11  userId           763144 non-null  int64\n",
      " 12  mountNamespace   763144 non-null  int64\n",
      " 13  eventId          763144 non-null  int64\n",
      " 14  argsNum          763144 non-null  int64\n",
      " 15  returnValue      763144 non-null  int64\n",
      " 16  sus              763144 non-null  int64\n",
      " 17  evil             763144 non-null  int64\n",
      "dtypes: int64(18)\n",
      "memory usage: 104.8 MB\n"
     ]
    }
   ],
   "source": [
    "df_train_enc.info()"
   ]
  },
  {
   "cell_type": "markdown",
   "id": "c7b7ad9c",
   "metadata": {},
   "source": [
    "## Data Transformations"
   ]
  },
  {
   "cell_type": "markdown",
   "id": "00e9be1a",
   "metadata": {},
   "source": [
    "Feature engineering recommended by Highnam et al. (2021) to reduce cardinality and normalize"
   ]
  },
  {
   "cell_type": "code",
   "execution_count": 131,
   "id": "cb4ed2d8",
   "metadata": {},
   "outputs": [],
   "source": [
    "#Create new dataframes for feature engineering\n",
    "df_train_eng = df_train_enc.copy()\n",
    "df_test_eng = df_test_enc.copy()\n",
    "df_validate_eng = df_validate_enc.copy()"
   ]
  },
  {
   "cell_type": "markdown",
   "id": "ba0ed30b",
   "metadata": {},
   "source": [
    "### Transform 'mountNamespace' variable to binary"
   ]
  },
  {
   "cell_type": "markdown",
   "id": "6ab2433a",
   "metadata": {},
   "source": [
    "Transform mountNamespace to binary variable (1 = user account had access to mnt/ directory, 0 = Operating System mountspace)"
   ]
  },
  {
   "cell_type": "code",
   "execution_count": 133,
   "id": "ef531b95",
   "metadata": {},
   "outputs": [],
   "source": [
    "df_train_eng[\"mountNamespace\"] = df_train_eng[\"mountNamespace\"].map(lambda x: 1 if x == 4026531840 else 0)  "
   ]
  },
  {
   "cell_type": "code",
   "execution_count": 138,
   "id": "4f8383b8",
   "metadata": {},
   "outputs": [],
   "source": [
    "df_validate_eng[\"mountNamespace\"] = df_validate_eng[\"mountNamespace\"].map(lambda x: 1 if x == 4026531840 else 0)"
   ]
  },
  {
   "cell_type": "code",
   "execution_count": 136,
   "id": "8d9d280c",
   "metadata": {},
   "outputs": [],
   "source": [
    "df_test_eng[\"mountNamespace\"] = df_test_eng[\"mountNamespace\"].map(lambda x: 1 if x == 4026531840 else 0)"
   ]
  },
  {
   "cell_type": "code",
   "execution_count": 143,
   "id": "83732da1",
   "metadata": {},
   "outputs": [
    {
     "data": {
      "text/plain": [
       "1    567496\n",
       "0    195648\n",
       "Name: mountNamespace, dtype: int64"
      ]
     },
     "execution_count": 143,
     "metadata": {},
     "output_type": "execute_result"
    }
   ],
   "source": [
    "df_train_eng.mountNamespace.value_counts()"
   ]
  },
  {
   "cell_type": "code",
   "execution_count": 144,
   "id": "f0b73ee9",
   "metadata": {},
   "outputs": [
    {
     "data": {
      "text/plain": [
       "0    143962\n",
       "1     45005\n",
       "Name: mountNamespace, dtype: int64"
      ]
     },
     "execution_count": 144,
     "metadata": {},
     "output_type": "execute_result"
    }
   ],
   "source": [
    "df_validate_eng.mountNamespace.value_counts()"
   ]
  },
  {
   "cell_type": "code",
   "execution_count": 142,
   "id": "76dc6b8a",
   "metadata": {},
   "outputs": [
    {
     "data": {
      "text/plain": [
       "1    188636\n",
       "0       331\n",
       "Name: mountNamespace, dtype: int64"
      ]
     },
     "execution_count": 142,
     "metadata": {},
     "output_type": "execute_result"
    }
   ],
   "source": [
    "df_test_eng.mountNamespace.value_counts()"
   ]
  },
  {
   "cell_type": "markdown",
   "id": "c17b75c7",
   "metadata": {},
   "source": [
    "### Transform 'returnValue' to trinary"
   ]
  },
  {
   "cell_type": "markdown",
   "id": "fd15452d",
   "metadata": {},
   "source": [
    "The returnValue (process exit status) transformed to trinary variable (-1 = errors, 0 = success, 1 = success with information sent to parent process)"
   ]
  },
  {
   "cell_type": "code",
   "execution_count": 147,
   "id": "c007e350",
   "metadata": {},
   "outputs": [],
   "source": [
    "df_train_eng[\"returnValue\"] = df_train_eng[\"returnValue\"].map(lambda x: -1 if x < 0 else (0 if x == 0 else 1))"
   ]
  },
  {
   "cell_type": "code",
   "execution_count": 153,
   "id": "984a7e85",
   "metadata": {},
   "outputs": [],
   "source": [
    "df_validate_eng[\"returnValue\"] = df_validate_eng[\"returnValue\"].map(lambda x: -1 if x < 0 else (0 if x == 0 else 1))"
   ]
  },
  {
   "cell_type": "code",
   "execution_count": 150,
   "id": "d36703de",
   "metadata": {},
   "outputs": [],
   "source": [
    "df_test_eng[\"returnValue\"] = df_test_eng[\"returnValue\"].map(lambda x: -1 if x < 0 else (0 if x == 0 else 1))"
   ]
  },
  {
   "cell_type": "code",
   "execution_count": 154,
   "id": "6bb58d70",
   "metadata": {},
   "outputs": [
    {
     "data": {
      "text/plain": [
       " 0    123756\n",
       " 1     54129\n",
       "-1     11082\n",
       "Name: returnValue, dtype: int64"
      ]
     },
     "execution_count": 154,
     "metadata": {},
     "output_type": "execute_result"
    }
   ],
   "source": [
    "df_validate_eng.returnValue.value_counts()"
   ]
  },
  {
   "cell_type": "markdown",
   "id": "48ab7242",
   "metadata": {},
   "source": [
    "### Transform 'processId' to binary"
   ]
  },
  {
   "cell_type": "markdown",
   "id": "3fcc7bd6",
   "metadata": {},
   "source": [
    "Process IDs 0, 1, 2 are operating system processes, other IDs are randomly assigned at process creation. Non-OS processes are not as important for malicious activity detection."
   ]
  },
  {
   "cell_type": "code",
   "execution_count": 156,
   "id": "ebc715e3",
   "metadata": {},
   "outputs": [],
   "source": [
    "df_train_eng.processId[df_train_eng.processId == 0] = 1\n",
    "df_train_eng.processId[df_train_eng.processId == 2] = 1\n",
    "df_train_eng.processId[df_train_eng.processId > 2] = 0"
   ]
  },
  {
   "cell_type": "code",
   "execution_count": 161,
   "id": "7e858872",
   "metadata": {},
   "outputs": [],
   "source": [
    "df_validate_eng.processId[df_validate_eng.processId == 0] = 1\n",
    "df_validate_eng.processId[df_validate_eng.processId == 2] = 1\n",
    "df_validate_eng.processId[df_validate_eng.processId > 2] = 0"
   ]
  },
  {
   "cell_type": "code",
   "execution_count": 159,
   "id": "11737a7d",
   "metadata": {},
   "outputs": [],
   "source": [
    "df_test_eng.processId[df_test_eng.processId == 0] = 1\n",
    "df_test_eng.processId[df_test_eng.processId == 2] = 1\n",
    "df_test_eng.processId[df_test_eng.processId > 2] = 0"
   ]
  },
  {
   "cell_type": "code",
   "execution_count": 162,
   "id": "c9effc85",
   "metadata": {},
   "outputs": [
    {
     "data": {
      "text/plain": [
       "0    184393\n",
       "1      4574\n",
       "Name: processId, dtype: int64"
      ]
     },
     "execution_count": 162,
     "metadata": {},
     "output_type": "execute_result"
    }
   ],
   "source": [
    "df_validate_eng.processId.value_counts()"
   ]
  },
  {
   "cell_type": "markdown",
   "id": "1bc2d237",
   "metadata": {},
   "source": [
    "### Transform 'parentProcessId' to binary"
   ]
  },
  {
   "cell_type": "markdown",
   "id": "e9237dd1",
   "metadata": {},
   "source": [
    "Parent process IDs 0, 1, 2 are operating system processes, other IDs are randomly assigned at process creation. Non-OS processes/parent processes are not as important for malicious activity detection."
   ]
  },
  {
   "cell_type": "code",
   "execution_count": 165,
   "id": "f452811c",
   "metadata": {},
   "outputs": [],
   "source": [
    "df_train_eng[\"parentProcessId\"] = df_train_eng[\"parentProcessId\"].map(lambda x: 1 if x in [0, 1, 2] else 0)"
   ]
  },
  {
   "cell_type": "code",
   "execution_count": 171,
   "id": "38325e5f",
   "metadata": {},
   "outputs": [],
   "source": [
    "df_validate_eng[\"parentProcessId\"] = df_validate_eng[\"parentProcessId\"].map(lambda x: 1 if x in [0, 1, 2] else 0)"
   ]
  },
  {
   "cell_type": "code",
   "execution_count": 168,
   "id": "28410b23",
   "metadata": {},
   "outputs": [],
   "source": [
    "df_test_eng[\"parentProcessId\"] = df_test_eng[\"parentProcessId\"].map(lambda x: 1 if x in [0, 1, 2] else 0)"
   ]
  },
  {
   "cell_type": "code",
   "execution_count": 166,
   "id": "ecf05d92",
   "metadata": {},
   "outputs": [
    {
     "data": {
      "text/plain": [
       "0    683590\n",
       "1     79554\n",
       "Name: parentProcessId, dtype: int64"
      ]
     },
     "execution_count": 166,
     "metadata": {},
     "output_type": "execute_result"
    }
   ],
   "source": [
    "df_train_eng.parentProcessId.value_counts()"
   ]
  },
  {
   "cell_type": "code",
   "execution_count": 173,
   "id": "9815ecaa",
   "metadata": {},
   "outputs": [
    {
     "data": {
      "text/plain": [
       "0    174364\n",
       "1     14603\n",
       "Name: parentProcessId, dtype: int64"
      ]
     },
     "execution_count": 173,
     "metadata": {},
     "output_type": "execute_result"
    }
   ],
   "source": [
    "df_validate_eng.parentProcessId.value_counts()"
   ]
  },
  {
   "cell_type": "code",
   "execution_count": 174,
   "id": "f1a386c6",
   "metadata": {},
   "outputs": [
    {
     "data": {
      "text/plain": [
       "0    179613\n",
       "1      9354\n",
       "Name: parentProcessId, dtype: int64"
      ]
     },
     "execution_count": 174,
     "metadata": {},
     "output_type": "execute_result"
    }
   ],
   "source": [
    "df_test_eng.parentProcessId.value_counts()"
   ]
  },
  {
   "cell_type": "markdown",
   "id": "9f7b5312",
   "metadata": {},
   "source": [
    "### Transform 'userId' to binary"
   ]
  },
  {
   "cell_type": "markdown",
   "id": "92dcee15",
   "metadata": {},
   "source": [
    "The Linux operating system is usually assigned an userId of 0 or at least below 1000. Actual users are assigned userIds starting at 1000 at login. Thus, OS activity will have userIds less than 1000 while logged-in user activity will have userIds equal to or greater than 1000. The analysis will focus on OS userId activity to detect malicious behavior."
   ]
  },
  {
   "cell_type": "code",
   "execution_count": 176,
   "id": "01cedc5d",
   "metadata": {},
   "outputs": [],
   "source": [
    "df_train_eng[\"userId\"] = df_train_eng[\"userId\"].map(lambda x: 1 if x < 1000 else 0)"
   ]
  },
  {
   "cell_type": "code",
   "execution_count": 183,
   "id": "c1e514c2",
   "metadata": {},
   "outputs": [],
   "source": [
    "df_validate_eng[\"userId\"] = df_validate_eng[\"userId\"].map(lambda x: 1 if x < 1000 else 0)"
   ]
  },
  {
   "cell_type": "code",
   "execution_count": 180,
   "id": "757d85eb",
   "metadata": {},
   "outputs": [],
   "source": [
    "df_test_eng[\"userId\"] = df_test_eng[\"userId\"].map(lambda x: 1 if x < 1000 else 0)"
   ]
  },
  {
   "cell_type": "code",
   "execution_count": 185,
   "id": "09128b08",
   "metadata": {},
   "outputs": [
    {
     "data": {
      "text/plain": [
       "1    762148\n",
       "0       996\n",
       "Name: userId, dtype: int64"
      ]
     },
     "execution_count": 185,
     "metadata": {},
     "output_type": "execute_result"
    }
   ],
   "source": [
    "df_train_eng.userId.value_counts()"
   ]
  },
  {
   "cell_type": "code",
   "execution_count": 184,
   "id": "68858d50",
   "metadata": {},
   "outputs": [
    {
     "data": {
      "text/plain": [
       "1    188190\n",
       "0       777\n",
       "Name: userId, dtype: int64"
      ]
     },
     "execution_count": 184,
     "metadata": {},
     "output_type": "execute_result"
    }
   ],
   "source": [
    "df_validate_eng.userId.value_counts()"
   ]
  },
  {
   "cell_type": "code",
   "execution_count": 186,
   "id": "f6d99601",
   "metadata": {},
   "outputs": [
    {
     "data": {
      "text/plain": [
       "0    161251\n",
       "1     27716\n",
       "Name: userId, dtype: int64"
      ]
     },
     "execution_count": 186,
     "metadata": {},
     "output_type": "execute_result"
    }
   ],
   "source": [
    "df_test_eng.userId.value_counts()"
   ]
  },
  {
   "cell_type": "code",
   "execution_count": 188,
   "id": "af9759c6",
   "metadata": {},
   "outputs": [
    {
     "data": {
      "text/html": [
       "<div>\n",
       "<style scoped>\n",
       "    .dataframe tbody tr th:only-of-type {\n",
       "        vertical-align: middle;\n",
       "    }\n",
       "\n",
       "    .dataframe tbody tr th {\n",
       "        vertical-align: top;\n",
       "    }\n",
       "\n",
       "    .dataframe thead th {\n",
       "        text-align: right;\n",
       "    }\n",
       "</style>\n",
       "<table border=\"1\" class=\"dataframe\">\n",
       "  <thead>\n",
       "    <tr style=\"text-align: right;\">\n",
       "      <th></th>\n",
       "      <th>col_0</th>\n",
       "      <th>col_1</th>\n",
       "      <th>col_2</th>\n",
       "      <th>col_3</th>\n",
       "      <th>col_4</th>\n",
       "      <th>col_5</th>\n",
       "      <th>col_6</th>\n",
       "      <th>col_7</th>\n",
       "      <th>processId</th>\n",
       "      <th>threadId</th>\n",
       "      <th>parentProcessId</th>\n",
       "      <th>userId</th>\n",
       "      <th>mountNamespace</th>\n",
       "      <th>eventId</th>\n",
       "      <th>argsNum</th>\n",
       "      <th>returnValue</th>\n",
       "      <th>sus</th>\n",
       "      <th>evil</th>\n",
       "    </tr>\n",
       "  </thead>\n",
       "  <tbody>\n",
       "    <tr>\n",
       "      <th>0</th>\n",
       "      <td>1</td>\n",
       "      <td>0</td>\n",
       "      <td>1</td>\n",
       "      <td>0</td>\n",
       "      <td>0</td>\n",
       "      <td>0</td>\n",
       "      <td>0</td>\n",
       "      <td>0</td>\n",
       "      <td>0</td>\n",
       "      <td>382</td>\n",
       "      <td>1</td>\n",
       "      <td>1</td>\n",
       "      <td>0</td>\n",
       "      <td>41</td>\n",
       "      <td>3</td>\n",
       "      <td>1</td>\n",
       "      <td>0</td>\n",
       "      <td>0</td>\n",
       "    </tr>\n",
       "    <tr>\n",
       "      <th>1</th>\n",
       "      <td>2</td>\n",
       "      <td>0</td>\n",
       "      <td>0</td>\n",
       "      <td>0</td>\n",
       "      <td>0</td>\n",
       "      <td>0</td>\n",
       "      <td>0</td>\n",
       "      <td>0</td>\n",
       "      <td>0</td>\n",
       "      <td>379</td>\n",
       "      <td>1</td>\n",
       "      <td>1</td>\n",
       "      <td>0</td>\n",
       "      <td>41</td>\n",
       "      <td>3</td>\n",
       "      <td>1</td>\n",
       "      <td>0</td>\n",
       "      <td>0</td>\n",
       "    </tr>\n",
       "    <tr>\n",
       "      <th>2</th>\n",
       "      <td>1</td>\n",
       "      <td>0</td>\n",
       "      <td>0</td>\n",
       "      <td>0</td>\n",
       "      <td>1</td>\n",
       "      <td>0</td>\n",
       "      <td>0</td>\n",
       "      <td>0</td>\n",
       "      <td>1</td>\n",
       "      <td>1</td>\n",
       "      <td>1</td>\n",
       "      <td>1</td>\n",
       "      <td>1</td>\n",
       "      <td>1005</td>\n",
       "      <td>4</td>\n",
       "      <td>0</td>\n",
       "      <td>0</td>\n",
       "      <td>0</td>\n",
       "    </tr>\n",
       "    <tr>\n",
       "      <th>3</th>\n",
       "      <td>1</td>\n",
       "      <td>0</td>\n",
       "      <td>0</td>\n",
       "      <td>0</td>\n",
       "      <td>1</td>\n",
       "      <td>0</td>\n",
       "      <td>0</td>\n",
       "      <td>0</td>\n",
       "      <td>1</td>\n",
       "      <td>1</td>\n",
       "      <td>1</td>\n",
       "      <td>1</td>\n",
       "      <td>1</td>\n",
       "      <td>257</td>\n",
       "      <td>4</td>\n",
       "      <td>1</td>\n",
       "      <td>0</td>\n",
       "      <td>0</td>\n",
       "    </tr>\n",
       "    <tr>\n",
       "      <th>4</th>\n",
       "      <td>1</td>\n",
       "      <td>0</td>\n",
       "      <td>0</td>\n",
       "      <td>0</td>\n",
       "      <td>1</td>\n",
       "      <td>0</td>\n",
       "      <td>0</td>\n",
       "      <td>0</td>\n",
       "      <td>1</td>\n",
       "      <td>1</td>\n",
       "      <td>1</td>\n",
       "      <td>1</td>\n",
       "      <td>1</td>\n",
       "      <td>5</td>\n",
       "      <td>2</td>\n",
       "      <td>0</td>\n",
       "      <td>0</td>\n",
       "      <td>0</td>\n",
       "    </tr>\n",
       "    <tr>\n",
       "      <th>...</th>\n",
       "      <td>...</td>\n",
       "      <td>...</td>\n",
       "      <td>...</td>\n",
       "      <td>...</td>\n",
       "      <td>...</td>\n",
       "      <td>...</td>\n",
       "      <td>...</td>\n",
       "      <td>...</td>\n",
       "      <td>...</td>\n",
       "      <td>...</td>\n",
       "      <td>...</td>\n",
       "      <td>...</td>\n",
       "      <td>...</td>\n",
       "      <td>...</td>\n",
       "      <td>...</td>\n",
       "      <td>...</td>\n",
       "      <td>...</td>\n",
       "      <td>...</td>\n",
       "    </tr>\n",
       "    <tr>\n",
       "      <th>188962</th>\n",
       "      <td>1</td>\n",
       "      <td>0</td>\n",
       "      <td>0</td>\n",
       "      <td>0</td>\n",
       "      <td>1</td>\n",
       "      <td>0</td>\n",
       "      <td>0</td>\n",
       "      <td>0</td>\n",
       "      <td>0</td>\n",
       "      <td>7555</td>\n",
       "      <td>0</td>\n",
       "      <td>0</td>\n",
       "      <td>1</td>\n",
       "      <td>42</td>\n",
       "      <td>3</td>\n",
       "      <td>-1</td>\n",
       "      <td>1</td>\n",
       "      <td>1</td>\n",
       "    </tr>\n",
       "    <tr>\n",
       "      <th>188963</th>\n",
       "      <td>1</td>\n",
       "      <td>0</td>\n",
       "      <td>0</td>\n",
       "      <td>0</td>\n",
       "      <td>1</td>\n",
       "      <td>0</td>\n",
       "      <td>0</td>\n",
       "      <td>0</td>\n",
       "      <td>0</td>\n",
       "      <td>7555</td>\n",
       "      <td>0</td>\n",
       "      <td>0</td>\n",
       "      <td>1</td>\n",
       "      <td>42</td>\n",
       "      <td>3</td>\n",
       "      <td>-1</td>\n",
       "      <td>1</td>\n",
       "      <td>1</td>\n",
       "    </tr>\n",
       "    <tr>\n",
       "      <th>188964</th>\n",
       "      <td>1</td>\n",
       "      <td>0</td>\n",
       "      <td>0</td>\n",
       "      <td>0</td>\n",
       "      <td>1</td>\n",
       "      <td>0</td>\n",
       "      <td>0</td>\n",
       "      <td>0</td>\n",
       "      <td>0</td>\n",
       "      <td>7555</td>\n",
       "      <td>0</td>\n",
       "      <td>0</td>\n",
       "      <td>1</td>\n",
       "      <td>42</td>\n",
       "      <td>3</td>\n",
       "      <td>-1</td>\n",
       "      <td>1</td>\n",
       "      <td>1</td>\n",
       "    </tr>\n",
       "    <tr>\n",
       "      <th>188965</th>\n",
       "      <td>1</td>\n",
       "      <td>0</td>\n",
       "      <td>0</td>\n",
       "      <td>0</td>\n",
       "      <td>1</td>\n",
       "      <td>0</td>\n",
       "      <td>0</td>\n",
       "      <td>0</td>\n",
       "      <td>0</td>\n",
       "      <td>7555</td>\n",
       "      <td>0</td>\n",
       "      <td>0</td>\n",
       "      <td>1</td>\n",
       "      <td>42</td>\n",
       "      <td>3</td>\n",
       "      <td>-1</td>\n",
       "      <td>1</td>\n",
       "      <td>1</td>\n",
       "    </tr>\n",
       "    <tr>\n",
       "      <th>188966</th>\n",
       "      <td>1</td>\n",
       "      <td>0</td>\n",
       "      <td>0</td>\n",
       "      <td>0</td>\n",
       "      <td>1</td>\n",
       "      <td>0</td>\n",
       "      <td>0</td>\n",
       "      <td>0</td>\n",
       "      <td>0</td>\n",
       "      <td>7555</td>\n",
       "      <td>0</td>\n",
       "      <td>0</td>\n",
       "      <td>1</td>\n",
       "      <td>42</td>\n",
       "      <td>3</td>\n",
       "      <td>-1</td>\n",
       "      <td>1</td>\n",
       "      <td>1</td>\n",
       "    </tr>\n",
       "  </tbody>\n",
       "</table>\n",
       "<p>188967 rows × 18 columns</p>\n",
       "</div>"
      ],
      "text/plain": [
       "        col_0  col_1  col_2  col_3  col_4  col_5  col_6  col_7  processId  \\\n",
       "0           1      0      1      0      0      0      0      0          0   \n",
       "1           2      0      0      0      0      0      0      0          0   \n",
       "2           1      0      0      0      1      0      0      0          1   \n",
       "3           1      0      0      0      1      0      0      0          1   \n",
       "4           1      0      0      0      1      0      0      0          1   \n",
       "...       ...    ...    ...    ...    ...    ...    ...    ...        ...   \n",
       "188962      1      0      0      0      1      0      0      0          0   \n",
       "188963      1      0      0      0      1      0      0      0          0   \n",
       "188964      1      0      0      0      1      0      0      0          0   \n",
       "188965      1      0      0      0      1      0      0      0          0   \n",
       "188966      1      0      0      0      1      0      0      0          0   \n",
       "\n",
       "        threadId  parentProcessId  userId  mountNamespace  eventId  argsNum  \\\n",
       "0            382                1       1               0       41        3   \n",
       "1            379                1       1               0       41        3   \n",
       "2              1                1       1               1     1005        4   \n",
       "3              1                1       1               1      257        4   \n",
       "4              1                1       1               1        5        2   \n",
       "...          ...              ...     ...             ...      ...      ...   \n",
       "188962      7555                0       0               1       42        3   \n",
       "188963      7555                0       0               1       42        3   \n",
       "188964      7555                0       0               1       42        3   \n",
       "188965      7555                0       0               1       42        3   \n",
       "188966      7555                0       0               1       42        3   \n",
       "\n",
       "        returnValue  sus  evil  \n",
       "0                 1    0     0  \n",
       "1                 1    0     0  \n",
       "2                 0    0     0  \n",
       "3                 1    0     0  \n",
       "4                 0    0     0  \n",
       "...             ...  ...   ...  \n",
       "188962           -1    1     1  \n",
       "188963           -1    1     1  \n",
       "188964           -1    1     1  \n",
       "188965           -1    1     1  \n",
       "188966           -1    1     1  \n",
       "\n",
       "[188967 rows x 18 columns]"
      ]
     },
     "execution_count": 188,
     "metadata": {},
     "output_type": "execute_result"
    }
   ],
   "source": [
    "df_test_eng"
   ]
  },
  {
   "cell_type": "markdown",
   "id": "201bd32a",
   "metadata": {},
   "source": [
    "## Final Data Preperation"
   ]
  },
  {
   "cell_type": "markdown",
   "id": "0a40acea",
   "metadata": {},
   "source": [
    "Prepare datasets by removing 'sus' and 'evil' target variables."
   ]
  },
  {
   "cell_type": "code",
   "execution_count": 240,
   "id": "542db59e",
   "metadata": {},
   "outputs": [],
   "source": [
    "X_intermediate = df_train_eng.copy()"
   ]
  },
  {
   "cell_type": "markdown",
   "id": "fca1c5f1",
   "metadata": {},
   "source": [
    "Subset training dataset from 763,144 to 200,000 random samples for One-class SVM training. One-class SVM training is resource and time intensive. Training with 200,000 random samples will take 1-2 hours on computer without a graphics card."
   ]
  },
  {
   "cell_type": "code",
   "execution_count": 241,
   "id": "d2c30373",
   "metadata": {},
   "outputs": [],
   "source": [
    "X_train = X_intermediate.sample(n=10000)"
   ]
  },
  {
   "cell_type": "code",
   "execution_count": 242,
   "id": "624d16c7",
   "metadata": {},
   "outputs": [],
   "source": [
    "y_train = X_train['evil']"
   ]
  },
  {
   "cell_type": "code",
   "execution_count": 243,
   "id": "063418b0",
   "metadata": {},
   "outputs": [],
   "source": [
    "X_train = X_train.drop(['sus', 'evil'], axis = 1)"
   ]
  },
  {
   "cell_type": "code",
   "execution_count": 551,
   "id": "15f8165b",
   "metadata": {},
   "outputs": [
    {
     "data": {
      "text/html": [
       "<div>\n",
       "<style scoped>\n",
       "    .dataframe tbody tr th:only-of-type {\n",
       "        vertical-align: middle;\n",
       "    }\n",
       "\n",
       "    .dataframe tbody tr th {\n",
       "        vertical-align: top;\n",
       "    }\n",
       "\n",
       "    .dataframe thead th {\n",
       "        text-align: right;\n",
       "    }\n",
       "</style>\n",
       "<table border=\"1\" class=\"dataframe\">\n",
       "  <thead>\n",
       "    <tr style=\"text-align: right;\">\n",
       "      <th></th>\n",
       "      <th>col_0</th>\n",
       "      <th>col_1</th>\n",
       "      <th>col_2</th>\n",
       "      <th>col_3</th>\n",
       "      <th>col_4</th>\n",
       "      <th>col_5</th>\n",
       "      <th>col_6</th>\n",
       "      <th>col_7</th>\n",
       "      <th>processId</th>\n",
       "      <th>threadId</th>\n",
       "      <th>parentProcessId</th>\n",
       "      <th>userId</th>\n",
       "      <th>mountNamespace</th>\n",
       "      <th>eventId</th>\n",
       "      <th>argsNum</th>\n",
       "      <th>returnValue</th>\n",
       "    </tr>\n",
       "  </thead>\n",
       "  <tbody>\n",
       "    <tr>\n",
       "      <th>326729</th>\n",
       "      <td>0</td>\n",
       "      <td>0</td>\n",
       "      <td>1</td>\n",
       "      <td>0</td>\n",
       "      <td>0</td>\n",
       "      <td>0</td>\n",
       "      <td>0</td>\n",
       "      <td>1</td>\n",
       "      <td>0</td>\n",
       "      <td>7372</td>\n",
       "      <td>0</td>\n",
       "      <td>1</td>\n",
       "      <td>1</td>\n",
       "      <td>1005</td>\n",
       "      <td>4</td>\n",
       "      <td>0</td>\n",
       "    </tr>\n",
       "    <tr>\n",
       "      <th>689628</th>\n",
       "      <td>0</td>\n",
       "      <td>0</td>\n",
       "      <td>0</td>\n",
       "      <td>0</td>\n",
       "      <td>1</td>\n",
       "      <td>0</td>\n",
       "      <td>0</td>\n",
       "      <td>1</td>\n",
       "      <td>0</td>\n",
       "      <td>7122</td>\n",
       "      <td>1</td>\n",
       "      <td>1</td>\n",
       "      <td>1</td>\n",
       "      <td>3</td>\n",
       "      <td>1</td>\n",
       "      <td>0</td>\n",
       "    </tr>\n",
       "    <tr>\n",
       "      <th>514772</th>\n",
       "      <td>2</td>\n",
       "      <td>0</td>\n",
       "      <td>0</td>\n",
       "      <td>0</td>\n",
       "      <td>0</td>\n",
       "      <td>0</td>\n",
       "      <td>0</td>\n",
       "      <td>0</td>\n",
       "      <td>0</td>\n",
       "      <td>7289</td>\n",
       "      <td>0</td>\n",
       "      <td>1</td>\n",
       "      <td>0</td>\n",
       "      <td>257</td>\n",
       "      <td>4</td>\n",
       "      <td>1</td>\n",
       "    </tr>\n",
       "    <tr>\n",
       "      <th>441433</th>\n",
       "      <td>0</td>\n",
       "      <td>0</td>\n",
       "      <td>0</td>\n",
       "      <td>0</td>\n",
       "      <td>0</td>\n",
       "      <td>0</td>\n",
       "      <td>0</td>\n",
       "      <td>2</td>\n",
       "      <td>0</td>\n",
       "      <td>159</td>\n",
       "      <td>1</td>\n",
       "      <td>1</td>\n",
       "      <td>1</td>\n",
       "      <td>5</td>\n",
       "      <td>2</td>\n",
       "      <td>0</td>\n",
       "    </tr>\n",
       "    <tr>\n",
       "      <th>111163</th>\n",
       "      <td>0</td>\n",
       "      <td>0</td>\n",
       "      <td>1</td>\n",
       "      <td>0</td>\n",
       "      <td>0</td>\n",
       "      <td>0</td>\n",
       "      <td>0</td>\n",
       "      <td>1</td>\n",
       "      <td>0</td>\n",
       "      <td>7349</td>\n",
       "      <td>0</td>\n",
       "      <td>1</td>\n",
       "      <td>1</td>\n",
       "      <td>3</td>\n",
       "      <td>1</td>\n",
       "      <td>0</td>\n",
       "    </tr>\n",
       "    <tr>\n",
       "      <th>...</th>\n",
       "      <td>...</td>\n",
       "      <td>...</td>\n",
       "      <td>...</td>\n",
       "      <td>...</td>\n",
       "      <td>...</td>\n",
       "      <td>...</td>\n",
       "      <td>...</td>\n",
       "      <td>...</td>\n",
       "      <td>...</td>\n",
       "      <td>...</td>\n",
       "      <td>...</td>\n",
       "      <td>...</td>\n",
       "      <td>...</td>\n",
       "      <td>...</td>\n",
       "      <td>...</td>\n",
       "      <td>...</td>\n",
       "    </tr>\n",
       "    <tr>\n",
       "      <th>681168</th>\n",
       "      <td>0</td>\n",
       "      <td>1</td>\n",
       "      <td>0</td>\n",
       "      <td>0</td>\n",
       "      <td>1</td>\n",
       "      <td>0</td>\n",
       "      <td>0</td>\n",
       "      <td>0</td>\n",
       "      <td>0</td>\n",
       "      <td>7428</td>\n",
       "      <td>0</td>\n",
       "      <td>1</td>\n",
       "      <td>1</td>\n",
       "      <td>1005</td>\n",
       "      <td>4</td>\n",
       "      <td>0</td>\n",
       "    </tr>\n",
       "    <tr>\n",
       "      <th>403301</th>\n",
       "      <td>0</td>\n",
       "      <td>0</td>\n",
       "      <td>1</td>\n",
       "      <td>0</td>\n",
       "      <td>0</td>\n",
       "      <td>0</td>\n",
       "      <td>0</td>\n",
       "      <td>1</td>\n",
       "      <td>0</td>\n",
       "      <td>7392</td>\n",
       "      <td>0</td>\n",
       "      <td>1</td>\n",
       "      <td>1</td>\n",
       "      <td>1005</td>\n",
       "      <td>4</td>\n",
       "      <td>0</td>\n",
       "    </tr>\n",
       "    <tr>\n",
       "      <th>214221</th>\n",
       "      <td>0</td>\n",
       "      <td>0</td>\n",
       "      <td>1</td>\n",
       "      <td>1</td>\n",
       "      <td>0</td>\n",
       "      <td>0</td>\n",
       "      <td>0</td>\n",
       "      <td>0</td>\n",
       "      <td>0</td>\n",
       "      <td>7389</td>\n",
       "      <td>0</td>\n",
       "      <td>1</td>\n",
       "      <td>1</td>\n",
       "      <td>257</td>\n",
       "      <td>4</td>\n",
       "      <td>1</td>\n",
       "    </tr>\n",
       "    <tr>\n",
       "      <th>83902</th>\n",
       "      <td>0</td>\n",
       "      <td>0</td>\n",
       "      <td>1</td>\n",
       "      <td>0</td>\n",
       "      <td>0</td>\n",
       "      <td>0</td>\n",
       "      <td>0</td>\n",
       "      <td>1</td>\n",
       "      <td>0</td>\n",
       "      <td>7286</td>\n",
       "      <td>0</td>\n",
       "      <td>1</td>\n",
       "      <td>1</td>\n",
       "      <td>1005</td>\n",
       "      <td>4</td>\n",
       "      <td>0</td>\n",
       "    </tr>\n",
       "    <tr>\n",
       "      <th>726688</th>\n",
       "      <td>0</td>\n",
       "      <td>0</td>\n",
       "      <td>0</td>\n",
       "      <td>0</td>\n",
       "      <td>1</td>\n",
       "      <td>0</td>\n",
       "      <td>0</td>\n",
       "      <td>1</td>\n",
       "      <td>0</td>\n",
       "      <td>7502</td>\n",
       "      <td>0</td>\n",
       "      <td>1</td>\n",
       "      <td>1</td>\n",
       "      <td>1005</td>\n",
       "      <td>4</td>\n",
       "      <td>0</td>\n",
       "    </tr>\n",
       "  </tbody>\n",
       "</table>\n",
       "<p>10000 rows × 16 columns</p>\n",
       "</div>"
      ],
      "text/plain": [
       "        col_0  col_1  col_2  col_3  col_4  col_5  col_6  col_7  processId  \\\n",
       "326729      0      0      1      0      0      0      0      1          0   \n",
       "689628      0      0      0      0      1      0      0      1          0   \n",
       "514772      2      0      0      0      0      0      0      0          0   \n",
       "441433      0      0      0      0      0      0      0      2          0   \n",
       "111163      0      0      1      0      0      0      0      1          0   \n",
       "...       ...    ...    ...    ...    ...    ...    ...    ...        ...   \n",
       "681168      0      1      0      0      1      0      0      0          0   \n",
       "403301      0      0      1      0      0      0      0      1          0   \n",
       "214221      0      0      1      1      0      0      0      0          0   \n",
       "83902       0      0      1      0      0      0      0      1          0   \n",
       "726688      0      0      0      0      1      0      0      1          0   \n",
       "\n",
       "        threadId  parentProcessId  userId  mountNamespace  eventId  argsNum  \\\n",
       "326729      7372                0       1               1     1005        4   \n",
       "689628      7122                1       1               1        3        1   \n",
       "514772      7289                0       1               0      257        4   \n",
       "441433       159                1       1               1        5        2   \n",
       "111163      7349                0       1               1        3        1   \n",
       "...          ...              ...     ...             ...      ...      ...   \n",
       "681168      7428                0       1               1     1005        4   \n",
       "403301      7392                0       1               1     1005        4   \n",
       "214221      7389                0       1               1      257        4   \n",
       "83902       7286                0       1               1     1005        4   \n",
       "726688      7502                0       1               1     1005        4   \n",
       "\n",
       "        returnValue  \n",
       "326729            0  \n",
       "689628            0  \n",
       "514772            1  \n",
       "441433            0  \n",
       "111163            0  \n",
       "...             ...  \n",
       "681168            0  \n",
       "403301            0  \n",
       "214221            1  \n",
       "83902             0  \n",
       "726688            0  \n",
       "\n",
       "[10000 rows x 16 columns]"
      ]
     },
     "execution_count": 551,
     "metadata": {},
     "output_type": "execute_result"
    }
   ],
   "source": [
    "X_train"
   ]
  },
  {
   "cell_type": "code",
   "execution_count": 485,
   "id": "1b9b35a5",
   "metadata": {},
   "outputs": [
    {
     "name": "stdout",
     "output_type": "stream",
     "text": [
      "<class 'pandas.core.series.Series'>\n",
      "Int64Index: 10000 entries, 326729 to 726688\n",
      "Series name: evil\n",
      "Non-Null Count  Dtype\n",
      "--------------  -----\n",
      "10000 non-null  int64\n",
      "dtypes: int64(1)\n",
      "memory usage: 156.2 KB\n"
     ]
    }
   ],
   "source": [
    "y_train.info()"
   ]
  },
  {
   "cell_type": "markdown",
   "id": "6d1ee9de",
   "metadata": {},
   "source": [
    "Prepare the validation and test dataset by removing 'sus' and 'evil' target variables."
   ]
  },
  {
   "cell_type": "code",
   "execution_count": 209,
   "id": "8d0d056e",
   "metadata": {},
   "outputs": [],
   "source": [
    "X_validate = df_validate_eng.drop(['sus', 'evil'], axis = 1)"
   ]
  },
  {
   "cell_type": "code",
   "execution_count": 560,
   "id": "a976f1a7",
   "metadata": {},
   "outputs": [],
   "source": [
    "X_test = df_test_eng.drop(['sus', 'evil'], axis =1)"
   ]
  },
  {
   "cell_type": "code",
   "execution_count": 565,
   "id": "ba00778d",
   "metadata": {},
   "outputs": [
    {
     "data": {
      "text/html": [
       "<div>\n",
       "<style scoped>\n",
       "    .dataframe tbody tr th:only-of-type {\n",
       "        vertical-align: middle;\n",
       "    }\n",
       "\n",
       "    .dataframe tbody tr th {\n",
       "        vertical-align: top;\n",
       "    }\n",
       "\n",
       "    .dataframe thead th {\n",
       "        text-align: right;\n",
       "    }\n",
       "</style>\n",
       "<table border=\"1\" class=\"dataframe\">\n",
       "  <thead>\n",
       "    <tr style=\"text-align: right;\">\n",
       "      <th></th>\n",
       "      <th>col_0</th>\n",
       "      <th>col_1</th>\n",
       "      <th>col_2</th>\n",
       "      <th>col_3</th>\n",
       "      <th>col_4</th>\n",
       "      <th>col_5</th>\n",
       "      <th>col_6</th>\n",
       "      <th>col_7</th>\n",
       "      <th>processId</th>\n",
       "      <th>threadId</th>\n",
       "      <th>parentProcessId</th>\n",
       "      <th>userId</th>\n",
       "      <th>mountNamespace</th>\n",
       "      <th>eventId</th>\n",
       "      <th>argsNum</th>\n",
       "      <th>returnValue</th>\n",
       "    </tr>\n",
       "  </thead>\n",
       "  <tbody>\n",
       "    <tr>\n",
       "      <th>326729</th>\n",
       "      <td>0</td>\n",
       "      <td>0</td>\n",
       "      <td>1</td>\n",
       "      <td>0</td>\n",
       "      <td>0</td>\n",
       "      <td>0</td>\n",
       "      <td>0</td>\n",
       "      <td>1</td>\n",
       "      <td>0</td>\n",
       "      <td>7372</td>\n",
       "      <td>0</td>\n",
       "      <td>1</td>\n",
       "      <td>1</td>\n",
       "      <td>1005</td>\n",
       "      <td>4</td>\n",
       "      <td>0</td>\n",
       "    </tr>\n",
       "    <tr>\n",
       "      <th>689628</th>\n",
       "      <td>0</td>\n",
       "      <td>0</td>\n",
       "      <td>0</td>\n",
       "      <td>0</td>\n",
       "      <td>1</td>\n",
       "      <td>0</td>\n",
       "      <td>0</td>\n",
       "      <td>1</td>\n",
       "      <td>0</td>\n",
       "      <td>7122</td>\n",
       "      <td>1</td>\n",
       "      <td>1</td>\n",
       "      <td>1</td>\n",
       "      <td>3</td>\n",
       "      <td>1</td>\n",
       "      <td>0</td>\n",
       "    </tr>\n",
       "    <tr>\n",
       "      <th>514772</th>\n",
       "      <td>2</td>\n",
       "      <td>0</td>\n",
       "      <td>0</td>\n",
       "      <td>0</td>\n",
       "      <td>0</td>\n",
       "      <td>0</td>\n",
       "      <td>0</td>\n",
       "      <td>0</td>\n",
       "      <td>0</td>\n",
       "      <td>7289</td>\n",
       "      <td>0</td>\n",
       "      <td>1</td>\n",
       "      <td>0</td>\n",
       "      <td>257</td>\n",
       "      <td>4</td>\n",
       "      <td>1</td>\n",
       "    </tr>\n",
       "    <tr>\n",
       "      <th>441433</th>\n",
       "      <td>0</td>\n",
       "      <td>0</td>\n",
       "      <td>0</td>\n",
       "      <td>0</td>\n",
       "      <td>0</td>\n",
       "      <td>0</td>\n",
       "      <td>0</td>\n",
       "      <td>2</td>\n",
       "      <td>0</td>\n",
       "      <td>159</td>\n",
       "      <td>1</td>\n",
       "      <td>1</td>\n",
       "      <td>1</td>\n",
       "      <td>5</td>\n",
       "      <td>2</td>\n",
       "      <td>0</td>\n",
       "    </tr>\n",
       "    <tr>\n",
       "      <th>111163</th>\n",
       "      <td>0</td>\n",
       "      <td>0</td>\n",
       "      <td>1</td>\n",
       "      <td>0</td>\n",
       "      <td>0</td>\n",
       "      <td>0</td>\n",
       "      <td>0</td>\n",
       "      <td>1</td>\n",
       "      <td>0</td>\n",
       "      <td>7349</td>\n",
       "      <td>0</td>\n",
       "      <td>1</td>\n",
       "      <td>1</td>\n",
       "      <td>3</td>\n",
       "      <td>1</td>\n",
       "      <td>0</td>\n",
       "    </tr>\n",
       "    <tr>\n",
       "      <th>...</th>\n",
       "      <td>...</td>\n",
       "      <td>...</td>\n",
       "      <td>...</td>\n",
       "      <td>...</td>\n",
       "      <td>...</td>\n",
       "      <td>...</td>\n",
       "      <td>...</td>\n",
       "      <td>...</td>\n",
       "      <td>...</td>\n",
       "      <td>...</td>\n",
       "      <td>...</td>\n",
       "      <td>...</td>\n",
       "      <td>...</td>\n",
       "      <td>...</td>\n",
       "      <td>...</td>\n",
       "      <td>...</td>\n",
       "    </tr>\n",
       "    <tr>\n",
       "      <th>681168</th>\n",
       "      <td>0</td>\n",
       "      <td>1</td>\n",
       "      <td>0</td>\n",
       "      <td>0</td>\n",
       "      <td>1</td>\n",
       "      <td>0</td>\n",
       "      <td>0</td>\n",
       "      <td>0</td>\n",
       "      <td>0</td>\n",
       "      <td>7428</td>\n",
       "      <td>0</td>\n",
       "      <td>1</td>\n",
       "      <td>1</td>\n",
       "      <td>1005</td>\n",
       "      <td>4</td>\n",
       "      <td>0</td>\n",
       "    </tr>\n",
       "    <tr>\n",
       "      <th>403301</th>\n",
       "      <td>0</td>\n",
       "      <td>0</td>\n",
       "      <td>1</td>\n",
       "      <td>0</td>\n",
       "      <td>0</td>\n",
       "      <td>0</td>\n",
       "      <td>0</td>\n",
       "      <td>1</td>\n",
       "      <td>0</td>\n",
       "      <td>7392</td>\n",
       "      <td>0</td>\n",
       "      <td>1</td>\n",
       "      <td>1</td>\n",
       "      <td>1005</td>\n",
       "      <td>4</td>\n",
       "      <td>0</td>\n",
       "    </tr>\n",
       "    <tr>\n",
       "      <th>214221</th>\n",
       "      <td>0</td>\n",
       "      <td>0</td>\n",
       "      <td>1</td>\n",
       "      <td>1</td>\n",
       "      <td>0</td>\n",
       "      <td>0</td>\n",
       "      <td>0</td>\n",
       "      <td>0</td>\n",
       "      <td>0</td>\n",
       "      <td>7389</td>\n",
       "      <td>0</td>\n",
       "      <td>1</td>\n",
       "      <td>1</td>\n",
       "      <td>257</td>\n",
       "      <td>4</td>\n",
       "      <td>1</td>\n",
       "    </tr>\n",
       "    <tr>\n",
       "      <th>83902</th>\n",
       "      <td>0</td>\n",
       "      <td>0</td>\n",
       "      <td>1</td>\n",
       "      <td>0</td>\n",
       "      <td>0</td>\n",
       "      <td>0</td>\n",
       "      <td>0</td>\n",
       "      <td>1</td>\n",
       "      <td>0</td>\n",
       "      <td>7286</td>\n",
       "      <td>0</td>\n",
       "      <td>1</td>\n",
       "      <td>1</td>\n",
       "      <td>1005</td>\n",
       "      <td>4</td>\n",
       "      <td>0</td>\n",
       "    </tr>\n",
       "    <tr>\n",
       "      <th>726688</th>\n",
       "      <td>0</td>\n",
       "      <td>0</td>\n",
       "      <td>0</td>\n",
       "      <td>0</td>\n",
       "      <td>1</td>\n",
       "      <td>0</td>\n",
       "      <td>0</td>\n",
       "      <td>1</td>\n",
       "      <td>0</td>\n",
       "      <td>7502</td>\n",
       "      <td>0</td>\n",
       "      <td>1</td>\n",
       "      <td>1</td>\n",
       "      <td>1005</td>\n",
       "      <td>4</td>\n",
       "      <td>0</td>\n",
       "    </tr>\n",
       "  </tbody>\n",
       "</table>\n",
       "<p>10000 rows × 16 columns</p>\n",
       "</div>"
      ],
      "text/plain": [
       "        col_0  col_1  col_2  col_3  col_4  col_5  col_6  col_7  processId  \\\n",
       "326729      0      0      1      0      0      0      0      1          0   \n",
       "689628      0      0      0      0      1      0      0      1          0   \n",
       "514772      2      0      0      0      0      0      0      0          0   \n",
       "441433      0      0      0      0      0      0      0      2          0   \n",
       "111163      0      0      1      0      0      0      0      1          0   \n",
       "...       ...    ...    ...    ...    ...    ...    ...    ...        ...   \n",
       "681168      0      1      0      0      1      0      0      0          0   \n",
       "403301      0      0      1      0      0      0      0      1          0   \n",
       "214221      0      0      1      1      0      0      0      0          0   \n",
       "83902       0      0      1      0      0      0      0      1          0   \n",
       "726688      0      0      0      0      1      0      0      1          0   \n",
       "\n",
       "        threadId  parentProcessId  userId  mountNamespace  eventId  argsNum  \\\n",
       "326729      7372                0       1               1     1005        4   \n",
       "689628      7122                1       1               1        3        1   \n",
       "514772      7289                0       1               0      257        4   \n",
       "441433       159                1       1               1        5        2   \n",
       "111163      7349                0       1               1        3        1   \n",
       "...          ...              ...     ...             ...      ...      ...   \n",
       "681168      7428                0       1               1     1005        4   \n",
       "403301      7392                0       1               1     1005        4   \n",
       "214221      7389                0       1               1      257        4   \n",
       "83902       7286                0       1               1     1005        4   \n",
       "726688      7502                0       1               1     1005        4   \n",
       "\n",
       "        returnValue  \n",
       "326729            0  \n",
       "689628            0  \n",
       "514772            1  \n",
       "441433            0  \n",
       "111163            0  \n",
       "...             ...  \n",
       "681168            0  \n",
       "403301            0  \n",
       "214221            1  \n",
       "83902             0  \n",
       "726688            0  \n",
       "\n",
       "[10000 rows x 16 columns]"
      ]
     },
     "execution_count": 565,
     "metadata": {},
     "output_type": "execute_result"
    }
   ],
   "source": [
    "X_train"
   ]
  },
  {
   "cell_type": "markdown",
   "id": "1f80fdd0",
   "metadata": {},
   "source": [
    "Store true labels ('evil') in y_test"
   ]
  },
  {
   "cell_type": "code",
   "execution_count": 562,
   "id": "fe4f2d0e",
   "metadata": {},
   "outputs": [],
   "source": [
    "y_validate = df_validate_eng['evil']\n",
    "y_test = df_test_eng['evil']"
   ]
  },
  {
   "cell_type": "code",
   "execution_count": 563,
   "id": "d8a02d79",
   "metadata": {},
   "outputs": [
    {
     "name": "stdout",
     "output_type": "stream",
     "text": [
      "<class 'pandas.core.series.Series'>\n",
      "RangeIndex: 188967 entries, 0 to 188966\n",
      "Series name: evil\n",
      "Non-Null Count   Dtype\n",
      "--------------   -----\n",
      "188967 non-null  int64\n",
      "dtypes: int64(1)\n",
      "memory usage: 1.4 MB\n"
     ]
    }
   ],
   "source": [
    "y_test.info()"
   ]
  },
  {
   "cell_type": "markdown",
   "id": "a53d686a",
   "metadata": {},
   "source": [
    "# One-class SVM"
   ]
  },
  {
   "cell_type": "markdown",
   "id": "550d9c59",
   "metadata": {},
   "source": [
    "Fit the One-class SVM model to the train dataset"
   ]
  },
  {
   "cell_type": "code",
   "execution_count": 554,
   "id": "f7e9a709",
   "metadata": {},
   "outputs": [
    {
     "data": {
      "text/plain": [
       "OneClassSVM()"
      ]
     },
     "execution_count": 554,
     "metadata": {},
     "output_type": "execute_result"
    }
   ],
   "source": [
    "from sklearn import svm\n",
    "\n",
    "# fit the model\n",
    "clf = svm.OneClassSVM()\n",
    "clf.fit(X_train)"
   ]
  },
  {
   "cell_type": "markdown",
   "id": "74f90029",
   "metadata": {},
   "source": [
    "Now, make predictions with the validate dataset"
   ]
  },
  {
   "cell_type": "code",
   "execution_count": 233,
   "id": "e3ddc418",
   "metadata": {},
   "outputs": [],
   "source": [
    "y_pred_validate = clf.predict(X_validate)"
   ]
  },
  {
   "cell_type": "markdown",
   "id": "0ad24e75",
   "metadata": {},
   "source": [
    "One-class SVM returns '-1' if an anomaly is predicted. Otherwise, model returns '1' for a normal prediction. Now, change anomaly -1 values to 1 and normal to 0 for model scoring."
   ]
  },
  {
   "cell_type": "code",
   "execution_count": 234,
   "id": "531f230e",
   "metadata": {},
   "outputs": [],
   "source": [
    "y_pred_validate = [1 if i == -1 else 0 for i in y_pred_validate]"
   ]
  },
  {
   "cell_type": "markdown",
   "id": "fa00f846",
   "metadata": {},
   "source": [
    "#### Validation performance"
   ]
  },
  {
   "cell_type": "code",
   "execution_count": 558,
   "id": "65543187",
   "metadata": {},
   "outputs": [
    {
     "data": {
      "image/png": "[encoded data removed]",
      "text/plain": [
       "<Figure size 432x288 with 2 Axes>"
      ]
     },
     "metadata": {
      "needs_background": "light"
     },
     "output_type": "display_data"
    }
   ],
   "source": [
    "ConfusionMatrixDisplay.from_predictions(y_validate, y_pred_validate)\n",
    "\n",
    "plt.show()\n"
   ]
  },
  {
   "cell_type": "code",
   "execution_count": 495,
   "id": "84f964e5",
   "metadata": {},
   "outputs": [
    {
     "name": "stdout",
     "output_type": "stream",
     "text": [
      "              precision    recall  f1-score   support\n",
      "\n",
      "           0       1.00      0.75      0.85    188967\n",
      "           1       0.00      0.00      0.00         0\n",
      "\n",
      "    accuracy                           0.75    188967\n",
      "   macro avg       0.50      0.37      0.43    188967\n",
      "weighted avg       1.00      0.75      0.85    188967\n",
      "\n"
     ]
    }
   ],
   "source": [
    "print(classification_report(y_validate, y_pred_validate, zero_division = 0))"
   ]
  },
  {
   "cell_type": "markdown",
   "id": "c8c39593",
   "metadata": {},
   "source": [
    "### Grid search"
   ]
  },
  {
   "cell_type": "markdown",
   "id": "338c7b27",
   "metadata": {},
   "source": [
    "Grid search over hyperparameter space for best-performing kernel, nu, and gamma parameters"
   ]
  },
  {
   "cell_type": "code",
   "execution_count": 237,
   "id": "c40c00de",
   "metadata": {},
   "outputs": [],
   "source": [
    "from sklearn.model_selection import GridSearchCV"
   ]
  },
  {
   "cell_type": "code",
   "execution_count": 539,
   "id": "03e3bc5b",
   "metadata": {},
   "outputs": [],
   "source": [
    "param_grid = {'kernel':['rbf', 'sigmoid', 'linear'],\n",
    "              'nu':[0.01, 0.1, 0.15, 0.25, 0.5],\n",
    "              'gamma':[1, 0.1, 0.01, 0.001, 'scale']}\n",
    "grid = GridSearchCV(svm.OneClassSVM(), param_grid, refit = True, scoring = 'accuracy')"
   ]
  },
  {
   "cell_type": "code",
   "execution_count": 540,
   "id": "d48ee368",
   "metadata": {},
   "outputs": [
    {
     "data": {
      "text/plain": [
       "GridSearchCV(estimator=OneClassSVM(),\n",
       "             param_grid={'gamma': [1, 0.1, 0.01, 0.001, 'scale'],\n",
       "                         'kernel': ['rbf', 'sigmoid', 'linear'],\n",
       "                         'nu': [0.01, 0.1, 0.15, 0.25, 0.5]},\n",
       "             scoring='accuracy')"
      ]
     },
     "execution_count": 540,
     "metadata": {},
     "output_type": "execute_result"
    }
   ],
   "source": [
    "grid.fit(X_train, y_train)"
   ]
  },
  {
   "cell_type": "code",
   "execution_count": 541,
   "id": "eca1ca87",
   "metadata": {},
   "outputs": [
    {
     "name": "stdout",
     "output_type": "stream",
     "text": [
      "{'gamma': 1, 'kernel': 'rbf', 'nu': 0.01}\n"
     ]
    }
   ],
   "source": [
    "print(grid.best_params_)"
   ]
  },
  {
   "cell_type": "markdown",
   "id": "884a1d5b",
   "metadata": {},
   "source": [
    "### Tuned One-class SVM"
   ]
  },
  {
   "cell_type": "markdown",
   "id": "79d9fcba",
   "metadata": {},
   "source": [
    "I am aware from previous runs of the model that kernel = rbf, nu = 0.1, and gamma = 0.1 outperform the best_params returned from GridSearchCV. I will continue with kernel = rbf, nu = 0.1, and gamma = 0.1."
   ]
  },
  {
   "cell_type": "code",
   "execution_count": 506,
   "id": "80baab63",
   "metadata": {},
   "outputs": [
    {
     "data": {
      "text/plain": [
       "OneClassSVM(gamma=0.1, nu=0.1)"
      ]
     },
     "execution_count": 506,
     "metadata": {},
     "output_type": "execute_result"
    }
   ],
   "source": [
    "clf2 = svm.OneClassSVM(kernel = 'rbf', nu = 0.1, gamma = 0.1)\n",
    "clf2.fit(X_train)"
   ]
  },
  {
   "cell_type": "markdown",
   "id": "223c4202",
   "metadata": {},
   "source": [
    "#### Validation performance"
   ]
  },
  {
   "cell_type": "code",
   "execution_count": 507,
   "id": "1c72b93c",
   "metadata": {},
   "outputs": [],
   "source": [
    "y_pred_validate2 = clf2.predict(X_validate)"
   ]
  },
  {
   "cell_type": "code",
   "execution_count": 508,
   "id": "6fedbf57",
   "metadata": {},
   "outputs": [
    {
     "data": {
      "text/plain": [
       "106777"
      ]
     },
     "execution_count": 508,
     "metadata": {},
     "output_type": "execute_result"
    }
   ],
   "source": [
    "y_pred_validate2[y_pred_validate2 == -1].size"
   ]
  },
  {
   "cell_type": "code",
   "execution_count": 509,
   "id": "853542c1",
   "metadata": {},
   "outputs": [],
   "source": [
    "y_pred_validate2 = [1 if i == -1 else 0 for i in y_pred_validate2]"
   ]
  },
  {
   "cell_type": "code",
   "execution_count": 510,
   "id": "bf5bc4f8",
   "metadata": {},
   "outputs": [
    {
     "data": {
      "image/png": "[encoded data removed]",
      "text/plain": [
       "<Figure size 432x288 with 2 Axes>"
      ]
     },
     "metadata": {
      "needs_background": "light"
     },
     "output_type": "display_data"
    }
   ],
   "source": [
    "ConfusionMatrixDisplay.from_predictions(y_validate, y_pred_validate2)\n",
    "\n",
    "plt.show()"
   ]
  },
  {
   "cell_type": "code",
   "execution_count": 511,
   "id": "58b44200",
   "metadata": {},
   "outputs": [
    {
     "name": "stdout",
     "output_type": "stream",
     "text": [
      "              precision    recall  f1-score   support\n",
      "\n",
      "           0       1.00      0.43      0.61    188967\n",
      "           1       0.00      0.00      0.00         0\n",
      "\n",
      "    accuracy                           0.43    188967\n",
      "   macro avg       0.50      0.22      0.30    188967\n",
      "weighted avg       1.00      0.43      0.61    188967\n",
      "\n"
     ]
    }
   ],
   "source": [
    "print(classification_report(y_validate, y_pred_validate2, zero_division = 0))"
   ]
  },
  {
   "cell_type": "markdown",
   "id": "dcbd9f99",
   "metadata": {},
   "source": [
    "#### Test Dataset Performance"
   ]
  },
  {
   "cell_type": "code",
   "execution_count": 512,
   "id": "507f3bdd",
   "metadata": {},
   "outputs": [],
   "source": [
    "y_pred_test = clf2.predict(X_test)"
   ]
  },
  {
   "cell_type": "code",
   "execution_count": 513,
   "id": "948dca7a",
   "metadata": {},
   "outputs": [
    {
     "data": {
      "text/plain": [
       "171943"
      ]
     },
     "execution_count": 513,
     "metadata": {},
     "output_type": "execute_result"
    }
   ],
   "source": [
    "y_pred_test[y_pred_test == -1].size"
   ]
  },
  {
   "cell_type": "code",
   "execution_count": 514,
   "id": "faf6a2d5",
   "metadata": {},
   "outputs": [],
   "source": [
    "y_pred_test = [1 if i==-1 else 0 for i in y_pred_test]"
   ]
  },
  {
   "cell_type": "code",
   "execution_count": 516,
   "id": "1d8097d3",
   "metadata": {},
   "outputs": [
    {
     "data": {
      "image/png": "[encoded data removed]",
      "text/plain": [
       "<Figure size 432x288 with 2 Axes>"
      ]
     },
     "metadata": {
      "needs_background": "light"
     },
     "output_type": "display_data"
    }
   ],
   "source": [
    "ConfusionMatrixDisplay.from_predictions(y_test, y_pred_test)\n",
    "\n",
    "plt.show()\n"
   ]
  },
  {
   "cell_type": "code",
   "execution_count": 515,
   "id": "c3de2df1",
   "metadata": {},
   "outputs": [
    {
     "name": "stdout",
     "output_type": "stream",
     "text": [
      "              precision    recall  f1-score   support\n",
      "\n",
      "           0       0.96      0.53      0.68     30535\n",
      "           1       0.92      1.00      0.95    158432\n",
      "\n",
      "    accuracy                           0.92    188967\n",
      "   macro avg       0.94      0.76      0.82    188967\n",
      "weighted avg       0.92      0.92      0.91    188967\n",
      "\n"
     ]
    }
   ],
   "source": [
    "print(classification_report(y_test, y_pred_test, zero_division = 0))"
   ]
  },
  {
   "cell_type": "markdown",
   "id": "a410f9a2",
   "metadata": {},
   "source": [
    "# Isolation Forest"
   ]
  },
  {
   "cell_type": "markdown",
   "id": "214b8e0e",
   "metadata": {},
   "source": [
    "Isolation forest is an unsupervised machine learning method that learns a functional boundary to distinguish normal from anomalious events in a contaminated dataset. Thus, the BETH training and testing datasets will be combined to create a large, contaminated training dataset."
   ]
  },
  {
   "cell_type": "code",
   "execution_count": 332,
   "id": "087c4397",
   "metadata": {},
   "outputs": [],
   "source": [
    "I_forest_train = pd.concat([df_train_eng, df_test_eng], ignore_index=True)"
   ]
  },
  {
   "cell_type": "code",
   "execution_count": 335,
   "id": "dca6060b",
   "metadata": {},
   "outputs": [],
   "source": [
    "X = I_forest_train.drop(['sus', 'evil'], axis = 1)"
   ]
  },
  {
   "cell_type": "code",
   "execution_count": 337,
   "id": "2a91613d",
   "metadata": {},
   "outputs": [],
   "source": [
    "y = I_forest_train[\"evil\"]"
   ]
  },
  {
   "cell_type": "markdown",
   "id": "95eb1546",
   "metadata": {},
   "source": [
    "Create new contaminated train and test datasets"
   ]
  },
  {
   "cell_type": "code",
   "execution_count": 205,
   "id": "d7cf050a",
   "metadata": {},
   "outputs": [],
   "source": [
    "from sklearn.model_selection import train_test_split"
   ]
  },
  {
   "cell_type": "code",
   "execution_count": 339,
   "id": "bcd486e6",
   "metadata": {},
   "outputs": [],
   "source": [
    "X_itrain, X_itest, y_itrain, y_itest = train_test_split(X, y, train_size = 0.8, shuffle=True)"
   ]
  },
  {
   "cell_type": "markdown",
   "id": "d5da6fa2",
   "metadata": {},
   "source": [
    "#### Default Isolation Forest model"
   ]
  },
  {
   "cell_type": "code",
   "execution_count": 341,
   "id": "9943bdab",
   "metadata": {},
   "outputs": [],
   "source": [
    "from sklearn.ensemble import IsolationForest"
   ]
  },
  {
   "cell_type": "code",
   "execution_count": 342,
   "id": "a656e956",
   "metadata": {},
   "outputs": [],
   "source": [
    "clf3 = IsolationForest(max_samples='auto')"
   ]
  },
  {
   "cell_type": "code",
   "execution_count": 360,
   "id": "30c630fe",
   "metadata": {},
   "outputs": [],
   "source": [
    "y_pred_train = clf3.fit_predict(X_itrain)"
   ]
  },
  {
   "cell_type": "code",
   "execution_count": 393,
   "id": "b38c9c27",
   "metadata": {},
   "outputs": [
    {
     "data": {
      "text/plain": [
       "557409"
      ]
     },
     "execution_count": 393,
     "metadata": {},
     "output_type": "execute_result"
    }
   ],
   "source": [
    "y_pred_train[y_pred_train == 1].size"
   ]
  },
  {
   "cell_type": "code",
   "execution_count": 350,
   "id": "3d407492",
   "metadata": {},
   "outputs": [],
   "source": [
    "y_pred_train = [1 if i==-1 else 0 for i in y_pred_train]"
   ]
  },
  {
   "cell_type": "code",
   "execution_count": 351,
   "id": "07141bd3",
   "metadata": {},
   "outputs": [
    {
     "name": "stdout",
     "output_type": "stream",
     "text": [
      "              precision    recall  f1-score   support\n",
      "\n",
      "           0       0.79      0.68      0.73    634834\n",
      "           1       0.05      0.08      0.06    126854\n",
      "\n",
      "    accuracy                           0.58    761688\n",
      "   macro avg       0.42      0.38      0.40    761688\n",
      "weighted avg       0.66      0.58      0.62    761688\n",
      "\n"
     ]
    }
   ],
   "source": [
    "print(classification_report(y_itrain, y_pred_train))"
   ]
  },
  {
   "cell_type": "code",
   "execution_count": 352,
   "id": "06db450f",
   "metadata": {},
   "outputs": [
    {
     "data": {
      "image/png": "[encoded data removed]",
      "text/plain": [
       "<Figure size 432x288 with 2 Axes>"
      ]
     },
     "metadata": {
      "needs_background": "light"
     },
     "output_type": "display_data"
    }
   ],
   "source": [
    "ConfusionMatrixDisplay.from_predictions(y_itrain, y_pred_train)\n",
    "\n",
    "plt.show()"
   ]
  },
  {
   "cell_type": "markdown",
   "id": "17aeface",
   "metadata": {},
   "source": [
    "### Tune Isolation Forest Parameters"
   ]
  },
  {
   "cell_type": "code",
   "execution_count": 419,
   "id": "46b17788",
   "metadata": {},
   "outputs": [],
   "source": [
    "from sklearn.linear_model import LinearRegression\n",
    "from sklearn.metrics import mean_squared_error"
   ]
  },
  {
   "cell_type": "markdown",
   "id": "c453a437",
   "metadata": {},
   "source": [
    "#### Find best-performing contamination parameter"
   ]
  },
  {
   "cell_type": "code",
   "execution_count": 431,
   "id": "8780faaf",
   "metadata": {},
   "outputs": [],
   "source": [
    "def evaluate_outlier_classifier(model, data):\n",
    "    #Get labels\n",
    "    labels = model.fit_predict(data.values)\n",
    "    \n",
    "    #Return inliers\n",
    "    #return data.loc[(labels == 1)]\n",
    "    return labels"
   ]
  },
  {
   "cell_type": "code",
   "execution_count": 432,
   "id": "7e98d6b3",
   "metadata": {},
   "outputs": [],
   "source": [
    "def evalaute_regressor(labels, data, y):\n",
    "            \n",
    "    pred_inliers = data.loc[(labels == 1)]\n",
    "    \n",
    "    y_inliers = y.loc[(labels == 1)]\n",
    "    \n",
    "    X_train, X_test, y_train, y_test = train_test_split(pred_inliers, y_inliers, random_state = 10)\n",
    "    \n",
    "    lr = LinearRegression()\n",
    "    lr.fit(X_train, y_train)\n",
    "    \n",
    "    preds = lr.predict(X_test)\n",
    "    rmse = mean_squared_error(y_test, preds, squared = False)\n",
    "    \n",
    "    return round(rmse, 3)"
   ]
  },
  {
   "cell_type": "code",
   "execution_count": 548,
   "id": "a76540f7",
   "metadata": {},
   "outputs": [],
   "source": [
    "contamination = [0.01, 0.15, 0.2, 0.3]\n",
    "scores = dict()\n",
    "\n",
    "for c in contamination:\n",
    "    iforest = IsolationForest(contamination = c, random_state=10)\n",
    "    \n",
    "    labels = evaluate_outlier_classifier(iforest, X)\n",
    "    \n",
    "    scores[c] = evalaute_regressor(labels, X, y)"
   ]
  },
  {
   "cell_type": "code",
   "execution_count": 549,
   "id": "3d80282f",
   "metadata": {},
   "outputs": [
    {
     "name": "stdout",
     "output_type": "stream",
     "text": [
      "{0.01: 0.07, 0.15: 0.031, 0.2: 0.026, 0.3: 0.015}\n"
     ]
    }
   ],
   "source": [
    "print(scores)"
   ]
  },
  {
   "cell_type": "markdown",
   "id": "7a702bfd",
   "metadata": {},
   "source": [
    "I know from previous runs of the Isolation Forest that contamination = 0.15 performs the best. Linear regression shows c = 0.15 creates the largest RMSE of 0.031."
   ]
  },
  {
   "cell_type": "code",
   "execution_count": 569,
   "id": "b0efc721",
   "metadata": {},
   "outputs": [],
   "source": [
    "clf4 = IsolationForest(contamination = 0.15)\n",
    "y_ipredict = clf4.fit_predict(X_itrain.values)"
   ]
  },
  {
   "cell_type": "code",
   "execution_count": 570,
   "id": "6ed20eb0",
   "metadata": {},
   "outputs": [],
   "source": [
    "y_ipredict = [1 if i==-1 else 0 for i in y_ipredict]"
   ]
  },
  {
   "cell_type": "code",
   "execution_count": 571,
   "id": "15ff3a43",
   "metadata": {},
   "outputs": [
    {
     "name": "stdout",
     "output_type": "stream",
     "text": [
      "              precision    recall  f1-score   support\n",
      "\n",
      "           0       0.82      0.84      0.83    634834\n",
      "           1       0.09      0.08      0.08    126854\n",
      "\n",
      "    accuracy                           0.71    761688\n",
      "   macro avg       0.45      0.46      0.46    761688\n",
      "weighted avg       0.70      0.71      0.70    761688\n",
      "\n"
     ]
    }
   ],
   "source": [
    "print(classification_report(y_itrain, y_ipredict))"
   ]
  },
  {
   "cell_type": "code",
   "execution_count": 572,
   "id": "f8c485ba",
   "metadata": {},
   "outputs": [
    {
     "data": {
      "image/png": "[encoded data removed]",
      "text/plain": [
       "<Figure size 432x288 with 2 Axes>"
      ]
     },
     "metadata": {
      "needs_background": "light"
     },
     "output_type": "display_data"
    }
   ],
   "source": [
    "ConfusionMatrixDisplay.from_predictions(y_itrain, y_ipredict)\n",
    "\n",
    "plt.show()"
   ]
  },
  {
   "cell_type": "markdown",
   "id": "41f6c29a",
   "metadata": {},
   "source": [
    "#### Test dataset performance with contamination = 0.15"
   ]
  },
  {
   "cell_type": "markdown",
   "id": "840e975f",
   "metadata": {},
   "source": [
    "The Isolation Forest with contamination = 0.15 and other parameters set to default is a good performer. Now, I will assess its performance with the contaminated test dataset (X_itest)."
   ]
  },
  {
   "cell_type": "code",
   "execution_count": 588,
   "id": "f1629d1d",
   "metadata": {},
   "outputs": [],
   "source": [
    "clf_final = IsolationForest(contamination = 0.15)\n",
    "y_ipredicted_final = clf_final.fit_predict(X_itest.values)"
   ]
  },
  {
   "cell_type": "code",
   "execution_count": 589,
   "id": "37dba04b",
   "metadata": {},
   "outputs": [],
   "source": [
    "y_ipredicted_final = [1 if i==-1 else 0 for i in y_ipredicted_final]"
   ]
  },
  {
   "cell_type": "code",
   "execution_count": 590,
   "id": "5ef15b23",
   "metadata": {},
   "outputs": [
    {
     "data": {
      "image/png": "[encoded data removed]",
      "text/plain": [
       "<Figure size 432x288 with 2 Axes>"
      ]
     },
     "metadata": {
      "needs_background": "light"
     },
     "output_type": "display_data"
    }
   ],
   "source": [
    "ConfusionMatrixDisplay.from_predictions(y_itest, y_ipredicted_final)\n",
    "\n",
    "plt.show()"
   ]
  },
  {
   "cell_type": "code",
   "execution_count": 591,
   "id": "b8cee6d6",
   "metadata": {},
   "outputs": [
    {
     "name": "stdout",
     "output_type": "stream",
     "text": [
      "              precision    recall  f1-score   support\n",
      "\n",
      "           0       0.82      0.83      0.82    158845\n",
      "           1       0.06      0.05      0.06     31578\n",
      "\n",
      "    accuracy                           0.70    190423\n",
      "   macro avg       0.44      0.44      0.44    190423\n",
      "weighted avg       0.69      0.70      0.70    190423\n",
      "\n"
     ]
    }
   ],
   "source": [
    "print(classification_report(y_itest, y_ipredicted_final, zero_division = 0))"
   ]
  },
  {
   "cell_type": "markdown",
   "id": "e59158fb",
   "metadata": {},
   "source": [
    "### Tune hyperparameters"
   ]
  },
  {
   "cell_type": "code",
   "execution_count": 472,
   "id": "fe023c55",
   "metadata": {},
   "outputs": [],
   "source": [
    "from itertools import product"
   ]
  },
  {
   "cell_type": "code",
   "execution_count": 573,
   "id": "9a64924d",
   "metadata": {},
   "outputs": [],
   "source": [
    "estimators = [100, 200, 300]\n",
    "max_samples = [0.1, 0.25, 0.5, 1]\n",
    "scores2 = dict()"
   ]
  },
  {
   "cell_type": "code",
   "execution_count": 574,
   "id": "fd901f4f",
   "metadata": {},
   "outputs": [],
   "source": [
    "for e, m in product(estimators, max_samples):\n",
    "    iforest = IsolationForest(n_estimators = e, max_samples = m, contamination = 0.17)\n",
    "    \n",
    "    labels = evaluate_outlier_classifier(iforest, X)\n",
    "    \n",
    "    scores2[(e, m)] = evalaute_regressor(labels, X, y)"
   ]
  },
  {
   "cell_type": "code",
   "execution_count": 575,
   "id": "ba5d4f71",
   "metadata": {},
   "outputs": [
    {
     "data": {
      "text/plain": [
       "{(100, 0.1): 0.0,\n",
       " (100, 0.25): 0.0,\n",
       " (100, 0.5): 0.026,\n",
       " (100, 1): 0.072,\n",
       " (200, 0.1): 0.0,\n",
       " (200, 0.25): 0.0,\n",
       " (200, 0.5): 0.026,\n",
       " (200, 1): 0.072,\n",
       " (300, 0.1): 0.0,\n",
       " (300, 0.25): 0.026,\n",
       " (300, 0.5): 0.024,\n",
       " (300, 1): 0.072}"
      ]
     },
     "execution_count": 575,
     "metadata": {},
     "output_type": "execute_result"
    }
   ],
   "source": [
    "scores2"
   ]
  },
  {
   "cell_type": "markdown",
   "id": "5dc5ac48",
   "metadata": {},
   "source": [
    "#### Tuned iForest test dataset performance"
   ]
  },
  {
   "cell_type": "markdown",
   "id": "1f2c9bda",
   "metadata": {},
   "source": [
    "I chose the hyperparameter combination with the lowest values and RMSE score, which is n_estimators = 100 and max_samples = 0.1."
   ]
  },
  {
   "cell_type": "code",
   "execution_count": 584,
   "id": "ce60fe22",
   "metadata": {},
   "outputs": [],
   "source": [
    "clf5 = IsolationForest(n_estimators = 100, max_samples = 0.1, contamination = 0.15)\n",
    "y_ipredict_final = clf5.fit_predict(X_itest.values)"
   ]
  },
  {
   "cell_type": "code",
   "execution_count": 585,
   "id": "8d26d1e2",
   "metadata": {},
   "outputs": [],
   "source": [
    "y_ipredict_final = [1 if i==-1 else 0 for i in y_ipredict_final]"
   ]
  },
  {
   "cell_type": "code",
   "execution_count": 586,
   "id": "a392ed7f",
   "metadata": {},
   "outputs": [
    {
     "data": {
      "image/png": "[encoded data removed]",
      "text/plain": [
       "<Figure size 432x288 with 2 Axes>"
      ]
     },
     "metadata": {
      "needs_background": "light"
     },
     "output_type": "display_data"
    }
   ],
   "source": [
    "ConfusionMatrixDisplay.from_predictions(y_itest, y_ipredict_final)\n",
    "\n",
    "plt.show()"
   ]
  },
  {
   "cell_type": "code",
   "execution_count": 587,
   "id": "c967221e",
   "metadata": {},
   "outputs": [
    {
     "name": "stdout",
     "output_type": "stream",
     "text": [
      "              precision    recall  f1-score   support\n",
      "\n",
      "           0       0.82      0.83      0.82    158845\n",
      "           1       0.07      0.06      0.06     31578\n",
      "\n",
      "    accuracy                           0.70    190423\n",
      "   macro avg       0.44      0.45      0.44    190423\n",
      "weighted avg       0.69      0.70      0.70    190423\n",
      "\n"
     ]
    }
   ],
   "source": [
    "print(classification_report(y_itest, y_ipredict_final, zero_division = 0))"
   ]
  },
  {
   "cell_type": "markdown",
   "id": "006b1666",
   "metadata": {},
   "source": [
    "The tuned parameter model is the best-perfoming Isolation Forest model with 70% accuracy, 7% specificity, and 6% sensitivity."
   ]
  }
 ],
 "metadata": {
  "kernelspec": {
   "display_name": "Python 3 (ipykernel)",
   "language": "python",
   "name": "python3"
  },
  "language_info": {
   "codemirror_mode": {
    "name": "ipython",
    "version": 3
   },
   "file_extension": ".py",
   "mimetype": "text/x-python",
   "name": "python",
   "nbconvert_exporter": "python",
   "pygments_lexer": "ipython3",
   "version": "3.9.12"
  }
 },
 "nbformat": 4,
 "nbformat_minor": 5
}
