{
 "cells": [
  {
   "cell_type": "code",
   "execution_count": 102,
   "id": "be1f5b16",
   "metadata": {},
   "outputs": [],
   "source": [
    "import numpy as np\n",
    "import pandas as pd\n",
    "import category_encoders as ce"
   ]
  },
  {
   "cell_type": "markdown",
   "id": "a405a63e",
   "metadata": {},
   "source": [
    "# BETH Cybersecurity Dataset"
   ]
  },
  {
   "cell_type": "markdown",
   "id": "9999870e",
   "metadata": {},
   "source": [
    "The BETH cybersecurity dataset contains pre-split data of 60% training, 20% validation, and 20% testing data. The researchers performed the split to ensure only the testing dataset contained ‘evil’ (malicious) events. The pre-split dataset configuration is designed to evaluate the anomaly detection algorithm's ability to identify never-before-seen (out-of-distribution) abnormal behavior."
   ]
  },
  {
   "cell_type": "code",
   "execution_count": 103,
   "id": "9379691b",
   "metadata": {},
   "outputs": [],
   "source": [
    "#Load the BETH training dataset to Pandas dataframe\n",
    "df_train = pd.read_csv(\"C:\\\\Users\\\\harri\\\\Desktop\\\\Data Science\\\\BETH\\\\labelled_training_data.csv\")"
   ]
  },
  {
   "cell_type": "code",
   "execution_count": 104,
   "id": "22c77800",
   "metadata": {},
   "outputs": [],
   "source": [
    "##Load the BETH testing dataset to Pandas dataframe\n",
    "df_test = pd.read_csv(\"C:\\\\Users\\\\harri\\\\Desktop\\\\Data Science\\\\BETH\\\\labelled_testing_data.csv\")"
   ]
  },
  {
   "cell_type": "code",
   "execution_count": 105,
   "id": "59ae3473",
   "metadata": {},
   "outputs": [],
   "source": [
    "##Load the BETH validation dataset to Pandas dataframe\n",
    "df_validate = pd.read_csv(\"C:\\\\Users\\\\harri\\\\Desktop\\\\Data Science\\\\BETH\\\\labelled_validation_data.csv\")"
   ]
  },
  {
   "cell_type": "code",
   "execution_count": 106,
   "id": "cd9b66e4",
   "metadata": {},
   "outputs": [],
   "source": [
    "#Drop nonessential or redundant features from the training dataset\n",
    "df_train = df_train.drop(['timestamp', 'eventName', 'stackAddresses', 'args'], axis=1)"
   ]
  },
  {
   "cell_type": "code",
   "execution_count": 107,
   "id": "8cda5a14",
   "metadata": {},
   "outputs": [],
   "source": [
    "#Drop nonessential or redundant features from the testing dataset\n",
    "df_test = df_test.drop(['timestamp', 'eventName', 'stackAddresses', 'args'], axis=1)"
   ]
  },
  {
   "cell_type": "code",
   "execution_count": 108,
   "id": "dde84436",
   "metadata": {},
   "outputs": [],
   "source": [
    "#Drop nonessential or redundant features from the validate dataset\n",
    "df_validate = df_validate.drop(['timestamp', 'eventName', 'stackAddresses', 'args'], axis=1)"
   ]
  },
  {
   "cell_type": "code",
   "execution_count": 109,
   "id": "8731dbd1",
   "metadata": {},
   "outputs": [
    {
     "name": "stdout",
     "output_type": "stream",
     "text": [
      "<class 'pandas.core.frame.DataFrame'>\n",
      "RangeIndex: 188967 entries, 0 to 188966\n",
      "Data columns (total 12 columns):\n",
      " #   Column           Non-Null Count   Dtype \n",
      "---  ------           --------------   ----- \n",
      " 0   processId        188967 non-null  int64 \n",
      " 1   threadId         188967 non-null  int64 \n",
      " 2   parentProcessId  188967 non-null  int64 \n",
      " 3   userId           188967 non-null  int64 \n",
      " 4   mountNamespace   188967 non-null  int64 \n",
      " 5   processName      188967 non-null  object\n",
      " 6   hostName         188967 non-null  object\n",
      " 7   eventId          188967 non-null  int64 \n",
      " 8   argsNum          188967 non-null  int64 \n",
      " 9   returnValue      188967 non-null  int64 \n",
      " 10  sus              188967 non-null  int64 \n",
      " 11  evil             188967 non-null  int64 \n",
      "dtypes: int64(10), object(2)\n",
      "memory usage: 17.3+ MB\n"
     ]
    }
   ],
   "source": [
    "df_validate.info()"
   ]
  },
  {
   "cell_type": "code",
   "execution_count": 110,
   "id": "24d180f6",
   "metadata": {},
   "outputs": [
    {
     "data": {
      "text/html": [
       "<div>\n",
       "<style scoped>\n",
       "    .dataframe tbody tr th:only-of-type {\n",
       "        vertical-align: middle;\n",
       "    }\n",
       "\n",
       "    .dataframe tbody tr th {\n",
       "        vertical-align: top;\n",
       "    }\n",
       "\n",
       "    .dataframe thead th {\n",
       "        text-align: right;\n",
       "    }\n",
       "</style>\n",
       "<table border=\"1\" class=\"dataframe\">\n",
       "  <thead>\n",
       "    <tr style=\"text-align: right;\">\n",
       "      <th></th>\n",
       "      <th>processId</th>\n",
       "      <th>threadId</th>\n",
       "      <th>parentProcessId</th>\n",
       "      <th>userId</th>\n",
       "      <th>mountNamespace</th>\n",
       "      <th>processName</th>\n",
       "      <th>hostName</th>\n",
       "      <th>eventId</th>\n",
       "      <th>argsNum</th>\n",
       "      <th>returnValue</th>\n",
       "      <th>sus</th>\n",
       "      <th>evil</th>\n",
       "    </tr>\n",
       "  </thead>\n",
       "  <tbody>\n",
       "    <tr>\n",
       "      <th>0</th>\n",
       "      <td>382</td>\n",
       "      <td>382</td>\n",
       "      <td>1</td>\n",
       "      <td>101</td>\n",
       "      <td>4026532232</td>\n",
       "      <td>systemd-resolve</td>\n",
       "      <td>ip-10-100-1-217</td>\n",
       "      <td>41</td>\n",
       "      <td>3</td>\n",
       "      <td>15</td>\n",
       "      <td>0</td>\n",
       "      <td>0</td>\n",
       "    </tr>\n",
       "    <tr>\n",
       "      <th>1</th>\n",
       "      <td>379</td>\n",
       "      <td>379</td>\n",
       "      <td>1</td>\n",
       "      <td>100</td>\n",
       "      <td>4026532231</td>\n",
       "      <td>systemd-network</td>\n",
       "      <td>ip-10-100-1-217</td>\n",
       "      <td>41</td>\n",
       "      <td>3</td>\n",
       "      <td>15</td>\n",
       "      <td>0</td>\n",
       "      <td>0</td>\n",
       "    </tr>\n",
       "    <tr>\n",
       "      <th>2</th>\n",
       "      <td>1</td>\n",
       "      <td>1</td>\n",
       "      <td>0</td>\n",
       "      <td>0</td>\n",
       "      <td>4026531840</td>\n",
       "      <td>systemd</td>\n",
       "      <td>ip-10-100-1-217</td>\n",
       "      <td>1005</td>\n",
       "      <td>4</td>\n",
       "      <td>0</td>\n",
       "      <td>0</td>\n",
       "      <td>0</td>\n",
       "    </tr>\n",
       "    <tr>\n",
       "      <th>3</th>\n",
       "      <td>1</td>\n",
       "      <td>1</td>\n",
       "      <td>0</td>\n",
       "      <td>0</td>\n",
       "      <td>4026531840</td>\n",
       "      <td>systemd</td>\n",
       "      <td>ip-10-100-1-217</td>\n",
       "      <td>257</td>\n",
       "      <td>4</td>\n",
       "      <td>17</td>\n",
       "      <td>0</td>\n",
       "      <td>0</td>\n",
       "    </tr>\n",
       "    <tr>\n",
       "      <th>4</th>\n",
       "      <td>1</td>\n",
       "      <td>1</td>\n",
       "      <td>0</td>\n",
       "      <td>0</td>\n",
       "      <td>4026531840</td>\n",
       "      <td>systemd</td>\n",
       "      <td>ip-10-100-1-217</td>\n",
       "      <td>5</td>\n",
       "      <td>2</td>\n",
       "      <td>0</td>\n",
       "      <td>0</td>\n",
       "      <td>0</td>\n",
       "    </tr>\n",
       "    <tr>\n",
       "      <th>5</th>\n",
       "      <td>1</td>\n",
       "      <td>1</td>\n",
       "      <td>0</td>\n",
       "      <td>0</td>\n",
       "      <td>4026531840</td>\n",
       "      <td>systemd</td>\n",
       "      <td>ip-10-100-1-217</td>\n",
       "      <td>3</td>\n",
       "      <td>1</td>\n",
       "      <td>0</td>\n",
       "      <td>0</td>\n",
       "      <td>0</td>\n",
       "    </tr>\n",
       "    <tr>\n",
       "      <th>6</th>\n",
       "      <td>1</td>\n",
       "      <td>1</td>\n",
       "      <td>0</td>\n",
       "      <td>0</td>\n",
       "      <td>4026531840</td>\n",
       "      <td>systemd</td>\n",
       "      <td>ip-10-100-1-217</td>\n",
       "      <td>1005</td>\n",
       "      <td>4</td>\n",
       "      <td>0</td>\n",
       "      <td>0</td>\n",
       "      <td>0</td>\n",
       "    </tr>\n",
       "    <tr>\n",
       "      <th>7</th>\n",
       "      <td>1</td>\n",
       "      <td>1</td>\n",
       "      <td>0</td>\n",
       "      <td>0</td>\n",
       "      <td>4026531840</td>\n",
       "      <td>systemd</td>\n",
       "      <td>ip-10-100-1-217</td>\n",
       "      <td>257</td>\n",
       "      <td>4</td>\n",
       "      <td>17</td>\n",
       "      <td>0</td>\n",
       "      <td>0</td>\n",
       "    </tr>\n",
       "    <tr>\n",
       "      <th>8</th>\n",
       "      <td>1</td>\n",
       "      <td>1</td>\n",
       "      <td>0</td>\n",
       "      <td>0</td>\n",
       "      <td>4026531840</td>\n",
       "      <td>systemd</td>\n",
       "      <td>ip-10-100-1-217</td>\n",
       "      <td>5</td>\n",
       "      <td>2</td>\n",
       "      <td>0</td>\n",
       "      <td>0</td>\n",
       "      <td>0</td>\n",
       "    </tr>\n",
       "    <tr>\n",
       "      <th>9</th>\n",
       "      <td>1</td>\n",
       "      <td>1</td>\n",
       "      <td>0</td>\n",
       "      <td>0</td>\n",
       "      <td>4026531840</td>\n",
       "      <td>systemd</td>\n",
       "      <td>ip-10-100-1-217</td>\n",
       "      <td>3</td>\n",
       "      <td>1</td>\n",
       "      <td>0</td>\n",
       "      <td>0</td>\n",
       "      <td>0</td>\n",
       "    </tr>\n",
       "  </tbody>\n",
       "</table>\n",
       "</div>"
      ],
      "text/plain": [
       "   processId  threadId  parentProcessId  userId  mountNamespace  \\\n",
       "0        382       382                1     101      4026532232   \n",
       "1        379       379                1     100      4026532231   \n",
       "2          1         1                0       0      4026531840   \n",
       "3          1         1                0       0      4026531840   \n",
       "4          1         1                0       0      4026531840   \n",
       "5          1         1                0       0      4026531840   \n",
       "6          1         1                0       0      4026531840   \n",
       "7          1         1                0       0      4026531840   \n",
       "8          1         1                0       0      4026531840   \n",
       "9          1         1                0       0      4026531840   \n",
       "\n",
       "       processName         hostName  eventId  argsNum  returnValue  sus  evil  \n",
       "0  systemd-resolve  ip-10-100-1-217       41        3           15    0     0  \n",
       "1  systemd-network  ip-10-100-1-217       41        3           15    0     0  \n",
       "2          systemd  ip-10-100-1-217     1005        4            0    0     0  \n",
       "3          systemd  ip-10-100-1-217      257        4           17    0     0  \n",
       "4          systemd  ip-10-100-1-217        5        2            0    0     0  \n",
       "5          systemd  ip-10-100-1-217        3        1            0    0     0  \n",
       "6          systemd  ip-10-100-1-217     1005        4            0    0     0  \n",
       "7          systemd  ip-10-100-1-217      257        4           17    0     0  \n",
       "8          systemd  ip-10-100-1-217        5        2            0    0     0  \n",
       "9          systemd  ip-10-100-1-217        3        1            0    0     0  "
      ]
     },
     "execution_count": 110,
     "metadata": {},
     "output_type": "execute_result"
    }
   ],
   "source": [
    "df_test.head(10)"
   ]
  },
  {
   "cell_type": "markdown",
   "id": "0e178ba0",
   "metadata": {},
   "source": [
    "## Variable Encoding"
   ]
  },
  {
   "cell_type": "markdown",
   "id": "63131d07",
   "metadata": {},
   "source": [
    "Many of the BETH datset features have many levels (high cardinality). For example, the training dataset 'processName' variable has 36 levels. Interestingly, the testing dataset 'processName' variable has 244 levels. Both are shown on the next lines."
   ]
  },
  {
   "cell_type": "markdown",
   "id": "e494f7e8",
   "metadata": {},
   "source": [
    "### High cardinality variables"
   ]
  },
  {
   "cell_type": "code",
   "execution_count": 111,
   "id": "e6fa5a98",
   "metadata": {},
   "outputs": [
    {
     "data": {
      "text/plain": [
       "36"
      ]
     },
     "execution_count": 111,
     "metadata": {},
     "output_type": "execute_result"
    }
   ],
   "source": [
    "df_train.value_counts('processName').size"
   ]
  },
  {
   "cell_type": "code",
   "execution_count": 112,
   "id": "ba065b18",
   "metadata": {},
   "outputs": [
    {
     "data": {
      "text/plain": [
       "244"
      ]
     },
     "execution_count": 112,
     "metadata": {},
     "output_type": "execute_result"
    }
   ],
   "source": [
    "df_test.value_counts('processName').size"
   ]
  },
  {
   "cell_type": "markdown",
   "id": "a6636267",
   "metadata": {},
   "source": [
    "### Hash Encoding"
   ]
  },
  {
   "cell_type": "markdown",
   "id": "fb5430db",
   "metadata": {},
   "source": [
    "Hash encode non-numeric variables: high cardinality 'processName' with 'hostName' categorical variable"
   ]
  },
  {
   "cell_type": "code",
   "execution_count": 113,
   "id": "fddfff58",
   "metadata": {},
   "outputs": [],
   "source": [
    "enc = ce.HashingEncoder(n_components=8, cols=['processName', 'hostName'])"
   ]
  },
  {
   "cell_type": "code",
   "execution_count": 114,
   "id": "dcf74922",
   "metadata": {},
   "outputs": [],
   "source": [
    "df_train_enc = enc.fit_transform(df_train)"
   ]
  },
  {
   "cell_type": "code",
   "execution_count": 115,
   "id": "90bd4447",
   "metadata": {},
   "outputs": [],
   "source": [
    "df_test_enc = enc.fit_transform(df_test)"
   ]
  },
  {
   "cell_type": "code",
   "execution_count": 116,
   "id": "046aae0f",
   "metadata": {},
   "outputs": [],
   "source": [
    "df_validate_enc = enc.fit_transform(df_validate)"
   ]
  },
  {
   "cell_type": "code",
   "execution_count": 117,
   "id": "fe2f07d3",
   "metadata": {},
   "outputs": [
    {
     "data": {
      "text/html": [
       "<div>\n",
       "<style scoped>\n",
       "    .dataframe tbody tr th:only-of-type {\n",
       "        vertical-align: middle;\n",
       "    }\n",
       "\n",
       "    .dataframe tbody tr th {\n",
       "        vertical-align: top;\n",
       "    }\n",
       "\n",
       "    .dataframe thead th {\n",
       "        text-align: right;\n",
       "    }\n",
       "</style>\n",
       "<table border=\"1\" class=\"dataframe\">\n",
       "  <thead>\n",
       "    <tr style=\"text-align: right;\">\n",
       "      <th></th>\n",
       "      <th>col_0</th>\n",
       "      <th>col_1</th>\n",
       "      <th>col_2</th>\n",
       "      <th>col_3</th>\n",
       "      <th>col_4</th>\n",
       "      <th>col_5</th>\n",
       "      <th>col_6</th>\n",
       "      <th>col_7</th>\n",
       "      <th>processId</th>\n",
       "      <th>threadId</th>\n",
       "      <th>parentProcessId</th>\n",
       "      <th>userId</th>\n",
       "      <th>mountNamespace</th>\n",
       "      <th>eventId</th>\n",
       "      <th>argsNum</th>\n",
       "      <th>returnValue</th>\n",
       "      <th>sus</th>\n",
       "      <th>evil</th>\n",
       "    </tr>\n",
       "  </thead>\n",
       "  <tbody>\n",
       "    <tr>\n",
       "      <th>0</th>\n",
       "      <td>0</td>\n",
       "      <td>1</td>\n",
       "      <td>0</td>\n",
       "      <td>0</td>\n",
       "      <td>0</td>\n",
       "      <td>0</td>\n",
       "      <td>0</td>\n",
       "      <td>1</td>\n",
       "      <td>381</td>\n",
       "      <td>7337</td>\n",
       "      <td>1</td>\n",
       "      <td>100</td>\n",
       "      <td>4026532231</td>\n",
       "      <td>157</td>\n",
       "      <td>5</td>\n",
       "      <td>0</td>\n",
       "      <td>1</td>\n",
       "      <td>0</td>\n",
       "    </tr>\n",
       "    <tr>\n",
       "      <th>1</th>\n",
       "      <td>0</td>\n",
       "      <td>1</td>\n",
       "      <td>0</td>\n",
       "      <td>0</td>\n",
       "      <td>0</td>\n",
       "      <td>0</td>\n",
       "      <td>0</td>\n",
       "      <td>1</td>\n",
       "      <td>381</td>\n",
       "      <td>7337</td>\n",
       "      <td>1</td>\n",
       "      <td>100</td>\n",
       "      <td>4026532231</td>\n",
       "      <td>3</td>\n",
       "      <td>1</td>\n",
       "      <td>0</td>\n",
       "      <td>1</td>\n",
       "      <td>0</td>\n",
       "    </tr>\n",
       "    <tr>\n",
       "      <th>2</th>\n",
       "      <td>0</td>\n",
       "      <td>1</td>\n",
       "      <td>0</td>\n",
       "      <td>0</td>\n",
       "      <td>0</td>\n",
       "      <td>0</td>\n",
       "      <td>0</td>\n",
       "      <td>1</td>\n",
       "      <td>381</td>\n",
       "      <td>7337</td>\n",
       "      <td>1</td>\n",
       "      <td>100</td>\n",
       "      <td>4026532231</td>\n",
       "      <td>1010</td>\n",
       "      <td>0</td>\n",
       "      <td>0</td>\n",
       "      <td>1</td>\n",
       "      <td>0</td>\n",
       "    </tr>\n",
       "    <tr>\n",
       "      <th>3</th>\n",
       "      <td>0</td>\n",
       "      <td>1</td>\n",
       "      <td>0</td>\n",
       "      <td>1</td>\n",
       "      <td>0</td>\n",
       "      <td>0</td>\n",
       "      <td>0</td>\n",
       "      <td>0</td>\n",
       "      <td>7347</td>\n",
       "      <td>7347</td>\n",
       "      <td>7341</td>\n",
       "      <td>0</td>\n",
       "      <td>4026531840</td>\n",
       "      <td>21</td>\n",
       "      <td>2</td>\n",
       "      <td>-2</td>\n",
       "      <td>1</td>\n",
       "      <td>0</td>\n",
       "    </tr>\n",
       "    <tr>\n",
       "      <th>4</th>\n",
       "      <td>0</td>\n",
       "      <td>1</td>\n",
       "      <td>0</td>\n",
       "      <td>1</td>\n",
       "      <td>0</td>\n",
       "      <td>0</td>\n",
       "      <td>0</td>\n",
       "      <td>0</td>\n",
       "      <td>7347</td>\n",
       "      <td>7347</td>\n",
       "      <td>7341</td>\n",
       "      <td>0</td>\n",
       "      <td>4026531840</td>\n",
       "      <td>1005</td>\n",
       "      <td>4</td>\n",
       "      <td>0</td>\n",
       "      <td>1</td>\n",
       "      <td>0</td>\n",
       "    </tr>\n",
       "    <tr>\n",
       "      <th>...</th>\n",
       "      <td>...</td>\n",
       "      <td>...</td>\n",
       "      <td>...</td>\n",
       "      <td>...</td>\n",
       "      <td>...</td>\n",
       "      <td>...</td>\n",
       "      <td>...</td>\n",
       "      <td>...</td>\n",
       "      <td>...</td>\n",
       "      <td>...</td>\n",
       "      <td>...</td>\n",
       "      <td>...</td>\n",
       "      <td>...</td>\n",
       "      <td>...</td>\n",
       "      <td>...</td>\n",
       "      <td>...</td>\n",
       "      <td>...</td>\n",
       "      <td>...</td>\n",
       "    </tr>\n",
       "    <tr>\n",
       "      <th>763139</th>\n",
       "      <td>0</td>\n",
       "      <td>1</td>\n",
       "      <td>0</td>\n",
       "      <td>0</td>\n",
       "      <td>1</td>\n",
       "      <td>0</td>\n",
       "      <td>0</td>\n",
       "      <td>0</td>\n",
       "      <td>7274</td>\n",
       "      <td>7274</td>\n",
       "      <td>7108</td>\n",
       "      <td>0</td>\n",
       "      <td>4026531840</td>\n",
       "      <td>1003</td>\n",
       "      <td>1</td>\n",
       "      <td>0</td>\n",
       "      <td>0</td>\n",
       "      <td>0</td>\n",
       "    </tr>\n",
       "    <tr>\n",
       "      <th>763140</th>\n",
       "      <td>0</td>\n",
       "      <td>1</td>\n",
       "      <td>0</td>\n",
       "      <td>0</td>\n",
       "      <td>1</td>\n",
       "      <td>0</td>\n",
       "      <td>0</td>\n",
       "      <td>0</td>\n",
       "      <td>7274</td>\n",
       "      <td>7274</td>\n",
       "      <td>7108</td>\n",
       "      <td>0</td>\n",
       "      <td>4026531840</td>\n",
       "      <td>62</td>\n",
       "      <td>2</td>\n",
       "      <td>0</td>\n",
       "      <td>0</td>\n",
       "      <td>0</td>\n",
       "    </tr>\n",
       "    <tr>\n",
       "      <th>763141</th>\n",
       "      <td>0</td>\n",
       "      <td>1</td>\n",
       "      <td>0</td>\n",
       "      <td>0</td>\n",
       "      <td>1</td>\n",
       "      <td>0</td>\n",
       "      <td>0</td>\n",
       "      <td>0</td>\n",
       "      <td>7274</td>\n",
       "      <td>7274</td>\n",
       "      <td>7108</td>\n",
       "      <td>0</td>\n",
       "      <td>4026531840</td>\n",
       "      <td>1010</td>\n",
       "      <td>0</td>\n",
       "      <td>0</td>\n",
       "      <td>0</td>\n",
       "      <td>0</td>\n",
       "    </tr>\n",
       "    <tr>\n",
       "      <th>763142</th>\n",
       "      <td>0</td>\n",
       "      <td>1</td>\n",
       "      <td>0</td>\n",
       "      <td>0</td>\n",
       "      <td>1</td>\n",
       "      <td>0</td>\n",
       "      <td>0</td>\n",
       "      <td>0</td>\n",
       "      <td>7275</td>\n",
       "      <td>7275</td>\n",
       "      <td>1</td>\n",
       "      <td>109</td>\n",
       "      <td>4026531840</td>\n",
       "      <td>1010</td>\n",
       "      <td>0</td>\n",
       "      <td>0</td>\n",
       "      <td>0</td>\n",
       "      <td>0</td>\n",
       "    </tr>\n",
       "    <tr>\n",
       "      <th>763143</th>\n",
       "      <td>0</td>\n",
       "      <td>1</td>\n",
       "      <td>0</td>\n",
       "      <td>0</td>\n",
       "      <td>1</td>\n",
       "      <td>0</td>\n",
       "      <td>0</td>\n",
       "      <td>0</td>\n",
       "      <td>7108</td>\n",
       "      <td>7108</td>\n",
       "      <td>1</td>\n",
       "      <td>0</td>\n",
       "      <td>4026531840</td>\n",
       "      <td>3</td>\n",
       "      <td>1</td>\n",
       "      <td>0</td>\n",
       "      <td>0</td>\n",
       "      <td>0</td>\n",
       "    </tr>\n",
       "  </tbody>\n",
       "</table>\n",
       "<p>763144 rows × 18 columns</p>\n",
       "</div>"
      ],
      "text/plain": [
       "        col_0  col_1  col_2  col_3  col_4  col_5  col_6  col_7  processId  \\\n",
       "0           0      1      0      0      0      0      0      1        381   \n",
       "1           0      1      0      0      0      0      0      1        381   \n",
       "2           0      1      0      0      0      0      0      1        381   \n",
       "3           0      1      0      1      0      0      0      0       7347   \n",
       "4           0      1      0      1      0      0      0      0       7347   \n",
       "...       ...    ...    ...    ...    ...    ...    ...    ...        ...   \n",
       "763139      0      1      0      0      1      0      0      0       7274   \n",
       "763140      0      1      0      0      1      0      0      0       7274   \n",
       "763141      0      1      0      0      1      0      0      0       7274   \n",
       "763142      0      1      0      0      1      0      0      0       7275   \n",
       "763143      0      1      0      0      1      0      0      0       7108   \n",
       "\n",
       "        threadId  parentProcessId  userId  mountNamespace  eventId  argsNum  \\\n",
       "0           7337                1     100      4026532231      157        5   \n",
       "1           7337                1     100      4026532231        3        1   \n",
       "2           7337                1     100      4026532231     1010        0   \n",
       "3           7347             7341       0      4026531840       21        2   \n",
       "4           7347             7341       0      4026531840     1005        4   \n",
       "...          ...              ...     ...             ...      ...      ...   \n",
       "763139      7274             7108       0      4026531840     1003        1   \n",
       "763140      7274             7108       0      4026531840       62        2   \n",
       "763141      7274             7108       0      4026531840     1010        0   \n",
       "763142      7275                1     109      4026531840     1010        0   \n",
       "763143      7108                1       0      4026531840        3        1   \n",
       "\n",
       "        returnValue  sus  evil  \n",
       "0                 0    1     0  \n",
       "1                 0    1     0  \n",
       "2                 0    1     0  \n",
       "3                -2    1     0  \n",
       "4                 0    1     0  \n",
       "...             ...  ...   ...  \n",
       "763139            0    0     0  \n",
       "763140            0    0     0  \n",
       "763141            0    0     0  \n",
       "763142            0    0     0  \n",
       "763143            0    0     0  \n",
       "\n",
       "[763144 rows x 18 columns]"
      ]
     },
     "execution_count": 117,
     "metadata": {},
     "output_type": "execute_result"
    }
   ],
   "source": [
    "df_train_enc"
   ]
  },
  {
   "cell_type": "markdown",
   "id": "f7aa944c",
   "metadata": {},
   "source": [
    "#### Now, all variables are numeric"
   ]
  },
  {
   "cell_type": "code",
   "execution_count": 118,
   "id": "aa03ed83",
   "metadata": {},
   "outputs": [
    {
     "name": "stdout",
     "output_type": "stream",
     "text": [
      "<class 'pandas.core.frame.DataFrame'>\n",
      "RangeIndex: 763144 entries, 0 to 763143\n",
      "Data columns (total 18 columns):\n",
      " #   Column           Non-Null Count   Dtype\n",
      "---  ------           --------------   -----\n",
      " 0   col_0            763144 non-null  int64\n",
      " 1   col_1            763144 non-null  int64\n",
      " 2   col_2            763144 non-null  int64\n",
      " 3   col_3            763144 non-null  int64\n",
      " 4   col_4            763144 non-null  int64\n",
      " 5   col_5            763144 non-null  int64\n",
      " 6   col_6            763144 non-null  int64\n",
      " 7   col_7            763144 non-null  int64\n",
      " 8   processId        763144 non-null  int64\n",
      " 9   threadId         763144 non-null  int64\n",
      " 10  parentProcessId  763144 non-null  int64\n",
      " 11  userId           763144 non-null  int64\n",
      " 12  mountNamespace   763144 non-null  int64\n",
      " 13  eventId          763144 non-null  int64\n",
      " 14  argsNum          763144 non-null  int64\n",
      " 15  returnValue      763144 non-null  int64\n",
      " 16  sus              763144 non-null  int64\n",
      " 17  evil             763144 non-null  int64\n",
      "dtypes: int64(18)\n",
      "memory usage: 104.8 MB\n"
     ]
    }
   ],
   "source": [
    "df_train_enc.info()"
   ]
  },
  {
   "cell_type": "markdown",
   "id": "c7b7ad9c",
   "metadata": {},
   "source": [
    "## Feature Engineering"
   ]
  },
  {
   "cell_type": "markdown",
   "id": "00e9be1a",
   "metadata": {},
   "source": [
    "Feature engineering recommended by Highnam et al. (2021) to reduce cardinality and normalize"
   ]
  },
  {
   "cell_type": "code",
   "execution_count": 131,
   "id": "cb4ed2d8",
   "metadata": {},
   "outputs": [],
   "source": [
    "#Create new dataframes for feature engineering\n",
    "df_train_eng = df_train_enc.copy()\n",
    "df_test_eng = df_test_enc.copy()\n",
    "df_validate_eng = df_validate_enc.copy()"
   ]
  },
  {
   "cell_type": "markdown",
   "id": "351d1107",
   "metadata": {},
   "source": [
    "### Transform 'mountNamespace' variable to binary"
   ]
  },
  {
   "cell_type": "markdown",
   "id": "6ab2433a",
   "metadata": {},
   "source": [
    "Transform mountNamespace to binary variable (1 = user account had access to mnt/ directory, 0 = Operating System mountspace)"
   ]
  },
  {
   "cell_type": "code",
   "execution_count": 133,
   "id": "640fd481",
   "metadata": {},
   "outputs": [],
   "source": [
    "df_train_eng[\"mountNamespace\"] = df_train_eng[\"mountNamespace\"].map(lambda x: 1 if x == 4026531840 else 0)  "
   ]
  },
  {
   "cell_type": "code",
   "execution_count": 136,
   "id": "f6338014",
   "metadata": {},
   "outputs": [],
   "source": [
    "df_test_eng[\"mountNamespace\"] = df_test_eng[\"mountNamespace\"].map(lambda x: 1 if x == 4026531840 else 0)"
   ]
  },
  {
   "cell_type": "code",
   "execution_count": 138,
   "id": "8c9971f0",
   "metadata": {},
   "outputs": [],
   "source": [
    "df_validate_eng[\"mountNamespace\"] = df_validate_eng[\"mountNamespace\"].map(lambda x: 1 if x == 4026531840 else 0)"
   ]
  },
  {
   "cell_type": "code",
   "execution_count": 143,
   "id": "83732da1",
   "metadata": {},
   "outputs": [
    {
     "data": {
      "text/plain": [
       "1    567496\n",
       "0    195648\n",
       "Name: mountNamespace, dtype: int64"
      ]
     },
     "execution_count": 143,
     "metadata": {},
     "output_type": "execute_result"
    }
   ],
   "source": [
    "df_train_eng.mountNamespace.value_counts()"
   ]
  },
  {
   "cell_type": "code",
   "execution_count": 142,
   "id": "d1ebe7bd",
   "metadata": {},
   "outputs": [
    {
     "data": {
      "text/plain": [
       "1    188636\n",
       "0       331\n",
       "Name: mountNamespace, dtype: int64"
      ]
     },
     "execution_count": 142,
     "metadata": {},
     "output_type": "execute_result"
    }
   ],
   "source": [
    "df_test_eng.mountNamespace.value_counts()"
   ]
  },
  {
   "cell_type": "code",
   "execution_count": 144,
   "id": "19ee064c",
   "metadata": {},
   "outputs": [
    {
     "data": {
      "text/plain": [
       "0    143962\n",
       "1     45005\n",
       "Name: mountNamespace, dtype: int64"
      ]
     },
     "execution_count": 144,
     "metadata": {},
     "output_type": "execute_result"
    }
   ],
   "source": [
    "df_validate_eng.mountNamespace.value_counts()"
   ]
  },
  {
   "cell_type": "markdown",
   "id": "c17b75c7",
   "metadata": {},
   "source": [
    "### Transform 'returnValue' to trinary"
   ]
  },
  {
   "cell_type": "markdown",
   "id": "fd15452d",
   "metadata": {},
   "source": [
    "The returnValue (process exit status) transformed to trinary variable (-1 = errors, 0 = success, 1 = success with information sent to parent process)"
   ]
  },
  {
   "cell_type": "code",
   "execution_count": 147,
   "id": "3db6e502",
   "metadata": {},
   "outputs": [],
   "source": [
    "df_train_eng[\"returnValue\"] = df_train_eng[\"returnValue\"].map(lambda x: -1 if x < 0 else (0 if x == 0 else 1))"
   ]
  },
  {
   "cell_type": "code",
   "execution_count": 150,
   "id": "c9ed7516",
   "metadata": {},
   "outputs": [],
   "source": [
    "df_test_eng[\"returnValue\"] = df_test_eng[\"returnValue\"].map(lambda x: -1 if x < 0 else (0 if x == 0 else 1))"
   ]
  },
  {
   "cell_type": "code",
   "execution_count": 153,
   "id": "335f4905",
   "metadata": {},
   "outputs": [],
   "source": [
    "df_validate_eng[\"returnValue\"] = df_validate_eng[\"returnValue\"].map(lambda x: -1 if x < 0 else (0 if x == 0 else 1))"
   ]
  },
  {
   "cell_type": "code",
   "execution_count": 154,
   "id": "6bb58d70",
   "metadata": {},
   "outputs": [
    {
     "data": {
      "text/plain": [
       " 0    123756\n",
       " 1     54129\n",
       "-1     11082\n",
       "Name: returnValue, dtype: int64"
      ]
     },
     "execution_count": 154,
     "metadata": {},
     "output_type": "execute_result"
    }
   ],
   "source": [
    "df_validate_eng.returnValue.value_counts()"
   ]
  },
  {
   "cell_type": "markdown",
   "id": "48ab7242",
   "metadata": {},
   "source": [
    "### Transform 'processId' to binary"
   ]
  },
  {
   "cell_type": "markdown",
   "id": "3fcc7bd6",
   "metadata": {},
   "source": [
    "Process IDs 0, 1, 2 are operating system processes, other IDs are randomly assigned at process creation. Non-OS processes are not as important for malicious activity detection."
   ]
  },
  {
   "cell_type": "code",
   "execution_count": 156,
   "id": "ebc715e3",
   "metadata": {},
   "outputs": [],
   "source": [
    "df_train_eng.processId[df_train_eng.processId == 0] = 1\n",
    "df_train_eng.processId[df_train_eng.processId == 2] = 1\n",
    "df_train_eng.processId[df_train_eng.processId > 2] = 0"
   ]
  },
  {
   "cell_type": "code",
   "execution_count": 159,
   "id": "11737a7d",
   "metadata": {},
   "outputs": [],
   "source": [
    "df_test_eng.processId[df_test_eng.processId == 0] = 1\n",
    "df_test_eng.processId[df_test_eng.processId == 2] = 1\n",
    "df_test_eng.processId[df_test_eng.processId > 2] = 0"
   ]
  },
  {
   "cell_type": "code",
   "execution_count": 161,
   "id": "e5c31454",
   "metadata": {},
   "outputs": [],
   "source": [
    "df_validate_eng.processId[df_validate_eng.processId == 0] = 1\n",
    "df_validate_eng.processId[df_validate_eng.processId == 2] = 1\n",
    "df_validate_eng.processId[df_validate_eng.processId > 2] = 0"
   ]
  },
  {
   "cell_type": "code",
   "execution_count": 162,
   "id": "c9effc85",
   "metadata": {},
   "outputs": [
    {
     "data": {
      "text/plain": [
       "0    184393\n",
       "1      4574\n",
       "Name: processId, dtype: int64"
      ]
     },
     "execution_count": 162,
     "metadata": {},
     "output_type": "execute_result"
    }
   ],
   "source": [
    "df_validate_eng.processId.value_counts()"
   ]
  },
  {
   "cell_type": "markdown",
   "id": "1bc2d237",
   "metadata": {},
   "source": [
    "### Transform 'parentProcessId' to binary"
   ]
  },
  {
   "cell_type": "markdown",
   "id": "e9237dd1",
   "metadata": {},
   "source": [
    "Parent process IDs 0, 1, 2 are operating system processes, other IDs are randomly assigned at process creation. Non-OS processes/parent processes are not as important for malicious activity detection."
   ]
  },
  {
   "cell_type": "code",
   "execution_count": 165,
   "id": "34eb373e",
   "metadata": {},
   "outputs": [],
   "source": [
    "df_train_eng[\"parentProcessId\"] = df_train_eng[\"parentProcessId\"].map(lambda x: 1 if x in [0, 1, 2] else 0)"
   ]
  },
  {
   "cell_type": "code",
   "execution_count": 168,
   "id": "28410b23",
   "metadata": {},
   "outputs": [],
   "source": [
    "df_test_eng[\"parentProcessId\"] = df_test_eng[\"parentProcessId\"].map(lambda x: 1 if x in [0, 1, 2] else 0)"
   ]
  },
  {
   "cell_type": "code",
   "execution_count": 171,
   "id": "c3dcedae",
   "metadata": {},
   "outputs": [],
   "source": [
    "df_validate_eng[\"parentProcessId\"] = df_validate_eng[\"parentProcessId\"].map(lambda x: 1 if x in [0, 1, 2] else 0)"
   ]
  },
  {
   "cell_type": "code",
   "execution_count": 166,
   "id": "ecf05d92",
   "metadata": {},
   "outputs": [
    {
     "data": {
      "text/plain": [
       "0    683590\n",
       "1     79554\n",
       "Name: parentProcessId, dtype: int64"
      ]
     },
     "execution_count": 166,
     "metadata": {},
     "output_type": "execute_result"
    }
   ],
   "source": [
    "df_train_eng.parentProcessId.value_counts()"
   ]
  },
  {
   "cell_type": "code",
   "execution_count": 174,
   "id": "9f356344",
   "metadata": {},
   "outputs": [
    {
     "data": {
      "text/plain": [
       "0    179613\n",
       "1      9354\n",
       "Name: parentProcessId, dtype: int64"
      ]
     },
     "execution_count": 174,
     "metadata": {},
     "output_type": "execute_result"
    }
   ],
   "source": [
    "df_test_eng.parentProcessId.value_counts()"
   ]
  },
  {
   "cell_type": "code",
   "execution_count": 173,
   "id": "9815ecaa",
   "metadata": {},
   "outputs": [
    {
     "data": {
      "text/plain": [
       "0    174364\n",
       "1     14603\n",
       "Name: parentProcessId, dtype: int64"
      ]
     },
     "execution_count": 173,
     "metadata": {},
     "output_type": "execute_result"
    }
   ],
   "source": [
    "df_validate_eng.parentProcessId.value_counts()"
   ]
  },
  {
   "cell_type": "markdown",
   "id": "9f7b5312",
   "metadata": {},
   "source": [
    "### Transform userId to binary"
   ]
  },
  {
   "cell_type": "markdown",
   "id": "92dcee15",
   "metadata": {},
   "source": [
    "The Linux operating system is usually assigned an userId of 0 or at least below 1000. Actual users are assigned userIds starting at 1000 at login. Thus, OS activity will have userIds less than 1000 while logged-in user activity will have userIds equal to or greater than 1000. The analysis will focus on OS userId activity to detect malicious behavior."
   ]
  },
  {
   "cell_type": "code",
   "execution_count": 176,
   "id": "1833fa0a",
   "metadata": {},
   "outputs": [],
   "source": [
    "df_train_eng[\"userId\"] = df_train_eng[\"userId\"].map(lambda x: 1 if x < 1000 else 0)"
   ]
  },
  {
   "cell_type": "code",
   "execution_count": 180,
   "id": "d3e5faca",
   "metadata": {},
   "outputs": [],
   "source": [
    "df_test_eng[\"userId\"] = df_test_eng[\"userId\"].map(lambda x: 1 if x < 1000 else 0)"
   ]
  },
  {
   "cell_type": "code",
   "execution_count": 183,
   "id": "8d680477",
   "metadata": {},
   "outputs": [],
   "source": [
    "df_validate_eng[\"userId\"] = df_validate_eng[\"userId\"].map(lambda x: 1 if x < 1000 else 0)"
   ]
  },
  {
   "cell_type": "code",
   "execution_count": 185,
   "id": "25a0d9d5",
   "metadata": {},
   "outputs": [
    {
     "data": {
      "text/plain": [
       "1    762148\n",
       "0       996\n",
       "Name: userId, dtype: int64"
      ]
     },
     "execution_count": 185,
     "metadata": {},
     "output_type": "execute_result"
    }
   ],
   "source": [
    "df_train_eng.userId.value_counts()"
   ]
  },
  {
   "cell_type": "code",
   "execution_count": 186,
   "id": "4cc210cc",
   "metadata": {},
   "outputs": [
    {
     "data": {
      "text/plain": [
       "0    161251\n",
       "1     27716\n",
       "Name: userId, dtype: int64"
      ]
     },
     "execution_count": 186,
     "metadata": {},
     "output_type": "execute_result"
    }
   ],
   "source": [
    "df_test_eng.userId.value_counts()"
   ]
  },
  {
   "cell_type": "code",
   "execution_count": 184,
   "id": "68858d50",
   "metadata": {},
   "outputs": [
    {
     "data": {
      "text/plain": [
       "1    188190\n",
       "0       777\n",
       "Name: userId, dtype: int64"
      ]
     },
     "execution_count": 184,
     "metadata": {},
     "output_type": "execute_result"
    }
   ],
   "source": [
    "df_validate_eng.userId.value_counts()"
   ]
  },
  {
   "cell_type": "code",
   "execution_count": 188,
   "id": "af9759c6",
   "metadata": {},
   "outputs": [
    {
     "data": {
      "text/html": [
       "<div>\n",
       "<style scoped>\n",
       "    .dataframe tbody tr th:only-of-type {\n",
       "        vertical-align: middle;\n",
       "    }\n",
       "\n",
       "    .dataframe tbody tr th {\n",
       "        vertical-align: top;\n",
       "    }\n",
       "\n",
       "    .dataframe thead th {\n",
       "        text-align: right;\n",
       "    }\n",
       "</style>\n",
       "<table border=\"1\" class=\"dataframe\">\n",
       "  <thead>\n",
       "    <tr style=\"text-align: right;\">\n",
       "      <th></th>\n",
       "      <th>col_0</th>\n",
       "      <th>col_1</th>\n",
       "      <th>col_2</th>\n",
       "      <th>col_3</th>\n",
       "      <th>col_4</th>\n",
       "      <th>col_5</th>\n",
       "      <th>col_6</th>\n",
       "      <th>col_7</th>\n",
       "      <th>processId</th>\n",
       "      <th>threadId</th>\n",
       "      <th>parentProcessId</th>\n",
       "      <th>userId</th>\n",
       "      <th>mountNamespace</th>\n",
       "      <th>eventId</th>\n",
       "      <th>argsNum</th>\n",
       "      <th>returnValue</th>\n",
       "      <th>sus</th>\n",
       "      <th>evil</th>\n",
       "    </tr>\n",
       "  </thead>\n",
       "  <tbody>\n",
       "    <tr>\n",
       "      <th>0</th>\n",
       "      <td>1</td>\n",
       "      <td>0</td>\n",
       "      <td>1</td>\n",
       "      <td>0</td>\n",
       "      <td>0</td>\n",
       "      <td>0</td>\n",
       "      <td>0</td>\n",
       "      <td>0</td>\n",
       "      <td>0</td>\n",
       "      <td>382</td>\n",
       "      <td>1</td>\n",
       "      <td>1</td>\n",
       "      <td>0</td>\n",
       "      <td>41</td>\n",
       "      <td>3</td>\n",
       "      <td>1</td>\n",
       "      <td>0</td>\n",
       "      <td>0</td>\n",
       "    </tr>\n",
       "    <tr>\n",
       "      <th>1</th>\n",
       "      <td>2</td>\n",
       "      <td>0</td>\n",
       "      <td>0</td>\n",
       "      <td>0</td>\n",
       "      <td>0</td>\n",
       "      <td>0</td>\n",
       "      <td>0</td>\n",
       "      <td>0</td>\n",
       "      <td>0</td>\n",
       "      <td>379</td>\n",
       "      <td>1</td>\n",
       "      <td>1</td>\n",
       "      <td>0</td>\n",
       "      <td>41</td>\n",
       "      <td>3</td>\n",
       "      <td>1</td>\n",
       "      <td>0</td>\n",
       "      <td>0</td>\n",
       "    </tr>\n",
       "    <tr>\n",
       "      <th>2</th>\n",
       "      <td>1</td>\n",
       "      <td>0</td>\n",
       "      <td>0</td>\n",
       "      <td>0</td>\n",
       "      <td>1</td>\n",
       "      <td>0</td>\n",
       "      <td>0</td>\n",
       "      <td>0</td>\n",
       "      <td>1</td>\n",
       "      <td>1</td>\n",
       "      <td>1</td>\n",
       "      <td>1</td>\n",
       "      <td>1</td>\n",
       "      <td>1005</td>\n",
       "      <td>4</td>\n",
       "      <td>0</td>\n",
       "      <td>0</td>\n",
       "      <td>0</td>\n",
       "    </tr>\n",
       "    <tr>\n",
       "      <th>3</th>\n",
       "      <td>1</td>\n",
       "      <td>0</td>\n",
       "      <td>0</td>\n",
       "      <td>0</td>\n",
       "      <td>1</td>\n",
       "      <td>0</td>\n",
       "      <td>0</td>\n",
       "      <td>0</td>\n",
       "      <td>1</td>\n",
       "      <td>1</td>\n",
       "      <td>1</td>\n",
       "      <td>1</td>\n",
       "      <td>1</td>\n",
       "      <td>257</td>\n",
       "      <td>4</td>\n",
       "      <td>1</td>\n",
       "      <td>0</td>\n",
       "      <td>0</td>\n",
       "    </tr>\n",
       "    <tr>\n",
       "      <th>4</th>\n",
       "      <td>1</td>\n",
       "      <td>0</td>\n",
       "      <td>0</td>\n",
       "      <td>0</td>\n",
       "      <td>1</td>\n",
       "      <td>0</td>\n",
       "      <td>0</td>\n",
       "      <td>0</td>\n",
       "      <td>1</td>\n",
       "      <td>1</td>\n",
       "      <td>1</td>\n",
       "      <td>1</td>\n",
       "      <td>1</td>\n",
       "      <td>5</td>\n",
       "      <td>2</td>\n",
       "      <td>0</td>\n",
       "      <td>0</td>\n",
       "      <td>0</td>\n",
       "    </tr>\n",
       "    <tr>\n",
       "      <th>...</th>\n",
       "      <td>...</td>\n",
       "      <td>...</td>\n",
       "      <td>...</td>\n",
       "      <td>...</td>\n",
       "      <td>...</td>\n",
       "      <td>...</td>\n",
       "      <td>...</td>\n",
       "      <td>...</td>\n",
       "      <td>...</td>\n",
       "      <td>...</td>\n",
       "      <td>...</td>\n",
       "      <td>...</td>\n",
       "      <td>...</td>\n",
       "      <td>...</td>\n",
       "      <td>...</td>\n",
       "      <td>...</td>\n",
       "      <td>...</td>\n",
       "      <td>...</td>\n",
       "    </tr>\n",
       "    <tr>\n",
       "      <th>188962</th>\n",
       "      <td>1</td>\n",
       "      <td>0</td>\n",
       "      <td>0</td>\n",
       "      <td>0</td>\n",
       "      <td>1</td>\n",
       "      <td>0</td>\n",
       "      <td>0</td>\n",
       "      <td>0</td>\n",
       "      <td>0</td>\n",
       "      <td>7555</td>\n",
       "      <td>0</td>\n",
       "      <td>0</td>\n",
       "      <td>1</td>\n",
       "      <td>42</td>\n",
       "      <td>3</td>\n",
       "      <td>-1</td>\n",
       "      <td>1</td>\n",
       "      <td>1</td>\n",
       "    </tr>\n",
       "    <tr>\n",
       "      <th>188963</th>\n",
       "      <td>1</td>\n",
       "      <td>0</td>\n",
       "      <td>0</td>\n",
       "      <td>0</td>\n",
       "      <td>1</td>\n",
       "      <td>0</td>\n",
       "      <td>0</td>\n",
       "      <td>0</td>\n",
       "      <td>0</td>\n",
       "      <td>7555</td>\n",
       "      <td>0</td>\n",
       "      <td>0</td>\n",
       "      <td>1</td>\n",
       "      <td>42</td>\n",
       "      <td>3</td>\n",
       "      <td>-1</td>\n",
       "      <td>1</td>\n",
       "      <td>1</td>\n",
       "    </tr>\n",
       "    <tr>\n",
       "      <th>188964</th>\n",
       "      <td>1</td>\n",
       "      <td>0</td>\n",
       "      <td>0</td>\n",
       "      <td>0</td>\n",
       "      <td>1</td>\n",
       "      <td>0</td>\n",
       "      <td>0</td>\n",
       "      <td>0</td>\n",
       "      <td>0</td>\n",
       "      <td>7555</td>\n",
       "      <td>0</td>\n",
       "      <td>0</td>\n",
       "      <td>1</td>\n",
       "      <td>42</td>\n",
       "      <td>3</td>\n",
       "      <td>-1</td>\n",
       "      <td>1</td>\n",
       "      <td>1</td>\n",
       "    </tr>\n",
       "    <tr>\n",
       "      <th>188965</th>\n",
       "      <td>1</td>\n",
       "      <td>0</td>\n",
       "      <td>0</td>\n",
       "      <td>0</td>\n",
       "      <td>1</td>\n",
       "      <td>0</td>\n",
       "      <td>0</td>\n",
       "      <td>0</td>\n",
       "      <td>0</td>\n",
       "      <td>7555</td>\n",
       "      <td>0</td>\n",
       "      <td>0</td>\n",
       "      <td>1</td>\n",
       "      <td>42</td>\n",
       "      <td>3</td>\n",
       "      <td>-1</td>\n",
       "      <td>1</td>\n",
       "      <td>1</td>\n",
       "    </tr>\n",
       "    <tr>\n",
       "      <th>188966</th>\n",
       "      <td>1</td>\n",
       "      <td>0</td>\n",
       "      <td>0</td>\n",
       "      <td>0</td>\n",
       "      <td>1</td>\n",
       "      <td>0</td>\n",
       "      <td>0</td>\n",
       "      <td>0</td>\n",
       "      <td>0</td>\n",
       "      <td>7555</td>\n",
       "      <td>0</td>\n",
       "      <td>0</td>\n",
       "      <td>1</td>\n",
       "      <td>42</td>\n",
       "      <td>3</td>\n",
       "      <td>-1</td>\n",
       "      <td>1</td>\n",
       "      <td>1</td>\n",
       "    </tr>\n",
       "  </tbody>\n",
       "</table>\n",
       "<p>188967 rows × 18 columns</p>\n",
       "</div>"
      ],
      "text/plain": [
       "        col_0  col_1  col_2  col_3  col_4  col_5  col_6  col_7  processId  \\\n",
       "0           1      0      1      0      0      0      0      0          0   \n",
       "1           2      0      0      0      0      0      0      0          0   \n",
       "2           1      0      0      0      1      0      0      0          1   \n",
       "3           1      0      0      0      1      0      0      0          1   \n",
       "4           1      0      0      0      1      0      0      0          1   \n",
       "...       ...    ...    ...    ...    ...    ...    ...    ...        ...   \n",
       "188962      1      0      0      0      1      0      0      0          0   \n",
       "188963      1      0      0      0      1      0      0      0          0   \n",
       "188964      1      0      0      0      1      0      0      0          0   \n",
       "188965      1      0      0      0      1      0      0      0          0   \n",
       "188966      1      0      0      0      1      0      0      0          0   \n",
       "\n",
       "        threadId  parentProcessId  userId  mountNamespace  eventId  argsNum  \\\n",
       "0            382                1       1               0       41        3   \n",
       "1            379                1       1               0       41        3   \n",
       "2              1                1       1               1     1005        4   \n",
       "3              1                1       1               1      257        4   \n",
       "4              1                1       1               1        5        2   \n",
       "...          ...              ...     ...             ...      ...      ...   \n",
       "188962      7555                0       0               1       42        3   \n",
       "188963      7555                0       0               1       42        3   \n",
       "188964      7555                0       0               1       42        3   \n",
       "188965      7555                0       0               1       42        3   \n",
       "188966      7555                0       0               1       42        3   \n",
       "\n",
       "        returnValue  sus  evil  \n",
       "0                 1    0     0  \n",
       "1                 1    0     0  \n",
       "2                 0    0     0  \n",
       "3                 1    0     0  \n",
       "4                 0    0     0  \n",
       "...             ...  ...   ...  \n",
       "188962           -1    1     1  \n",
       "188963           -1    1     1  \n",
       "188964           -1    1     1  \n",
       "188965           -1    1     1  \n",
       "188966           -1    1     1  \n",
       "\n",
       "[188967 rows x 18 columns]"
      ]
     },
     "execution_count": 188,
     "metadata": {},
     "output_type": "execute_result"
    }
   ],
   "source": [
    "df_test_eng"
   ]
  },
  {
   "cell_type": "markdown",
   "id": "201bd32a",
   "metadata": {},
   "source": [
    "## Data Preperation"
   ]
  },
  {
   "cell_type": "markdown",
   "id": "bcb52c06",
   "metadata": {},
   "source": [
    "Prepare datasets by removing 'sus' and 'evil' target variables."
   ]
  },
  {
   "cell_type": "code",
   "execution_count": 190,
   "id": "542db59e",
   "metadata": {},
   "outputs": [],
   "source": [
    "X_intermediate = df_train_eng.drop(['sus', 'evil'], axis = 1)"
   ]
  },
  {
   "cell_type": "markdown",
   "id": "eee4b10a",
   "metadata": {},
   "source": [
    "Subset training dataset from 763,144 to 200,000 random samples for One-class SVM training. One-class SVM training is resource and time intensive. Training with 200,000 random samples will take 1-2 hours on computer without a graphics card."
   ]
  },
  {
   "cell_type": "code",
   "execution_count": 191,
   "id": "d2c30373",
   "metadata": {},
   "outputs": [],
   "source": [
    "X_train = X_intermediate.sample(n=200000)"
   ]
  },
  {
   "cell_type": "code",
   "execution_count": 195,
   "id": "063418b0",
   "metadata": {},
   "outputs": [
    {
     "data": {
      "text/html": [
       "<div>\n",
       "<style scoped>\n",
       "    .dataframe tbody tr th:only-of-type {\n",
       "        vertical-align: middle;\n",
       "    }\n",
       "\n",
       "    .dataframe tbody tr th {\n",
       "        vertical-align: top;\n",
       "    }\n",
       "\n",
       "    .dataframe thead th {\n",
       "        text-align: right;\n",
       "    }\n",
       "</style>\n",
       "<table border=\"1\" class=\"dataframe\">\n",
       "  <thead>\n",
       "    <tr style=\"text-align: right;\">\n",
       "      <th></th>\n",
       "      <th>col_0</th>\n",
       "      <th>col_1</th>\n",
       "      <th>col_2</th>\n",
       "      <th>col_3</th>\n",
       "      <th>col_4</th>\n",
       "      <th>col_5</th>\n",
       "      <th>col_6</th>\n",
       "      <th>col_7</th>\n",
       "      <th>processId</th>\n",
       "      <th>threadId</th>\n",
       "      <th>parentProcessId</th>\n",
       "      <th>userId</th>\n",
       "      <th>mountNamespace</th>\n",
       "      <th>eventId</th>\n",
       "      <th>argsNum</th>\n",
       "      <th>returnValue</th>\n",
       "    </tr>\n",
       "  </thead>\n",
       "  <tbody>\n",
       "    <tr>\n",
       "      <th>411806</th>\n",
       "      <td>0</td>\n",
       "      <td>0</td>\n",
       "      <td>1</td>\n",
       "      <td>0</td>\n",
       "      <td>0</td>\n",
       "      <td>0</td>\n",
       "      <td>0</td>\n",
       "      <td>1</td>\n",
       "      <td>0</td>\n",
       "      <td>7423</td>\n",
       "      <td>0</td>\n",
       "      <td>1</td>\n",
       "      <td>1</td>\n",
       "      <td>1005</td>\n",
       "      <td>4</td>\n",
       "      <td>0</td>\n",
       "    </tr>\n",
       "    <tr>\n",
       "      <th>487837</th>\n",
       "      <td>2</td>\n",
       "      <td>0</td>\n",
       "      <td>0</td>\n",
       "      <td>0</td>\n",
       "      <td>0</td>\n",
       "      <td>0</td>\n",
       "      <td>0</td>\n",
       "      <td>0</td>\n",
       "      <td>0</td>\n",
       "      <td>7266</td>\n",
       "      <td>0</td>\n",
       "      <td>1</td>\n",
       "      <td>0</td>\n",
       "      <td>5</td>\n",
       "      <td>2</td>\n",
       "      <td>0</td>\n",
       "    </tr>\n",
       "    <tr>\n",
       "      <th>627922</th>\n",
       "      <td>2</td>\n",
       "      <td>0</td>\n",
       "      <td>0</td>\n",
       "      <td>0</td>\n",
       "      <td>0</td>\n",
       "      <td>0</td>\n",
       "      <td>0</td>\n",
       "      <td>0</td>\n",
       "      <td>0</td>\n",
       "      <td>7392</td>\n",
       "      <td>0</td>\n",
       "      <td>1</td>\n",
       "      <td>0</td>\n",
       "      <td>21</td>\n",
       "      <td>2</td>\n",
       "      <td>-1</td>\n",
       "    </tr>\n",
       "    <tr>\n",
       "      <th>350861</th>\n",
       "      <td>0</td>\n",
       "      <td>0</td>\n",
       "      <td>1</td>\n",
       "      <td>0</td>\n",
       "      <td>0</td>\n",
       "      <td>0</td>\n",
       "      <td>0</td>\n",
       "      <td>1</td>\n",
       "      <td>0</td>\n",
       "      <td>7413</td>\n",
       "      <td>0</td>\n",
       "      <td>1</td>\n",
       "      <td>1</td>\n",
       "      <td>257</td>\n",
       "      <td>4</td>\n",
       "      <td>1</td>\n",
       "    </tr>\n",
       "    <tr>\n",
       "      <th>693203</th>\n",
       "      <td>0</td>\n",
       "      <td>0</td>\n",
       "      <td>0</td>\n",
       "      <td>0</td>\n",
       "      <td>1</td>\n",
       "      <td>0</td>\n",
       "      <td>0</td>\n",
       "      <td>1</td>\n",
       "      <td>0</td>\n",
       "      <td>7290</td>\n",
       "      <td>0</td>\n",
       "      <td>1</td>\n",
       "      <td>1</td>\n",
       "      <td>3</td>\n",
       "      <td>1</td>\n",
       "      <td>0</td>\n",
       "    </tr>\n",
       "    <tr>\n",
       "      <th>...</th>\n",
       "      <td>...</td>\n",
       "      <td>...</td>\n",
       "      <td>...</td>\n",
       "      <td>...</td>\n",
       "      <td>...</td>\n",
       "      <td>...</td>\n",
       "      <td>...</td>\n",
       "      <td>...</td>\n",
       "      <td>...</td>\n",
       "      <td>...</td>\n",
       "      <td>...</td>\n",
       "      <td>...</td>\n",
       "      <td>...</td>\n",
       "      <td>...</td>\n",
       "      <td>...</td>\n",
       "      <td>...</td>\n",
       "    </tr>\n",
       "    <tr>\n",
       "      <th>278178</th>\n",
       "      <td>0</td>\n",
       "      <td>0</td>\n",
       "      <td>1</td>\n",
       "      <td>0</td>\n",
       "      <td>0</td>\n",
       "      <td>0</td>\n",
       "      <td>0</td>\n",
       "      <td>1</td>\n",
       "      <td>0</td>\n",
       "      <td>7411</td>\n",
       "      <td>0</td>\n",
       "      <td>1</td>\n",
       "      <td>1</td>\n",
       "      <td>1005</td>\n",
       "      <td>4</td>\n",
       "      <td>0</td>\n",
       "    </tr>\n",
       "    <tr>\n",
       "      <th>444446</th>\n",
       "      <td>0</td>\n",
       "      <td>0</td>\n",
       "      <td>1</td>\n",
       "      <td>0</td>\n",
       "      <td>0</td>\n",
       "      <td>0</td>\n",
       "      <td>0</td>\n",
       "      <td>1</td>\n",
       "      <td>0</td>\n",
       "      <td>7587</td>\n",
       "      <td>0</td>\n",
       "      <td>1</td>\n",
       "      <td>1</td>\n",
       "      <td>257</td>\n",
       "      <td>4</td>\n",
       "      <td>1</td>\n",
       "    </tr>\n",
       "    <tr>\n",
       "      <th>689664</th>\n",
       "      <td>0</td>\n",
       "      <td>0</td>\n",
       "      <td>0</td>\n",
       "      <td>0</td>\n",
       "      <td>1</td>\n",
       "      <td>0</td>\n",
       "      <td>0</td>\n",
       "      <td>1</td>\n",
       "      <td>0</td>\n",
       "      <td>7330</td>\n",
       "      <td>0</td>\n",
       "      <td>1</td>\n",
       "      <td>1</td>\n",
       "      <td>257</td>\n",
       "      <td>4</td>\n",
       "      <td>1</td>\n",
       "    </tr>\n",
       "    <tr>\n",
       "      <th>41780</th>\n",
       "      <td>0</td>\n",
       "      <td>1</td>\n",
       "      <td>1</td>\n",
       "      <td>0</td>\n",
       "      <td>0</td>\n",
       "      <td>0</td>\n",
       "      <td>0</td>\n",
       "      <td>0</td>\n",
       "      <td>0</td>\n",
       "      <td>7355</td>\n",
       "      <td>0</td>\n",
       "      <td>1</td>\n",
       "      <td>1</td>\n",
       "      <td>1005</td>\n",
       "      <td>4</td>\n",
       "      <td>0</td>\n",
       "    </tr>\n",
       "    <tr>\n",
       "      <th>635223</th>\n",
       "      <td>2</td>\n",
       "      <td>0</td>\n",
       "      <td>0</td>\n",
       "      <td>0</td>\n",
       "      <td>0</td>\n",
       "      <td>0</td>\n",
       "      <td>0</td>\n",
       "      <td>0</td>\n",
       "      <td>0</td>\n",
       "      <td>7460</td>\n",
       "      <td>0</td>\n",
       "      <td>1</td>\n",
       "      <td>0</td>\n",
       "      <td>5</td>\n",
       "      <td>2</td>\n",
       "      <td>0</td>\n",
       "    </tr>\n",
       "  </tbody>\n",
       "</table>\n",
       "<p>200000 rows × 16 columns</p>\n",
       "</div>"
      ],
      "text/plain": [
       "        col_0  col_1  col_2  col_3  col_4  col_5  col_6  col_7  processId  \\\n",
       "411806      0      0      1      0      0      0      0      1          0   \n",
       "487837      2      0      0      0      0      0      0      0          0   \n",
       "627922      2      0      0      0      0      0      0      0          0   \n",
       "350861      0      0      1      0      0      0      0      1          0   \n",
       "693203      0      0      0      0      1      0      0      1          0   \n",
       "...       ...    ...    ...    ...    ...    ...    ...    ...        ...   \n",
       "278178      0      0      1      0      0      0      0      1          0   \n",
       "444446      0      0      1      0      0      0      0      1          0   \n",
       "689664      0      0      0      0      1      0      0      1          0   \n",
       "41780       0      1      1      0      0      0      0      0          0   \n",
       "635223      2      0      0      0      0      0      0      0          0   \n",
       "\n",
       "        threadId  parentProcessId  userId  mountNamespace  eventId  argsNum  \\\n",
       "411806      7423                0       1               1     1005        4   \n",
       "487837      7266                0       1               0        5        2   \n",
       "627922      7392                0       1               0       21        2   \n",
       "350861      7413                0       1               1      257        4   \n",
       "693203      7290                0       1               1        3        1   \n",
       "...          ...              ...     ...             ...      ...      ...   \n",
       "278178      7411                0       1               1     1005        4   \n",
       "444446      7587                0       1               1      257        4   \n",
       "689664      7330                0       1               1      257        4   \n",
       "41780       7355                0       1               1     1005        4   \n",
       "635223      7460                0       1               0        5        2   \n",
       "\n",
       "        returnValue  \n",
       "411806            0  \n",
       "487837            0  \n",
       "627922           -1  \n",
       "350861            1  \n",
       "693203            0  \n",
       "...             ...  \n",
       "278178            0  \n",
       "444446            1  \n",
       "689664            1  \n",
       "41780             0  \n",
       "635223            0  \n",
       "\n",
       "[200000 rows x 16 columns]"
      ]
     },
     "execution_count": 195,
     "metadata": {},
     "output_type": "execute_result"
    }
   ],
   "source": [
    "X_train"
   ]
  },
  {
   "cell_type": "markdown",
   "id": "a31e438b",
   "metadata": {},
   "source": [
    "Prepare the test dataset by removing 'sus' and 'evil' target variables."
   ]
  },
  {
   "cell_type": "code",
   "execution_count": 192,
   "id": "a976f1a7",
   "metadata": {},
   "outputs": [],
   "source": [
    "X_test = df_test_eng.drop(['sus', 'evil'], axis =1)"
   ]
  },
  {
   "cell_type": "code",
   "execution_count": 196,
   "id": "a1fb0282",
   "metadata": {},
   "outputs": [
    {
     "data": {
      "text/html": [
       "<div>\n",
       "<style scoped>\n",
       "    .dataframe tbody tr th:only-of-type {\n",
       "        vertical-align: middle;\n",
       "    }\n",
       "\n",
       "    .dataframe tbody tr th {\n",
       "        vertical-align: top;\n",
       "    }\n",
       "\n",
       "    .dataframe thead th {\n",
       "        text-align: right;\n",
       "    }\n",
       "</style>\n",
       "<table border=\"1\" class=\"dataframe\">\n",
       "  <thead>\n",
       "    <tr style=\"text-align: right;\">\n",
       "      <th></th>\n",
       "      <th>col_0</th>\n",
       "      <th>col_1</th>\n",
       "      <th>col_2</th>\n",
       "      <th>col_3</th>\n",
       "      <th>col_4</th>\n",
       "      <th>col_5</th>\n",
       "      <th>col_6</th>\n",
       "      <th>col_7</th>\n",
       "      <th>processId</th>\n",
       "      <th>threadId</th>\n",
       "      <th>parentProcessId</th>\n",
       "      <th>userId</th>\n",
       "      <th>mountNamespace</th>\n",
       "      <th>eventId</th>\n",
       "      <th>argsNum</th>\n",
       "      <th>returnValue</th>\n",
       "    </tr>\n",
       "  </thead>\n",
       "  <tbody>\n",
       "    <tr>\n",
       "      <th>0</th>\n",
       "      <td>1</td>\n",
       "      <td>0</td>\n",
       "      <td>1</td>\n",
       "      <td>0</td>\n",
       "      <td>0</td>\n",
       "      <td>0</td>\n",
       "      <td>0</td>\n",
       "      <td>0</td>\n",
       "      <td>0</td>\n",
       "      <td>382</td>\n",
       "      <td>1</td>\n",
       "      <td>1</td>\n",
       "      <td>0</td>\n",
       "      <td>41</td>\n",
       "      <td>3</td>\n",
       "      <td>1</td>\n",
       "    </tr>\n",
       "    <tr>\n",
       "      <th>1</th>\n",
       "      <td>2</td>\n",
       "      <td>0</td>\n",
       "      <td>0</td>\n",
       "      <td>0</td>\n",
       "      <td>0</td>\n",
       "      <td>0</td>\n",
       "      <td>0</td>\n",
       "      <td>0</td>\n",
       "      <td>0</td>\n",
       "      <td>379</td>\n",
       "      <td>1</td>\n",
       "      <td>1</td>\n",
       "      <td>0</td>\n",
       "      <td>41</td>\n",
       "      <td>3</td>\n",
       "      <td>1</td>\n",
       "    </tr>\n",
       "    <tr>\n",
       "      <th>2</th>\n",
       "      <td>1</td>\n",
       "      <td>0</td>\n",
       "      <td>0</td>\n",
       "      <td>0</td>\n",
       "      <td>1</td>\n",
       "      <td>0</td>\n",
       "      <td>0</td>\n",
       "      <td>0</td>\n",
       "      <td>1</td>\n",
       "      <td>1</td>\n",
       "      <td>1</td>\n",
       "      <td>1</td>\n",
       "      <td>1</td>\n",
       "      <td>1005</td>\n",
       "      <td>4</td>\n",
       "      <td>0</td>\n",
       "    </tr>\n",
       "    <tr>\n",
       "      <th>3</th>\n",
       "      <td>1</td>\n",
       "      <td>0</td>\n",
       "      <td>0</td>\n",
       "      <td>0</td>\n",
       "      <td>1</td>\n",
       "      <td>0</td>\n",
       "      <td>0</td>\n",
       "      <td>0</td>\n",
       "      <td>1</td>\n",
       "      <td>1</td>\n",
       "      <td>1</td>\n",
       "      <td>1</td>\n",
       "      <td>1</td>\n",
       "      <td>257</td>\n",
       "      <td>4</td>\n",
       "      <td>1</td>\n",
       "    </tr>\n",
       "    <tr>\n",
       "      <th>4</th>\n",
       "      <td>1</td>\n",
       "      <td>0</td>\n",
       "      <td>0</td>\n",
       "      <td>0</td>\n",
       "      <td>1</td>\n",
       "      <td>0</td>\n",
       "      <td>0</td>\n",
       "      <td>0</td>\n",
       "      <td>1</td>\n",
       "      <td>1</td>\n",
       "      <td>1</td>\n",
       "      <td>1</td>\n",
       "      <td>1</td>\n",
       "      <td>5</td>\n",
       "      <td>2</td>\n",
       "      <td>0</td>\n",
       "    </tr>\n",
       "    <tr>\n",
       "      <th>...</th>\n",
       "      <td>...</td>\n",
       "      <td>...</td>\n",
       "      <td>...</td>\n",
       "      <td>...</td>\n",
       "      <td>...</td>\n",
       "      <td>...</td>\n",
       "      <td>...</td>\n",
       "      <td>...</td>\n",
       "      <td>...</td>\n",
       "      <td>...</td>\n",
       "      <td>...</td>\n",
       "      <td>...</td>\n",
       "      <td>...</td>\n",
       "      <td>...</td>\n",
       "      <td>...</td>\n",
       "      <td>...</td>\n",
       "    </tr>\n",
       "    <tr>\n",
       "      <th>188962</th>\n",
       "      <td>1</td>\n",
       "      <td>0</td>\n",
       "      <td>0</td>\n",
       "      <td>0</td>\n",
       "      <td>1</td>\n",
       "      <td>0</td>\n",
       "      <td>0</td>\n",
       "      <td>0</td>\n",
       "      <td>0</td>\n",
       "      <td>7555</td>\n",
       "      <td>0</td>\n",
       "      <td>0</td>\n",
       "      <td>1</td>\n",
       "      <td>42</td>\n",
       "      <td>3</td>\n",
       "      <td>-1</td>\n",
       "    </tr>\n",
       "    <tr>\n",
       "      <th>188963</th>\n",
       "      <td>1</td>\n",
       "      <td>0</td>\n",
       "      <td>0</td>\n",
       "      <td>0</td>\n",
       "      <td>1</td>\n",
       "      <td>0</td>\n",
       "      <td>0</td>\n",
       "      <td>0</td>\n",
       "      <td>0</td>\n",
       "      <td>7555</td>\n",
       "      <td>0</td>\n",
       "      <td>0</td>\n",
       "      <td>1</td>\n",
       "      <td>42</td>\n",
       "      <td>3</td>\n",
       "      <td>-1</td>\n",
       "    </tr>\n",
       "    <tr>\n",
       "      <th>188964</th>\n",
       "      <td>1</td>\n",
       "      <td>0</td>\n",
       "      <td>0</td>\n",
       "      <td>0</td>\n",
       "      <td>1</td>\n",
       "      <td>0</td>\n",
       "      <td>0</td>\n",
       "      <td>0</td>\n",
       "      <td>0</td>\n",
       "      <td>7555</td>\n",
       "      <td>0</td>\n",
       "      <td>0</td>\n",
       "      <td>1</td>\n",
       "      <td>42</td>\n",
       "      <td>3</td>\n",
       "      <td>-1</td>\n",
       "    </tr>\n",
       "    <tr>\n",
       "      <th>188965</th>\n",
       "      <td>1</td>\n",
       "      <td>0</td>\n",
       "      <td>0</td>\n",
       "      <td>0</td>\n",
       "      <td>1</td>\n",
       "      <td>0</td>\n",
       "      <td>0</td>\n",
       "      <td>0</td>\n",
       "      <td>0</td>\n",
       "      <td>7555</td>\n",
       "      <td>0</td>\n",
       "      <td>0</td>\n",
       "      <td>1</td>\n",
       "      <td>42</td>\n",
       "      <td>3</td>\n",
       "      <td>-1</td>\n",
       "    </tr>\n",
       "    <tr>\n",
       "      <th>188966</th>\n",
       "      <td>1</td>\n",
       "      <td>0</td>\n",
       "      <td>0</td>\n",
       "      <td>0</td>\n",
       "      <td>1</td>\n",
       "      <td>0</td>\n",
       "      <td>0</td>\n",
       "      <td>0</td>\n",
       "      <td>0</td>\n",
       "      <td>7555</td>\n",
       "      <td>0</td>\n",
       "      <td>0</td>\n",
       "      <td>1</td>\n",
       "      <td>42</td>\n",
       "      <td>3</td>\n",
       "      <td>-1</td>\n",
       "    </tr>\n",
       "  </tbody>\n",
       "</table>\n",
       "<p>188967 rows × 16 columns</p>\n",
       "</div>"
      ],
      "text/plain": [
       "        col_0  col_1  col_2  col_3  col_4  col_5  col_6  col_7  processId  \\\n",
       "0           1      0      1      0      0      0      0      0          0   \n",
       "1           2      0      0      0      0      0      0      0          0   \n",
       "2           1      0      0      0      1      0      0      0          1   \n",
       "3           1      0      0      0      1      0      0      0          1   \n",
       "4           1      0      0      0      1      0      0      0          1   \n",
       "...       ...    ...    ...    ...    ...    ...    ...    ...        ...   \n",
       "188962      1      0      0      0      1      0      0      0          0   \n",
       "188963      1      0      0      0      1      0      0      0          0   \n",
       "188964      1      0      0      0      1      0      0      0          0   \n",
       "188965      1      0      0      0      1      0      0      0          0   \n",
       "188966      1      0      0      0      1      0      0      0          0   \n",
       "\n",
       "        threadId  parentProcessId  userId  mountNamespace  eventId  argsNum  \\\n",
       "0            382                1       1               0       41        3   \n",
       "1            379                1       1               0       41        3   \n",
       "2              1                1       1               1     1005        4   \n",
       "3              1                1       1               1      257        4   \n",
       "4              1                1       1               1        5        2   \n",
       "...          ...              ...     ...             ...      ...      ...   \n",
       "188962      7555                0       0               1       42        3   \n",
       "188963      7555                0       0               1       42        3   \n",
       "188964      7555                0       0               1       42        3   \n",
       "188965      7555                0       0               1       42        3   \n",
       "188966      7555                0       0               1       42        3   \n",
       "\n",
       "        returnValue  \n",
       "0                 1  \n",
       "1                 1  \n",
       "2                 0  \n",
       "3                 1  \n",
       "4                 0  \n",
       "...             ...  \n",
       "188962           -1  \n",
       "188963           -1  \n",
       "188964           -1  \n",
       "188965           -1  \n",
       "188966           -1  \n",
       "\n",
       "[188967 rows x 16 columns]"
      ]
     },
     "execution_count": 196,
     "metadata": {},
     "output_type": "execute_result"
    }
   ],
   "source": [
    "X_test"
   ]
  },
  {
   "cell_type": "markdown",
   "id": "4e5b9c06",
   "metadata": {},
   "source": [
    "Store actual labels ('evil') in y_test"
   ]
  },
  {
   "cell_type": "code",
   "execution_count": 193,
   "id": "fe4f2d0e",
   "metadata": {},
   "outputs": [],
   "source": [
    "y_test = df_test_eng['evil']"
   ]
  },
  {
   "cell_type": "code",
   "execution_count": 197,
   "id": "d8a02d79",
   "metadata": {},
   "outputs": [
    {
     "data": {
      "text/plain": [
       "0         0\n",
       "1         0\n",
       "2         0\n",
       "3         0\n",
       "4         0\n",
       "         ..\n",
       "188962    1\n",
       "188963    1\n",
       "188964    1\n",
       "188965    1\n",
       "188966    1\n",
       "Name: evil, Length: 188967, dtype: int64"
      ]
     },
     "execution_count": 197,
     "metadata": {},
     "output_type": "execute_result"
    }
   ],
   "source": [
    "y_test"
   ]
  },
  {
   "cell_type": "markdown",
   "id": "a53d686a",
   "metadata": {},
   "source": [
    "## One-class SVM"
   ]
  },
  {
   "cell_type": "code",
   "execution_count": 306,
   "id": "f7e9a709",
   "metadata": {},
   "outputs": [
    {
     "data": {
      "text/plain": [
       "OneClassSVM(gamma=0.1, nu=0.1)"
      ]
     },
     "execution_count": 306,
     "metadata": {},
     "output_type": "execute_result"
    }
   ],
   "source": [
    "from sklearn import svm\n",
    "\n",
    "# fit the model\n",
    "clf = svm.OneClassSVM(nu=0.1, kernel=\"rbf\", gamma=0.1)\n",
    "clf.fit(X_train)"
   ]
  },
  {
   "cell_type": "markdown",
   "id": "048e59c6",
   "metadata": {},
   "source": [
    "The One-class SVM model was fitted with the train data. Now, the model will make predictions on the test dataset."
   ]
  },
  {
   "cell_type": "code",
   "execution_count": 307,
   "id": "507f3bdd",
   "metadata": {},
   "outputs": [],
   "source": [
    "y_pred_test = clf.predict(X_test)\n",
    "n_anomalies_test = y_pred_test[y_pred_test == -1].size"
   ]
  },
  {
   "cell_type": "markdown",
   "id": "6a0f1b74",
   "metadata": {},
   "source": [
    "One-class SVM returns '-1' if an anomaly is predicted. Otherwise, model returns '1' for a normal prediction. Now, change anomaly -1 values to 1 and normal to 0 for model scoring."
   ]
  },
  {
   "cell_type": "code",
   "execution_count": 308,
   "id": "faf6a2d5",
   "metadata": {},
   "outputs": [],
   "source": [
    "y_pred_test = [1 if i==-1 else 0 for i in y_pred_test]"
   ]
  },
  {
   "cell_type": "code",
   "execution_count": 171,
   "id": "0ccd79fb",
   "metadata": {},
   "outputs": [],
   "source": [
    "from sklearn.metrics import classification_report"
   ]
  },
  {
   "cell_type": "code",
   "execution_count": 309,
   "id": "c3de2df1",
   "metadata": {},
   "outputs": [
    {
     "name": "stdout",
     "output_type": "stream",
     "text": [
      "              precision    recall  f1-score   support\n",
      "\n",
      "           0       0.95      0.55      0.70     30535\n",
      "           1       0.92      0.99      0.96    158432\n",
      "\n",
      "    accuracy                           0.92    188967\n",
      "   macro avg       0.93      0.77      0.83    188967\n",
      "weighted avg       0.92      0.92      0.91    188967\n",
      "\n"
     ]
    }
   ],
   "source": [
    "print(classification_report(y_test, y_pred_test))"
   ]
  },
  {
   "cell_type": "code",
   "execution_count": 310,
   "id": "9b9d37bd",
   "metadata": {},
   "outputs": [
    {
     "data": {
      "text/plain": [
       "171221"
      ]
     },
     "execution_count": 310,
     "metadata": {},
     "output_type": "execute_result"
    }
   ],
   "source": [
    "n_anomalies_test"
   ]
  },
  {
   "cell_type": "markdown",
   "id": "a410f9a2",
   "metadata": {},
   "source": [
    "## Isolation Forest"
   ]
  },
  {
   "cell_type": "markdown",
   "id": "214b8e0e",
   "metadata": {},
   "source": [
    "Isolation forest is an unsupervised machine learning method that learns a functional boundary to distinguish normal from anomalious events in a contaminated dataset. Thus, the BETH training and testing datasets will be combined to create a large, contaminated training dataset."
   ]
  },
  {
   "cell_type": "code",
   "execution_count": 248,
   "id": "087c4397",
   "metadata": {},
   "outputs": [],
   "source": [
    "frames = [df_train_eng, df_test_eng]\n",
    "I_forest_train = pd.concat(frames, ignore_index=True)"
   ]
  },
  {
   "cell_type": "code",
   "execution_count": 249,
   "id": "beb8ff77",
   "metadata": {},
   "outputs": [
    {
     "data": {
      "text/plain": [
       "(952111, 18)"
      ]
     },
     "execution_count": 249,
     "metadata": {},
     "output_type": "execute_result"
    }
   ],
   "source": [
    "I_forest_train.shape"
   ]
  },
  {
   "cell_type": "code",
   "execution_count": 250,
   "id": "c29e3ebe",
   "metadata": {},
   "outputs": [
    {
     "name": "stdout",
     "output_type": "stream",
     "text": [
      "<class 'pandas.core.frame.DataFrame'>\n",
      "RangeIndex: 952111 entries, 0 to 952110\n",
      "Data columns (total 18 columns):\n",
      " #   Column           Non-Null Count   Dtype\n",
      "---  ------           --------------   -----\n",
      " 0   col_0            952111 non-null  int64\n",
      " 1   col_1            952111 non-null  int64\n",
      " 2   col_2            952111 non-null  int64\n",
      " 3   col_3            952111 non-null  int64\n",
      " 4   col_4            952111 non-null  int64\n",
      " 5   col_5            952111 non-null  int64\n",
      " 6   col_6            952111 non-null  int64\n",
      " 7   col_7            952111 non-null  int64\n",
      " 8   processId        952111 non-null  int64\n",
      " 9   threadId         952111 non-null  int64\n",
      " 10  parentProcessId  952111 non-null  int64\n",
      " 11  userId           952111 non-null  int64\n",
      " 12  mountNamespace   952111 non-null  int64\n",
      " 13  eventId          952111 non-null  int64\n",
      " 14  argsNum          952111 non-null  int64\n",
      " 15  returnValue      952111 non-null  int64\n",
      " 16  sus              952111 non-null  int64\n",
      " 17  evil             952111 non-null  int64\n",
      "dtypes: int64(18)\n",
      "memory usage: 130.8 MB\n"
     ]
    }
   ],
   "source": [
    "I_forest_train.info()"
   ]
  },
  {
   "cell_type": "code",
   "execution_count": 251,
   "id": "dca6060b",
   "metadata": {},
   "outputs": [],
   "source": [
    "I_train = I_forest_train.drop(['sus', 'evil'], axis = 1)"
   ]
  },
  {
   "cell_type": "code",
   "execution_count": 252,
   "id": "ca4b6ff0",
   "metadata": {},
   "outputs": [
    {
     "data": {
      "text/html": [
       "<div>\n",
       "<style scoped>\n",
       "    .dataframe tbody tr th:only-of-type {\n",
       "        vertical-align: middle;\n",
       "    }\n",
       "\n",
       "    .dataframe tbody tr th {\n",
       "        vertical-align: top;\n",
       "    }\n",
       "\n",
       "    .dataframe thead th {\n",
       "        text-align: right;\n",
       "    }\n",
       "</style>\n",
       "<table border=\"1\" class=\"dataframe\">\n",
       "  <thead>\n",
       "    <tr style=\"text-align: right;\">\n",
       "      <th></th>\n",
       "      <th>col_0</th>\n",
       "      <th>col_1</th>\n",
       "      <th>col_2</th>\n",
       "      <th>col_3</th>\n",
       "      <th>col_4</th>\n",
       "      <th>col_5</th>\n",
       "      <th>col_6</th>\n",
       "      <th>col_7</th>\n",
       "      <th>processId</th>\n",
       "      <th>threadId</th>\n",
       "      <th>parentProcessId</th>\n",
       "      <th>userId</th>\n",
       "      <th>mountNamespace</th>\n",
       "      <th>eventId</th>\n",
       "      <th>argsNum</th>\n",
       "      <th>returnValue</th>\n",
       "    </tr>\n",
       "  </thead>\n",
       "  <tbody>\n",
       "    <tr>\n",
       "      <th>0</th>\n",
       "      <td>0</td>\n",
       "      <td>1</td>\n",
       "      <td>0</td>\n",
       "      <td>0</td>\n",
       "      <td>0</td>\n",
       "      <td>0</td>\n",
       "      <td>0</td>\n",
       "      <td>1</td>\n",
       "      <td>0</td>\n",
       "      <td>7337</td>\n",
       "      <td>1</td>\n",
       "      <td>0</td>\n",
       "      <td>0</td>\n",
       "      <td>157</td>\n",
       "      <td>5</td>\n",
       "      <td>0</td>\n",
       "    </tr>\n",
       "    <tr>\n",
       "      <th>1</th>\n",
       "      <td>0</td>\n",
       "      <td>1</td>\n",
       "      <td>0</td>\n",
       "      <td>0</td>\n",
       "      <td>0</td>\n",
       "      <td>0</td>\n",
       "      <td>0</td>\n",
       "      <td>1</td>\n",
       "      <td>0</td>\n",
       "      <td>7337</td>\n",
       "      <td>1</td>\n",
       "      <td>0</td>\n",
       "      <td>0</td>\n",
       "      <td>3</td>\n",
       "      <td>1</td>\n",
       "      <td>0</td>\n",
       "    </tr>\n",
       "    <tr>\n",
       "      <th>2</th>\n",
       "      <td>0</td>\n",
       "      <td>1</td>\n",
       "      <td>0</td>\n",
       "      <td>0</td>\n",
       "      <td>0</td>\n",
       "      <td>0</td>\n",
       "      <td>0</td>\n",
       "      <td>1</td>\n",
       "      <td>0</td>\n",
       "      <td>7337</td>\n",
       "      <td>1</td>\n",
       "      <td>0</td>\n",
       "      <td>0</td>\n",
       "      <td>1010</td>\n",
       "      <td>0</td>\n",
       "      <td>0</td>\n",
       "    </tr>\n",
       "    <tr>\n",
       "      <th>3</th>\n",
       "      <td>0</td>\n",
       "      <td>1</td>\n",
       "      <td>0</td>\n",
       "      <td>1</td>\n",
       "      <td>0</td>\n",
       "      <td>0</td>\n",
       "      <td>0</td>\n",
       "      <td>0</td>\n",
       "      <td>0</td>\n",
       "      <td>7347</td>\n",
       "      <td>0</td>\n",
       "      <td>0</td>\n",
       "      <td>1</td>\n",
       "      <td>21</td>\n",
       "      <td>2</td>\n",
       "      <td>-1</td>\n",
       "    </tr>\n",
       "    <tr>\n",
       "      <th>4</th>\n",
       "      <td>0</td>\n",
       "      <td>1</td>\n",
       "      <td>0</td>\n",
       "      <td>1</td>\n",
       "      <td>0</td>\n",
       "      <td>0</td>\n",
       "      <td>0</td>\n",
       "      <td>0</td>\n",
       "      <td>0</td>\n",
       "      <td>7347</td>\n",
       "      <td>0</td>\n",
       "      <td>0</td>\n",
       "      <td>1</td>\n",
       "      <td>1005</td>\n",
       "      <td>4</td>\n",
       "      <td>0</td>\n",
       "    </tr>\n",
       "    <tr>\n",
       "      <th>...</th>\n",
       "      <td>...</td>\n",
       "      <td>...</td>\n",
       "      <td>...</td>\n",
       "      <td>...</td>\n",
       "      <td>...</td>\n",
       "      <td>...</td>\n",
       "      <td>...</td>\n",
       "      <td>...</td>\n",
       "      <td>...</td>\n",
       "      <td>...</td>\n",
       "      <td>...</td>\n",
       "      <td>...</td>\n",
       "      <td>...</td>\n",
       "      <td>...</td>\n",
       "      <td>...</td>\n",
       "      <td>...</td>\n",
       "    </tr>\n",
       "    <tr>\n",
       "      <th>952106</th>\n",
       "      <td>1</td>\n",
       "      <td>0</td>\n",
       "      <td>0</td>\n",
       "      <td>0</td>\n",
       "      <td>1</td>\n",
       "      <td>0</td>\n",
       "      <td>0</td>\n",
       "      <td>0</td>\n",
       "      <td>0</td>\n",
       "      <td>7555</td>\n",
       "      <td>0</td>\n",
       "      <td>1</td>\n",
       "      <td>1</td>\n",
       "      <td>42</td>\n",
       "      <td>3</td>\n",
       "      <td>-1</td>\n",
       "    </tr>\n",
       "    <tr>\n",
       "      <th>952107</th>\n",
       "      <td>1</td>\n",
       "      <td>0</td>\n",
       "      <td>0</td>\n",
       "      <td>0</td>\n",
       "      <td>1</td>\n",
       "      <td>0</td>\n",
       "      <td>0</td>\n",
       "      <td>0</td>\n",
       "      <td>0</td>\n",
       "      <td>7555</td>\n",
       "      <td>0</td>\n",
       "      <td>1</td>\n",
       "      <td>1</td>\n",
       "      <td>42</td>\n",
       "      <td>3</td>\n",
       "      <td>-1</td>\n",
       "    </tr>\n",
       "    <tr>\n",
       "      <th>952108</th>\n",
       "      <td>1</td>\n",
       "      <td>0</td>\n",
       "      <td>0</td>\n",
       "      <td>0</td>\n",
       "      <td>1</td>\n",
       "      <td>0</td>\n",
       "      <td>0</td>\n",
       "      <td>0</td>\n",
       "      <td>0</td>\n",
       "      <td>7555</td>\n",
       "      <td>0</td>\n",
       "      <td>1</td>\n",
       "      <td>1</td>\n",
       "      <td>42</td>\n",
       "      <td>3</td>\n",
       "      <td>-1</td>\n",
       "    </tr>\n",
       "    <tr>\n",
       "      <th>952109</th>\n",
       "      <td>1</td>\n",
       "      <td>0</td>\n",
       "      <td>0</td>\n",
       "      <td>0</td>\n",
       "      <td>1</td>\n",
       "      <td>0</td>\n",
       "      <td>0</td>\n",
       "      <td>0</td>\n",
       "      <td>0</td>\n",
       "      <td>7555</td>\n",
       "      <td>0</td>\n",
       "      <td>1</td>\n",
       "      <td>1</td>\n",
       "      <td>42</td>\n",
       "      <td>3</td>\n",
       "      <td>-1</td>\n",
       "    </tr>\n",
       "    <tr>\n",
       "      <th>952110</th>\n",
       "      <td>1</td>\n",
       "      <td>0</td>\n",
       "      <td>0</td>\n",
       "      <td>0</td>\n",
       "      <td>1</td>\n",
       "      <td>0</td>\n",
       "      <td>0</td>\n",
       "      <td>0</td>\n",
       "      <td>0</td>\n",
       "      <td>7555</td>\n",
       "      <td>0</td>\n",
       "      <td>1</td>\n",
       "      <td>1</td>\n",
       "      <td>42</td>\n",
       "      <td>3</td>\n",
       "      <td>-1</td>\n",
       "    </tr>\n",
       "  </tbody>\n",
       "</table>\n",
       "<p>952111 rows × 16 columns</p>\n",
       "</div>"
      ],
      "text/plain": [
       "        col_0  col_1  col_2  col_3  col_4  col_5  col_6  col_7  processId  \\\n",
       "0           0      1      0      0      0      0      0      1          0   \n",
       "1           0      1      0      0      0      0      0      1          0   \n",
       "2           0      1      0      0      0      0      0      1          0   \n",
       "3           0      1      0      1      0      0      0      0          0   \n",
       "4           0      1      0      1      0      0      0      0          0   \n",
       "...       ...    ...    ...    ...    ...    ...    ...    ...        ...   \n",
       "952106      1      0      0      0      1      0      0      0          0   \n",
       "952107      1      0      0      0      1      0      0      0          0   \n",
       "952108      1      0      0      0      1      0      0      0          0   \n",
       "952109      1      0      0      0      1      0      0      0          0   \n",
       "952110      1      0      0      0      1      0      0      0          0   \n",
       "\n",
       "        threadId  parentProcessId  userId  mountNamespace  eventId  argsNum  \\\n",
       "0           7337                1       0               0      157        5   \n",
       "1           7337                1       0               0        3        1   \n",
       "2           7337                1       0               0     1010        0   \n",
       "3           7347                0       0               1       21        2   \n",
       "4           7347                0       0               1     1005        4   \n",
       "...          ...              ...     ...             ...      ...      ...   \n",
       "952106      7555                0       1               1       42        3   \n",
       "952107      7555                0       1               1       42        3   \n",
       "952108      7555                0       1               1       42        3   \n",
       "952109      7555                0       1               1       42        3   \n",
       "952110      7555                0       1               1       42        3   \n",
       "\n",
       "        returnValue  \n",
       "0                 0  \n",
       "1                 0  \n",
       "2                 0  \n",
       "3                -1  \n",
       "4                 0  \n",
       "...             ...  \n",
       "952106           -1  \n",
       "952107           -1  \n",
       "952108           -1  \n",
       "952109           -1  \n",
       "952110           -1  \n",
       "\n",
       "[952111 rows x 16 columns]"
      ]
     },
     "execution_count": 252,
     "metadata": {},
     "output_type": "execute_result"
    }
   ],
   "source": [
    "I_train"
   ]
  },
  {
   "cell_type": "code",
   "execution_count": 254,
   "id": "2a91613d",
   "metadata": {},
   "outputs": [],
   "source": [
    "y_train = I_forest_train[\"evil\"]"
   ]
  },
  {
   "cell_type": "code",
   "execution_count": 256,
   "id": "0de47f27",
   "metadata": {},
   "outputs": [
    {
     "name": "stdout",
     "output_type": "stream",
     "text": [
      "<class 'pandas.core.series.Series'>\n",
      "RangeIndex: 952111 entries, 0 to 952110\n",
      "Series name: evil\n",
      "Non-Null Count   Dtype\n",
      "--------------   -----\n",
      "952111 non-null  int64\n",
      "dtypes: int64(1)\n",
      "memory usage: 7.3 MB\n"
     ]
    }
   ],
   "source": [
    "y_train.info()"
   ]
  },
  {
   "cell_type": "code",
   "execution_count": 257,
   "id": "9943bdab",
   "metadata": {},
   "outputs": [],
   "source": [
    "from sklearn.ensemble import IsolationForest"
   ]
  },
  {
   "cell_type": "code",
   "execution_count": 270,
   "id": "a656e956",
   "metadata": {},
   "outputs": [],
   "source": [
    "clf2 = IsolationForest(max_samples='auto')\n",
    "y_pred_train = clf2.fit_predict(I_train)"
   ]
  },
  {
   "cell_type": "code",
   "execution_count": 276,
   "id": "0cc72180",
   "metadata": {},
   "outputs": [
    {
     "data": {
      "text/plain": [
       "952111"
      ]
     },
     "execution_count": 276,
     "metadata": {},
     "output_type": "execute_result"
    }
   ],
   "source": [
    "y_pred_train.size"
   ]
  },
  {
   "cell_type": "code",
   "execution_count": 277,
   "id": "3d407492",
   "metadata": {},
   "outputs": [],
   "source": [
    "y_pred_train = [1 if i==-1 else 0 for i in y_pred_train]"
   ]
  },
  {
   "cell_type": "code",
   "execution_count": 281,
   "id": "07141bd3",
   "metadata": {},
   "outputs": [
    {
     "name": "stdout",
     "output_type": "stream",
     "text": [
      "              precision    recall  f1-score   support\n",
      "\n",
      "           0       0.79      0.68      0.73    793679\n",
      "           1       0.05      0.08      0.06    158432\n",
      "\n",
      "    accuracy                           0.58    952111\n",
      "   macro avg       0.42      0.38      0.40    952111\n",
      "weighted avg       0.67      0.58      0.62    952111\n",
      "\n"
     ]
    }
   ],
   "source": [
    "print(classification_report(y_train, y_pred_train))"
   ]
  },
  {
   "cell_type": "code",
   "execution_count": null,
   "id": "be7a4e1a",
   "metadata": {},
   "outputs": [],
   "source": []
  },
  {
   "cell_type": "markdown",
   "id": "17aeface",
   "metadata": {},
   "source": [
    "### Tune Isolation Forest Parameters"
   ]
  },
  {
   "cell_type": "code",
   "execution_count": 282,
   "id": "46b17788",
   "metadata": {},
   "outputs": [],
   "source": [
    "from sklearn.linear_model import LinearRegression\n",
    "from sklearn.model_selection import train_test_split\n",
    "from sklearn.metrics import mean_squared_error"
   ]
  },
  {
   "cell_type": "markdown",
   "id": "c453a437",
   "metadata": {},
   "source": [
    "### Find best-performing contamination parameter"
   ]
  },
  {
   "cell_type": "code",
   "execution_count": 295,
   "id": "8780faaf",
   "metadata": {},
   "outputs": [],
   "source": [
    "def evaluate_outlier_classifier(model, data):\n",
    "    #Get labels\n",
    "    labels = model.fit_predict(data)\n",
    "    \n",
    "    #Return inliers\n",
    "    return data[labels == 1]"
   ]
  },
  {
   "cell_type": "code",
   "execution_count": 296,
   "id": "7e98d6b3",
   "metadata": {},
   "outputs": [],
   "source": [
    "def evalaute_regressor(inliers):\n",
    "    X = inliers.drop([\"sus\", \"evil\"], axis = 1)\n",
    "    y = inliers[\"evil\"]\n",
    "    \n",
    "    X_train, X_test, y_train, y_test = train_test_split(X, y, random_state = 10)\n",
    "    \n",
    "    lr = LinearRegression()\n",
    "    lr.fit(X_train, y_train)\n",
    "    \n",
    "    preds = lr.predict(X_test)\n",
    "    rmse = mean_squared_error(y_test, preds, squared = False)\n",
    "    \n",
    "    return round(rmse, 3)"
   ]
  },
  {
   "cell_type": "code",
   "execution_count": 285,
   "id": "a76540f7",
   "metadata": {},
   "outputs": [
    {
     "name": "stderr",
     "output_type": "stream",
     "text": [
      "C:\\ProgramData\\Anaconda3\\lib\\site-packages\\sklearn\\base.py:450: UserWarning: X does not have valid feature names, but IsolationForest was fitted with feature names\n",
      "  warnings.warn(\n",
      "C:\\ProgramData\\Anaconda3\\lib\\site-packages\\sklearn\\base.py:450: UserWarning: X does not have valid feature names, but IsolationForest was fitted with feature names\n",
      "  warnings.warn(\n",
      "C:\\ProgramData\\Anaconda3\\lib\\site-packages\\sklearn\\base.py:450: UserWarning: X does not have valid feature names, but IsolationForest was fitted with feature names\n",
      "  warnings.warn(\n",
      "C:\\ProgramData\\Anaconda3\\lib\\site-packages\\sklearn\\base.py:450: UserWarning: X does not have valid feature names, but IsolationForest was fitted with feature names\n",
      "  warnings.warn(\n",
      "C:\\ProgramData\\Anaconda3\\lib\\site-packages\\sklearn\\base.py:450: UserWarning: X does not have valid feature names, but IsolationForest was fitted with feature names\n",
      "  warnings.warn(\n"
     ]
    }
   ],
   "source": [
    "contamination = [0.05, 0.1, 0.15, 0.2, 0.25]\n",
    "scores = dict()\n",
    "\n",
    "for c in contamination:\n",
    "    iforest = IsolationForest(contamination = c, random_state=10)\n",
    "    \n",
    "    inliers = evaluate_outlier_classifier(iforest, I_forest_train)\n",
    "    \n",
    "    scores[c] = evalaute_regressor(inliers)"
   ]
  },
  {
   "cell_type": "code",
   "execution_count": 286,
   "id": "3d80282f",
   "metadata": {},
   "outputs": [
    {
     "name": "stdout",
     "output_type": "stream",
     "text": [
      "{0.05: 0.034, 0.1: 0.022, 0.15: 0.0, 0.2: 0.0, 0.25: 0.0}\n"
     ]
    }
   ],
   "source": [
    "print(scores)"
   ]
  },
  {
   "cell_type": "code",
   "execution_count": 287,
   "id": "b0efc721",
   "metadata": {},
   "outputs": [
    {
     "name": "stderr",
     "output_type": "stream",
     "text": [
      "C:\\ProgramData\\Anaconda3\\lib\\site-packages\\sklearn\\base.py:450: UserWarning: X does not have valid feature names, but IsolationForest was fitted with feature names\n",
      "  warnings.warn(\n"
     ]
    }
   ],
   "source": [
    "clf2 = IsolationForest(contamination = 0.15)\n",
    "y_predict = clf2.fit_predict(I_train)"
   ]
  },
  {
   "cell_type": "code",
   "execution_count": 289,
   "id": "6ed20eb0",
   "metadata": {},
   "outputs": [],
   "source": [
    "y_predict = [1 if i==-1 else 0 for i in y_predict]"
   ]
  },
  {
   "cell_type": "code",
   "execution_count": 290,
   "id": "15ff3a43",
   "metadata": {},
   "outputs": [
    {
     "name": "stdout",
     "output_type": "stream",
     "text": [
      "              precision    recall  f1-score   support\n",
      "\n",
      "           0       0.82      0.84      0.83    793679\n",
      "           1       0.09      0.08      0.08    158432\n",
      "\n",
      "    accuracy                           0.71    952111\n",
      "   macro avg       0.45      0.46      0.46    952111\n",
      "weighted avg       0.70      0.71      0.70    952111\n",
      "\n"
     ]
    }
   ],
   "source": [
    "print(classification_report(y_train, y_predict))"
   ]
  },
  {
   "cell_type": "code",
   "execution_count": 330,
   "id": "f981b181",
   "metadata": {},
   "outputs": [
    {
     "name": "stdout",
     "output_type": "stream",
     "text": [
      "['__add__', '__class__', '__class_getitem__', '__contains__', '__delattr__', '__delitem__', '__dir__', '__doc__', '__eq__', '__format__', '__ge__', '__getattribute__', '__getitem__', '__gt__', '__hash__', '__iadd__', '__imul__', '__init__', '__init_subclass__', '__iter__', '__le__', '__len__', '__lt__', '__mul__', '__ne__', '__new__', '__reduce__', '__reduce_ex__', '__repr__', '__reversed__', '__rmul__', '__setattr__', '__setitem__', '__sizeof__', '__str__', '__subclasshook__', 'append', 'clear', 'copy', 'count', 'extend', 'index', 'insert', 'pop', 'remove', 'reverse', 'sort']\n"
     ]
    }
   ],
   "source": [
    "print(dir(y_predict))"
   ]
  },
  {
   "cell_type": "code",
   "execution_count": 335,
   "id": "8ac68a1b",
   "metadata": {},
   "outputs": [
    {
     "data": {
      "text/plain": [
       "142541"
      ]
     },
     "execution_count": 335,
     "metadata": {},
     "output_type": "execute_result"
    }
   ],
   "source": [
    "y_predict.count(1)"
   ]
  },
  {
   "cell_type": "markdown",
   "id": "e59158fb",
   "metadata": {},
   "source": [
    "### Tune hyperparameters"
   ]
  },
  {
   "cell_type": "code",
   "execution_count": 297,
   "id": "fe023c55",
   "metadata": {},
   "outputs": [],
   "source": [
    "from itertools import product"
   ]
  },
  {
   "cell_type": "code",
   "execution_count": 298,
   "id": "9a64924d",
   "metadata": {},
   "outputs": [],
   "source": [
    "estimators = [100, 200, 300, 500]\n",
    "max_samples = [0.6, 0.7, 0.8, 1]\n",
    "scores2 = dict()"
   ]
  },
  {
   "cell_type": "code",
   "execution_count": 300,
   "id": "fd901f4f",
   "metadata": {},
   "outputs": [
    {
     "name": "stderr",
     "output_type": "stream",
     "text": [
      "C:\\ProgramData\\Anaconda3\\lib\\site-packages\\sklearn\\base.py:450: UserWarning: X does not have valid feature names, but IsolationForest was fitted with feature names\n",
      "  warnings.warn(\n",
      "C:\\ProgramData\\Anaconda3\\lib\\site-packages\\sklearn\\base.py:450: UserWarning: X does not have valid feature names, but IsolationForest was fitted with feature names\n",
      "  warnings.warn(\n",
      "C:\\ProgramData\\Anaconda3\\lib\\site-packages\\sklearn\\base.py:450: UserWarning: X does not have valid feature names, but IsolationForest was fitted with feature names\n",
      "  warnings.warn(\n",
      "C:\\ProgramData\\Anaconda3\\lib\\site-packages\\sklearn\\base.py:450: UserWarning: X does not have valid feature names, but IsolationForest was fitted with feature names\n",
      "  warnings.warn(\n",
      "C:\\ProgramData\\Anaconda3\\lib\\site-packages\\sklearn\\base.py:450: UserWarning: X does not have valid feature names, but IsolationForest was fitted with feature names\n",
      "  warnings.warn(\n",
      "C:\\ProgramData\\Anaconda3\\lib\\site-packages\\sklearn\\base.py:450: UserWarning: X does not have valid feature names, but IsolationForest was fitted with feature names\n",
      "  warnings.warn(\n",
      "C:\\ProgramData\\Anaconda3\\lib\\site-packages\\sklearn\\base.py:450: UserWarning: X does not have valid feature names, but IsolationForest was fitted with feature names\n",
      "  warnings.warn(\n",
      "C:\\ProgramData\\Anaconda3\\lib\\site-packages\\sklearn\\base.py:450: UserWarning: X does not have valid feature names, but IsolationForest was fitted with feature names\n",
      "  warnings.warn(\n",
      "C:\\ProgramData\\Anaconda3\\lib\\site-packages\\sklearn\\base.py:450: UserWarning: X does not have valid feature names, but IsolationForest was fitted with feature names\n",
      "  warnings.warn(\n",
      "C:\\ProgramData\\Anaconda3\\lib\\site-packages\\sklearn\\base.py:450: UserWarning: X does not have valid feature names, but IsolationForest was fitted with feature names\n",
      "  warnings.warn(\n",
      "C:\\ProgramData\\Anaconda3\\lib\\site-packages\\sklearn\\base.py:450: UserWarning: X does not have valid feature names, but IsolationForest was fitted with feature names\n",
      "  warnings.warn(\n",
      "C:\\ProgramData\\Anaconda3\\lib\\site-packages\\sklearn\\base.py:450: UserWarning: X does not have valid feature names, but IsolationForest was fitted with feature names\n",
      "  warnings.warn(\n",
      "C:\\ProgramData\\Anaconda3\\lib\\site-packages\\sklearn\\base.py:450: UserWarning: X does not have valid feature names, but IsolationForest was fitted with feature names\n",
      "  warnings.warn(\n",
      "C:\\ProgramData\\Anaconda3\\lib\\site-packages\\sklearn\\base.py:450: UserWarning: X does not have valid feature names, but IsolationForest was fitted with feature names\n",
      "  warnings.warn(\n",
      "C:\\ProgramData\\Anaconda3\\lib\\site-packages\\sklearn\\base.py:450: UserWarning: X does not have valid feature names, but IsolationForest was fitted with feature names\n",
      "  warnings.warn(\n",
      "C:\\ProgramData\\Anaconda3\\lib\\site-packages\\sklearn\\base.py:450: UserWarning: X does not have valid feature names, but IsolationForest was fitted with feature names\n",
      "  warnings.warn(\n"
     ]
    }
   ],
   "source": [
    "for e, m in product(estimators, max_samples):\n",
    "    iforest = IsolationForest(n_estimators = e, max_samples = m, contamination = 0.15)\n",
    "    \n",
    "    inliers = evaluate_outlier_classifier(iforest, I_forest_train)\n",
    "    \n",
    "    scores2[(e, m)] = evalaute_regressor(inliers)"
   ]
  },
  {
   "cell_type": "code",
   "execution_count": 301,
   "id": "ba5d4f71",
   "metadata": {},
   "outputs": [
    {
     "data": {
      "text/plain": [
       "{(100, 0.6): 0.024,\n",
       " (100, 0.7): 0.025,\n",
       " (100, 0.8): 0.026,\n",
       " (100, 1): 0.072,\n",
       " (200, 0.6): 0.023,\n",
       " (200, 0.7): 0.023,\n",
       " (200, 0.8): 0.025,\n",
       " (200, 1): 0.072,\n",
       " (300, 0.6): 0.025,\n",
       " (300, 0.7): 0.026,\n",
       " (300, 0.8): 0.025,\n",
       " (300, 1): 0.072,\n",
       " (500, 0.6): 0.026,\n",
       " (500, 0.7): 0.024,\n",
       " (500, 0.8): 0.023,\n",
       " (500, 1): 0.072}"
      ]
     },
     "execution_count": 301,
     "metadata": {},
     "output_type": "execute_result"
    }
   ],
   "source": [
    "scores2"
   ]
  },
  {
   "cell_type": "code",
   "execution_count": 302,
   "id": "ce60fe22",
   "metadata": {},
   "outputs": [
    {
     "name": "stderr",
     "output_type": "stream",
     "text": [
      "C:\\ProgramData\\Anaconda3\\lib\\site-packages\\sklearn\\base.py:450: UserWarning: X does not have valid feature names, but IsolationForest was fitted with feature names\n",
      "  warnings.warn(\n"
     ]
    }
   ],
   "source": [
    "clf3 = IsolationForest(n_estimators = 200, max_samples = 0.6, contamination = 0.15)\n",
    "y_predicted = clf3.fit_predict(I_train)"
   ]
  },
  {
   "cell_type": "code",
   "execution_count": 303,
   "id": "8d26d1e2",
   "metadata": {},
   "outputs": [],
   "source": [
    "y_predicted = [1 if i==-1 else 0 for i in y_predicted]"
   ]
  },
  {
   "cell_type": "code",
   "execution_count": 304,
   "id": "c967221e",
   "metadata": {},
   "outputs": [
    {
     "name": "stdout",
     "output_type": "stream",
     "text": [
      "              precision    recall  f1-score   support\n",
      "\n",
      "           0       0.82      0.83      0.82    793679\n",
      "           1       0.07      0.06      0.06    158432\n",
      "\n",
      "    accuracy                           0.70    952111\n",
      "   macro avg       0.44      0.45      0.44    952111\n",
      "weighted avg       0.69      0.70      0.70    952111\n",
      "\n"
     ]
    }
   ],
   "source": [
    "print(classification_report(y_train, y_predicted))"
   ]
  },
  {
   "cell_type": "code",
   "execution_count": null,
   "id": "e59c0d45",
   "metadata": {},
   "outputs": [],
   "source": []
  }
 ],
 "metadata": {
  "kernelspec": {
   "display_name": "Python 3 (ipykernel)",
   "language": "python",
   "name": "python3"
  },
  "language_info": {
   "codemirror_mode": {
    "name": "ipython",
    "version": 3
   },
   "file_extension": ".py",
   "mimetype": "text/x-python",
   "name": "python",
   "nbconvert_exporter": "python",
   "pygments_lexer": "ipython3",
   "version": "3.9.12"
  }
 },
 "nbformat": 4,
 "nbformat_minor": 5
}
